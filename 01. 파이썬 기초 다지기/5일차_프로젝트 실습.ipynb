{
 "cells": [
  {
   "cell_type": "code",
   "execution_count": 1,
   "id": "f686f694-f1ee-40de-a808-8eeefa303e35",
   "metadata": {},
   "outputs": [],
   "source": [
    "import pandas as pd"
   ]
  },
  {
   "cell_type": "code",
   "execution_count": 3,
   "id": "f36d574d-be23-45e2-80d1-4e63166883e6",
   "metadata": {},
   "outputs": [],
   "source": [
    "selloutData = \\\n",
    "    pd.read_csv(\"../dataset/kopo_channel_seasonality_new.csv\")"
   ]
  },
  {
   "cell_type": "markdown",
   "id": "5c319c9a-ac89-4e84-a56e-8783c9a155d4",
   "metadata": {},
   "source": [
    "[데이터타입 통합]\n",
    "kopo_channel_seasonality_new.csv 파일을 불러온 후\n",
    "selloutData 변수에 담으세요 이후 \n",
    "QTY컬럼→실수(float), 이외컬럼→문자(str)로 변경하세요"
   ]
  },
  {
   "cell_type": "markdown",
   "id": "c0a94de6-806e-4be1-baf7-1bb967ad06b2",
   "metadata": {},
   "source": [
    "### A.데이터 전처리"
   ]
  },
  {
   "cell_type": "markdown",
   "id": "0de325eb-d8e5-46cf-a604-45a9f3d187f7",
   "metadata": {},
   "source": [
    "### A-1. 타입 통합 및 불량데이터 처리"
   ]
  },
  {
   "cell_type": "code",
   "execution_count": 17,
   "id": "0bfd3d29-2793-40e8-8fc8-202aeae2091f",
   "metadata": {},
   "outputs": [],
   "source": [
    "allColumns = list(selloutData.columns)"
   ]
  },
  {
   "cell_type": "code",
   "execution_count": 18,
   "id": "8050e852-7985-40a1-807e-8d292521eed9",
   "metadata": {},
   "outputs": [],
   "source": [
    "for i in range(0, len(allColumns)):\n",
    "    selloutData[ allColumns[i] ] = selloutData[ allColumns[i] ].astype(str)"
   ]
  },
  {
   "cell_type": "code",
   "execution_count": 19,
   "id": "c0cbafa9-6298-47a4-9d6b-3282e56cc5e1",
   "metadata": {},
   "outputs": [],
   "source": [
    "selloutData.QTY = selloutData.QTY.astype(float)"
   ]
  },
  {
   "cell_type": "markdown",
   "id": "a908cae4-9919-445b-8f53-6f60c900166e",
   "metadata": {},
   "source": [
    "[불량 데이터 처리]\n",
    "kopo_channel_seasonality_new.csv 자료를 담은 \n",
    "selloutData 변수에서\n",
    "QTY컬럼 음수(반품)인 경우 0, 양수인 경우 기존 QTY 값\u000b",
    "유지하는 로직을 적용하여 QTY_NEW 컬럼을 추가하세요\n"
   ]
  },
  {
   "cell_type": "code",
   "execution_count": 23,
   "id": "206c2feb-b754-4ffa-a016-21f4f20d92b8",
   "metadata": {},
   "outputs": [],
   "source": [
    "selloutData.loc[selloutData.QTY < 0,\"NEW_QTY\" ] = 0\n",
    "selloutData.loc[selloutData.QTY >= 0,\"NEW_QTY\" ] = selloutData.QTY"
   ]
  },
  {
   "cell_type": "code",
   "execution_count": 29,
   "id": "88827481-d7eb-4f51-9050-659cadd82381",
   "metadata": {},
   "outputs": [
    {
     "data": {
      "text/html": [
       "<div>\n",
       "<style scoped>\n",
       "    .dataframe tbody tr th:only-of-type {\n",
       "        vertical-align: middle;\n",
       "    }\n",
       "\n",
       "    .dataframe tbody tr th {\n",
       "        vertical-align: top;\n",
       "    }\n",
       "\n",
       "    .dataframe thead th {\n",
       "        text-align: right;\n",
       "    }\n",
       "</style>\n",
       "<table border=\"1\" class=\"dataframe\">\n",
       "  <thead>\n",
       "    <tr style=\"text-align: right;\">\n",
       "      <th></th>\n",
       "      <th>REGIONID</th>\n",
       "      <th>PRODUCT</th>\n",
       "      <th>YEARWEEK</th>\n",
       "      <th>QTY</th>\n",
       "      <th>NEW_QTY</th>\n",
       "    </tr>\n",
       "  </thead>\n",
       "  <tbody>\n",
       "  </tbody>\n",
       "</table>\n",
       "</div>"
      ],
      "text/plain": [
       "Empty DataFrame\n",
       "Columns: [REGIONID, PRODUCT, YEARWEEK, QTY, NEW_QTY]\n",
       "Index: []"
      ]
     },
     "execution_count": 29,
     "metadata": {},
     "output_type": "execute_result"
    }
   ],
   "source": [
    "selloutData.loc[ (selloutData.QTY < 0) & \n",
    "                 (selloutData.NEW_QTY != 0) ]"
   ]
  },
  {
   "cell_type": "code",
   "execution_count": 30,
   "id": "07b8409c-2ad3-4ee8-85ec-e6d5c56faee2",
   "metadata": {},
   "outputs": [
    {
     "data": {
      "text/html": [
       "<div>\n",
       "<style scoped>\n",
       "    .dataframe tbody tr th:only-of-type {\n",
       "        vertical-align: middle;\n",
       "    }\n",
       "\n",
       "    .dataframe tbody tr th {\n",
       "        vertical-align: top;\n",
       "    }\n",
       "\n",
       "    .dataframe thead th {\n",
       "        text-align: right;\n",
       "    }\n",
       "</style>\n",
       "<table border=\"1\" class=\"dataframe\">\n",
       "  <thead>\n",
       "    <tr style=\"text-align: right;\">\n",
       "      <th></th>\n",
       "      <th>REGIONID</th>\n",
       "      <th>PRODUCT</th>\n",
       "      <th>YEARWEEK</th>\n",
       "      <th>QTY</th>\n",
       "      <th>NEW_QTY</th>\n",
       "    </tr>\n",
       "  </thead>\n",
       "  <tbody>\n",
       "  </tbody>\n",
       "</table>\n",
       "</div>"
      ],
      "text/plain": [
       "Empty DataFrame\n",
       "Columns: [REGIONID, PRODUCT, YEARWEEK, QTY, NEW_QTY]\n",
       "Index: []"
      ]
     },
     "execution_count": 30,
     "metadata": {},
     "output_type": "execute_result"
    }
   ],
   "source": [
    "selloutData.loc[ (selloutData.QTY > 0) & \n",
    "                 (selloutData.NEW_QTY != selloutData.QTY) ]"
   ]
  },
  {
   "cell_type": "markdown",
   "id": "412021a7-0e96-4145-82ef-8c940424999e",
   "metadata": {},
   "source": [
    "[데이터 통합]\n",
    "selloutData 자료에서 \n",
    "YEAR, WEEK 컬럼을 생성하고53주차를 제거한다!!!\n"
   ]
  },
  {
   "cell_type": "code",
   "execution_count": 33,
   "id": "b513c0c0-a7a6-49ef-8c42-b7fd15858262",
   "metadata": {},
   "outputs": [],
   "source": [
    "selloutData[\"YEAR\"] = selloutData[\"YEARWEEK\"].str[0:4]\n",
    "selloutData[\"WEEK\"] = selloutData[\"YEARWEEK\"].str[4:6]"
   ]
  },
  {
   "cell_type": "code",
   "execution_count": 157,
   "id": "5d87323e-ef53-4369-97e8-00482989111b",
   "metadata": {},
   "outputs": [],
   "source": [
    "refinedSelloutData = selloutData.loc[selloutData.WEEK!=53]"
   ]
  },
  {
   "cell_type": "code",
   "execution_count": 148,
   "id": "80ed2f97-959a-4d30-ab14-7d781386ff26",
   "metadata": {},
   "outputs": [],
   "source": [
    "sortKey = [\"REGIONID\",\"PRODUCT\",\"YEARWEEK\"]"
   ]
  },
  {
   "cell_type": "code",
   "execution_count": 149,
   "id": "0b451091-de2d-460e-901f-024ce5d12fab",
   "metadata": {},
   "outputs": [],
   "source": [
    "sortedData = selloutData.sort_values(sortKey)"
   ]
  },
  {
   "cell_type": "code",
   "execution_count": 150,
   "id": "492fed3f-f36c-4e5b-9562-858ee103b059",
   "metadata": {},
   "outputs": [],
   "source": [
    "groupKey = [\"REGIONID\",\"PRODUCT\",\"YEAR\"]"
   ]
  },
  {
   "cell_type": "code",
   "execution_count": 155,
   "id": "bd946ff3-c3e9-475d-a455-0894190c3f84",
   "metadata": {},
   "outputs": [],
   "source": [
    "groupData = \\\n",
    "    sortedData.groupby(groupKey)[[\"QTY\"]].agg(\"mean\").reset_index()"
   ]
  },
  {
   "cell_type": "code",
   "execution_count": 162,
   "id": "643add1f-f0bb-4c18-92b9-b55e6cd72fdc",
   "metadata": {},
   "outputs": [],
   "source": [
    "groupData = groupData.rename(columns={\"QTY\":\"QTY_MEAN\"})"
   ]
  },
  {
   "cell_type": "code",
   "execution_count": 163,
   "id": "22361ff4-258d-4425-bfae-65999f14bf58",
   "metadata": {},
   "outputs": [],
   "source": [
    "joinKey = [\"REGIONID\",\"PRODUCT\",\"YEAR\"]"
   ]
  },
  {
   "cell_type": "code",
   "execution_count": 166,
   "id": "ac59cad0-7f38-4ca9-9731-43a7488c924a",
   "metadata": {},
   "outputs": [],
   "source": [
    "mergedData = pd.merge(left=refinedSelloutData,\n",
    "         right=groupData,\n",
    "         how=\"left\",\n",
    "         on = joinKey)"
   ]
  },
  {
   "cell_type": "code",
   "execution_count": 170,
   "id": "96a3c0cf-51c2-4704-9fe3-c8cfa5a13703",
   "metadata": {},
   "outputs": [
    {
     "data": {
      "text/html": [
       "<div>\n",
       "<style scoped>\n",
       "    .dataframe tbody tr th:only-of-type {\n",
       "        vertical-align: middle;\n",
       "    }\n",
       "\n",
       "    .dataframe tbody tr th {\n",
       "        vertical-align: top;\n",
       "    }\n",
       "\n",
       "    .dataframe thead th {\n",
       "        text-align: right;\n",
       "    }\n",
       "</style>\n",
       "<table border=\"1\" class=\"dataframe\">\n",
       "  <thead>\n",
       "    <tr style=\"text-align: right;\">\n",
       "      <th></th>\n",
       "      <th>REGIONID</th>\n",
       "      <th>PRODUCT</th>\n",
       "      <th>YEARWEEK</th>\n",
       "      <th>QTY</th>\n",
       "      <th>NEW_QTY</th>\n",
       "      <th>YEAR</th>\n",
       "      <th>WEEK</th>\n",
       "      <th>QTY_MEAN</th>\n",
       "      <th>SEASONALITY</th>\n",
       "    </tr>\n",
       "  </thead>\n",
       "  <tbody>\n",
       "    <tr>\n",
       "      <th>298</th>\n",
       "      <td>A00</td>\n",
       "      <td>PRODUCT34</td>\n",
       "      <td>201401</td>\n",
       "      <td>661.0</td>\n",
       "      <td>661.0</td>\n",
       "      <td>2014</td>\n",
       "      <td>01</td>\n",
       "      <td>275.961538</td>\n",
       "      <td>2.395261</td>\n",
       "    </tr>\n",
       "    <tr>\n",
       "      <th>1757</th>\n",
       "      <td>A00</td>\n",
       "      <td>PRODUCT34</td>\n",
       "      <td>201402</td>\n",
       "      <td>679.0</td>\n",
       "      <td>679.0</td>\n",
       "      <td>2014</td>\n",
       "      <td>02</td>\n",
       "      <td>275.961538</td>\n",
       "      <td>2.460488</td>\n",
       "    </tr>\n",
       "    <tr>\n",
       "      <th>3125</th>\n",
       "      <td>A00</td>\n",
       "      <td>PRODUCT34</td>\n",
       "      <td>201403</td>\n",
       "      <td>578.0</td>\n",
       "      <td>578.0</td>\n",
       "      <td>2014</td>\n",
       "      <td>03</td>\n",
       "      <td>275.961538</td>\n",
       "      <td>2.094495</td>\n",
       "    </tr>\n",
       "    <tr>\n",
       "      <th>205</th>\n",
       "      <td>A00</td>\n",
       "      <td>PRODUCT34</td>\n",
       "      <td>201404</td>\n",
       "      <td>532.0</td>\n",
       "      <td>532.0</td>\n",
       "      <td>2014</td>\n",
       "      <td>04</td>\n",
       "      <td>275.961538</td>\n",
       "      <td>1.927805</td>\n",
       "    </tr>\n",
       "    <tr>\n",
       "      <th>4369</th>\n",
       "      <td>A00</td>\n",
       "      <td>PRODUCT34</td>\n",
       "      <td>201405</td>\n",
       "      <td>516.0</td>\n",
       "      <td>516.0</td>\n",
       "      <td>2014</td>\n",
       "      <td>05</td>\n",
       "      <td>275.961538</td>\n",
       "      <td>1.869826</td>\n",
       "    </tr>\n",
       "    <tr>\n",
       "      <th>...</th>\n",
       "      <td>...</td>\n",
       "      <td>...</td>\n",
       "      <td>...</td>\n",
       "      <td>...</td>\n",
       "      <td>...</td>\n",
       "      <td>...</td>\n",
       "      <td>...</td>\n",
       "      <td>...</td>\n",
       "      <td>...</td>\n",
       "    </tr>\n",
       "    <tr>\n",
       "      <th>102292</th>\n",
       "      <td>A77</td>\n",
       "      <td>PRODUCT12</td>\n",
       "      <td>201648</td>\n",
       "      <td>4152.0</td>\n",
       "      <td>4152.0</td>\n",
       "      <td>2016</td>\n",
       "      <td>48</td>\n",
       "      <td>4837.153846</td>\n",
       "      <td>0.858356</td>\n",
       "    </tr>\n",
       "    <tr>\n",
       "      <th>97525</th>\n",
       "      <td>A77</td>\n",
       "      <td>PRODUCT12</td>\n",
       "      <td>201649</td>\n",
       "      <td>5086.0</td>\n",
       "      <td>5086.0</td>\n",
       "      <td>2016</td>\n",
       "      <td>49</td>\n",
       "      <td>4837.153846</td>\n",
       "      <td>1.051445</td>\n",
       "    </tr>\n",
       "    <tr>\n",
       "      <th>102329</th>\n",
       "      <td>A77</td>\n",
       "      <td>PRODUCT12</td>\n",
       "      <td>201650</td>\n",
       "      <td>5846.0</td>\n",
       "      <td>5846.0</td>\n",
       "      <td>2016</td>\n",
       "      <td>50</td>\n",
       "      <td>4837.153846</td>\n",
       "      <td>1.208562</td>\n",
       "    </tr>\n",
       "    <tr>\n",
       "      <th>101211</th>\n",
       "      <td>A77</td>\n",
       "      <td>PRODUCT12</td>\n",
       "      <td>201651</td>\n",
       "      <td>4933.0</td>\n",
       "      <td>4933.0</td>\n",
       "      <td>2016</td>\n",
       "      <td>51</td>\n",
       "      <td>4837.153846</td>\n",
       "      <td>1.019815</td>\n",
       "    </tr>\n",
       "    <tr>\n",
       "      <th>92325</th>\n",
       "      <td>A77</td>\n",
       "      <td>PRODUCT12</td>\n",
       "      <td>201652</td>\n",
       "      <td>7551.0</td>\n",
       "      <td>7551.0</td>\n",
       "      <td>2016</td>\n",
       "      <td>52</td>\n",
       "      <td>4837.153846</td>\n",
       "      <td>1.561042</td>\n",
       "    </tr>\n",
       "  </tbody>\n",
       "</table>\n",
       "<p>124658 rows × 9 columns</p>\n",
       "</div>"
      ],
      "text/plain": [
       "       REGIONID    PRODUCT YEARWEEK     QTY  NEW_QTY  YEAR WEEK     QTY_MEAN  \\\n",
       "298         A00  PRODUCT34   201401   661.0    661.0  2014   01   275.961538   \n",
       "1757        A00  PRODUCT34   201402   679.0    679.0  2014   02   275.961538   \n",
       "3125        A00  PRODUCT34   201403   578.0    578.0  2014   03   275.961538   \n",
       "205         A00  PRODUCT34   201404   532.0    532.0  2014   04   275.961538   \n",
       "4369        A00  PRODUCT34   201405   516.0    516.0  2014   05   275.961538   \n",
       "...         ...        ...      ...     ...      ...   ...  ...          ...   \n",
       "102292      A77  PRODUCT12   201648  4152.0   4152.0  2016   48  4837.153846   \n",
       "97525       A77  PRODUCT12   201649  5086.0   5086.0  2016   49  4837.153846   \n",
       "102329      A77  PRODUCT12   201650  5846.0   5846.0  2016   50  4837.153846   \n",
       "101211      A77  PRODUCT12   201651  4933.0   4933.0  2016   51  4837.153846   \n",
       "92325       A77  PRODUCT12   201652  7551.0   7551.0  2016   52  4837.153846   \n",
       "\n",
       "        SEASONALITY  \n",
       "298        2.395261  \n",
       "1757       2.460488  \n",
       "3125       2.094495  \n",
       "205        1.927805  \n",
       "4369       1.869826  \n",
       "...             ...  \n",
       "102292     0.858356  \n",
       "97525      1.051445  \n",
       "102329     1.208562  \n",
       "101211     1.019815  \n",
       "92325      1.561042  \n",
       "\n",
       "[124658 rows x 9 columns]"
      ]
     },
     "execution_count": 170,
     "metadata": {},
     "output_type": "execute_result"
    }
   ],
   "source": [
    "finalData = mergedData.sort_values(by=sortKey)\n",
    "finalData[\"SEASONALITY\"] = finalData[\"QTY\"] / finalData[\"QTY_MEAN\"]\n",
    "finalData"
   ]
  },
  {
   "cell_type": "code",
   "execution_count": 171,
   "id": "1a6a36d9-2226-4a32-b280-1386bcca36f7",
   "metadata": {},
   "outputs": [],
   "source": [
    "groupKey2 = [\"REGIONID\",\"PRODUCT\",\"WEEK\"]"
   ]
  },
  {
   "cell_type": "code",
   "execution_count": 175,
   "id": "87593db8-cf21-4405-b15e-6a5761bccd84",
   "metadata": {},
   "outputs": [
    {
     "data": {
      "text/html": [
       "<div>\n",
       "<style scoped>\n",
       "    .dataframe tbody tr th:only-of-type {\n",
       "        vertical-align: middle;\n",
       "    }\n",
       "\n",
       "    .dataframe tbody tr th {\n",
       "        vertical-align: top;\n",
       "    }\n",
       "\n",
       "    .dataframe thead th {\n",
       "        text-align: right;\n",
       "    }\n",
       "</style>\n",
       "<table border=\"1\" class=\"dataframe\">\n",
       "  <thead>\n",
       "    <tr style=\"text-align: right;\">\n",
       "      <th></th>\n",
       "      <th>REGIONID</th>\n",
       "      <th>PRODUCT</th>\n",
       "      <th>WEEK</th>\n",
       "      <th>mean</th>\n",
       "    </tr>\n",
       "  </thead>\n",
       "  <tbody>\n",
       "    <tr>\n",
       "      <th>0</th>\n",
       "      <td>A00</td>\n",
       "      <td>PRODUCT34</td>\n",
       "      <td>01</td>\n",
       "      <td>1.577131</td>\n",
       "    </tr>\n",
       "    <tr>\n",
       "      <th>1</th>\n",
       "      <td>A00</td>\n",
       "      <td>PRODUCT34</td>\n",
       "      <td>02</td>\n",
       "      <td>1.763571</td>\n",
       "    </tr>\n",
       "    <tr>\n",
       "      <th>2</th>\n",
       "      <td>A00</td>\n",
       "      <td>PRODUCT34</td>\n",
       "      <td>03</td>\n",
       "      <td>1.323958</td>\n",
       "    </tr>\n",
       "    <tr>\n",
       "      <th>3</th>\n",
       "      <td>A00</td>\n",
       "      <td>PRODUCT34</td>\n",
       "      <td>04</td>\n",
       "      <td>1.496774</td>\n",
       "    </tr>\n",
       "    <tr>\n",
       "      <th>4</th>\n",
       "      <td>A00</td>\n",
       "      <td>PRODUCT34</td>\n",
       "      <td>05</td>\n",
       "      <td>1.064810</td>\n",
       "    </tr>\n",
       "    <tr>\n",
       "      <th>...</th>\n",
       "      <td>...</td>\n",
       "      <td>...</td>\n",
       "      <td>...</td>\n",
       "      <td>...</td>\n",
       "    </tr>\n",
       "    <tr>\n",
       "      <th>42077</th>\n",
       "      <td>A77</td>\n",
       "      <td>PRODUCT12</td>\n",
       "      <td>49</td>\n",
       "      <td>1.093556</td>\n",
       "    </tr>\n",
       "    <tr>\n",
       "      <th>42078</th>\n",
       "      <td>A77</td>\n",
       "      <td>PRODUCT12</td>\n",
       "      <td>50</td>\n",
       "      <td>1.385585</td>\n",
       "    </tr>\n",
       "    <tr>\n",
       "      <th>42079</th>\n",
       "      <td>A77</td>\n",
       "      <td>PRODUCT12</td>\n",
       "      <td>51</td>\n",
       "      <td>1.254739</td>\n",
       "    </tr>\n",
       "    <tr>\n",
       "      <th>42080</th>\n",
       "      <td>A77</td>\n",
       "      <td>PRODUCT12</td>\n",
       "      <td>52</td>\n",
       "      <td>1.387482</td>\n",
       "    </tr>\n",
       "    <tr>\n",
       "      <th>42081</th>\n",
       "      <td>A77</td>\n",
       "      <td>PRODUCT12</td>\n",
       "      <td>53</td>\n",
       "      <td>1.068354</td>\n",
       "    </tr>\n",
       "  </tbody>\n",
       "</table>\n",
       "<p>42082 rows × 4 columns</p>\n",
       "</div>"
      ],
      "text/plain": [
       "      REGIONID    PRODUCT WEEK      mean\n",
       "0          A00  PRODUCT34   01  1.577131\n",
       "1          A00  PRODUCT34   02  1.763571\n",
       "2          A00  PRODUCT34   03  1.323958\n",
       "3          A00  PRODUCT34   04  1.496774\n",
       "4          A00  PRODUCT34   05  1.064810\n",
       "...        ...        ...  ...       ...\n",
       "42077      A77  PRODUCT12   49  1.093556\n",
       "42078      A77  PRODUCT12   50  1.385585\n",
       "42079      A77  PRODUCT12   51  1.254739\n",
       "42080      A77  PRODUCT12   52  1.387482\n",
       "42081      A77  PRODUCT12   53  1.068354\n",
       "\n",
       "[42082 rows x 4 columns]"
      ]
     },
     "execution_count": 175,
     "metadata": {},
     "output_type": "execute_result"
    }
   ],
   "source": [
    "seaonData = finalData.groupby(groupKey2)[\"SEASONALITY\"].agg([\"mean\"]).reset_index()\n",
    "seaonData"
   ]
  },
  {
   "cell_type": "markdown",
   "id": "bb9cfd57-8e8a-46ae-8b82-5b75af555d16",
   "metadata": {},
   "source": [
    "# 1. 데이터 이후"
   ]
  },
  {
   "cell_type": "code",
   "execution_count": 38,
   "id": "d6e79824-c626-4075-8a0f-977d48ff1fef",
   "metadata": {},
   "outputs": [],
   "source": [
    "refinedData = \\\n",
    "    selloutData.loc[selloutData.WEEK != exceptWeek ]"
   ]
  },
  {
   "cell_type": "code",
   "execution_count": 77,
   "id": "4aca4bab-2dcc-47cb-8355-4ac1983e0653",
   "metadata": {},
   "outputs": [],
   "source": [
    "groupKey = [\"REGIONID\",\"PRODUCT\"]"
   ]
  },
  {
   "cell_type": "code",
   "execution_count": 82,
   "id": "14662f15-f3d6-47a4-9423-1ee86369ae90",
   "metadata": {},
   "outputs": [],
   "source": [
    "groupData = selloutData.groupby(groupKey)[\"QTY\"].agg([\"mean\"]).reset_index()"
   ]
  },
  {
   "cell_type": "code",
   "execution_count": 86,
   "id": "bf45a931-f0c7-4d37-9326-4fba518f733e",
   "metadata": {},
   "outputs": [],
   "source": [
    "groupData2 = groupData.rename(columns={\"mean\":\"QTY_MEAN\"})"
   ]
  },
  {
   "cell_type": "code",
   "execution_count": 87,
   "id": "7a58c1f1-ebd8-467f-a0c4-dfffb8164c81",
   "metadata": {},
   "outputs": [
    {
     "data": {
      "text/html": [
       "<div>\n",
       "<style scoped>\n",
       "    .dataframe tbody tr th:only-of-type {\n",
       "        vertical-align: middle;\n",
       "    }\n",
       "\n",
       "    .dataframe tbody tr th {\n",
       "        vertical-align: top;\n",
       "    }\n",
       "\n",
       "    .dataframe thead th {\n",
       "        text-align: right;\n",
       "    }\n",
       "</style>\n",
       "<table border=\"1\" class=\"dataframe\">\n",
       "  <thead>\n",
       "    <tr style=\"text-align: right;\">\n",
       "      <th></th>\n",
       "      <th>REGIONID</th>\n",
       "      <th>PRODUCT</th>\n",
       "      <th>QTY_MEAN</th>\n",
       "    </tr>\n",
       "  </thead>\n",
       "  <tbody>\n",
       "    <tr>\n",
       "      <th>0</th>\n",
       "      <td>A00</td>\n",
       "      <td>PRODUCT34</td>\n",
       "      <td>132.445860</td>\n",
       "    </tr>\n",
       "    <tr>\n",
       "      <th>1</th>\n",
       "      <td>A00</td>\n",
       "      <td>PRODUCT58</td>\n",
       "      <td>105.235669</td>\n",
       "    </tr>\n",
       "    <tr>\n",
       "      <th>2</th>\n",
       "      <td>A00</td>\n",
       "      <td>PRODUCT59</td>\n",
       "      <td>36086.547771</td>\n",
       "    </tr>\n",
       "    <tr>\n",
       "      <th>3</th>\n",
       "      <td>A01</td>\n",
       "      <td>PRODUCT1</td>\n",
       "      <td>5716.726115</td>\n",
       "    </tr>\n",
       "    <tr>\n",
       "      <th>4</th>\n",
       "      <td>A01</td>\n",
       "      <td>PRODUCT12</td>\n",
       "      <td>197052.777070</td>\n",
       "    </tr>\n",
       "    <tr>\n",
       "      <th>...</th>\n",
       "      <td>...</td>\n",
       "      <td>...</td>\n",
       "      <td>...</td>\n",
       "    </tr>\n",
       "    <tr>\n",
       "      <th>789</th>\n",
       "      <td>A70</td>\n",
       "      <td>PRODUCT34</td>\n",
       "      <td>2165.585987</td>\n",
       "    </tr>\n",
       "    <tr>\n",
       "      <th>790</th>\n",
       "      <td>A70</td>\n",
       "      <td>PRODUCT58</td>\n",
       "      <td>61.496815</td>\n",
       "    </tr>\n",
       "    <tr>\n",
       "      <th>791</th>\n",
       "      <td>A70</td>\n",
       "      <td>PRODUCT59</td>\n",
       "      <td>69471.617834</td>\n",
       "    </tr>\n",
       "    <tr>\n",
       "      <th>792</th>\n",
       "      <td>A77</td>\n",
       "      <td>PRODUCT1</td>\n",
       "      <td>2890.745223</td>\n",
       "    </tr>\n",
       "    <tr>\n",
       "      <th>793</th>\n",
       "      <td>A77</td>\n",
       "      <td>PRODUCT12</td>\n",
       "      <td>3473.324841</td>\n",
       "    </tr>\n",
       "  </tbody>\n",
       "</table>\n",
       "<p>794 rows × 3 columns</p>\n",
       "</div>"
      ],
      "text/plain": [
       "    REGIONID    PRODUCT       QTY_MEAN\n",
       "0        A00  PRODUCT34     132.445860\n",
       "1        A00  PRODUCT58     105.235669\n",
       "2        A00  PRODUCT59   36086.547771\n",
       "3        A01   PRODUCT1    5716.726115\n",
       "4        A01  PRODUCT12  197052.777070\n",
       "..       ...        ...            ...\n",
       "789      A70  PRODUCT34    2165.585987\n",
       "790      A70  PRODUCT58      61.496815\n",
       "791      A70  PRODUCT59   69471.617834\n",
       "792      A77   PRODUCT1    2890.745223\n",
       "793      A77  PRODUCT12    3473.324841\n",
       "\n",
       "[794 rows x 3 columns]"
      ]
     },
     "execution_count": 87,
     "metadata": {},
     "output_type": "execute_result"
    }
   ],
   "source": [
    "groupData2"
   ]
  },
  {
   "cell_type": "markdown",
   "id": "cf432320-61fe-442a-a0dc-6d84353a4828",
   "metadata": {},
   "source": [
    "# 조인"
   ]
  },
  {
   "cell_type": "code",
   "execution_count": 90,
   "id": "ba6bf694-aebd-4e77-ad48-13c2d66df9fd",
   "metadata": {},
   "outputs": [],
   "source": [
    "joinMaster = \\\n",
    "    pd.read_csv(\"../dataset/join_region_master.csv\", encoding=\"ms949\")"
   ]
  },
  {
   "cell_type": "code",
   "execution_count": 91,
   "id": "fb6b1644-f047-45af-8bf7-8b3c28022046",
   "metadata": {},
   "outputs": [],
   "source": [
    "joinSellout = \\\n",
    "    pd.read_csv(\"../dataset/join_kopo_product_volume.csv\")"
   ]
  },
  {
   "cell_type": "code",
   "execution_count": 98,
   "id": "fb5205b3-bd93-4a1a-8208-981b681a624c",
   "metadata": {},
   "outputs": [
    {
     "data": {
      "text/html": [
       "<div>\n",
       "<style scoped>\n",
       "    .dataframe tbody tr th:only-of-type {\n",
       "        vertical-align: middle;\n",
       "    }\n",
       "\n",
       "    .dataframe tbody tr th {\n",
       "        vertical-align: top;\n",
       "    }\n",
       "\n",
       "    .dataframe thead th {\n",
       "        text-align: right;\n",
       "    }\n",
       "</style>\n",
       "<table border=\"1\" class=\"dataframe\">\n",
       "  <thead>\n",
       "    <tr style=\"text-align: right;\">\n",
       "      <th></th>\n",
       "      <th>REGIONID</th>\n",
       "      <th>PRODUCT</th>\n",
       "      <th>YEARWEEK</th>\n",
       "      <th>QTY</th>\n",
       "    </tr>\n",
       "  </thead>\n",
       "  <tbody>\n",
       "    <tr>\n",
       "      <th>0</th>\n",
       "      <td>A01</td>\n",
       "      <td>ST0001</td>\n",
       "      <td>201901</td>\n",
       "      <td>3000</td>\n",
       "    </tr>\n",
       "    <tr>\n",
       "      <th>1</th>\n",
       "      <td>A01</td>\n",
       "      <td>ST0001</td>\n",
       "      <td>201902</td>\n",
       "      <td>3500</td>\n",
       "    </tr>\n",
       "    <tr>\n",
       "      <th>2</th>\n",
       "      <td>A02</td>\n",
       "      <td>ST0002</td>\n",
       "      <td>201901</td>\n",
       "      <td>4000</td>\n",
       "    </tr>\n",
       "    <tr>\n",
       "      <th>3</th>\n",
       "      <td>A02</td>\n",
       "      <td>ST0003</td>\n",
       "      <td>201902</td>\n",
       "      <td>7000</td>\n",
       "    </tr>\n",
       "  </tbody>\n",
       "</table>\n",
       "</div>"
      ],
      "text/plain": [
       "  REGIONID PRODUCT  YEARWEEK   QTY\n",
       "0      A01  ST0001    201901  3000\n",
       "1      A01  ST0001    201902  3500\n",
       "2      A02  ST0002    201901  4000\n",
       "3      A02  ST0003    201902  7000"
      ]
     },
     "execution_count": 98,
     "metadata": {},
     "output_type": "execute_result"
    }
   ],
   "source": [
    "joinSellout"
   ]
  },
  {
   "cell_type": "code",
   "execution_count": 99,
   "id": "693e000e-9147-4e67-bdb9-61d84fd1c5e6",
   "metadata": {},
   "outputs": [],
   "source": [
    "joinKey = [\"REGIONID\"]"
   ]
  },
  {
   "cell_type": "code",
   "execution_count": 106,
   "id": "fe645fe8-0ccd-4320-815a-2acfd853cffe",
   "metadata": {},
   "outputs": [
    {
     "data": {
      "text/html": [
       "<div>\n",
       "<style scoped>\n",
       "    .dataframe tbody tr th:only-of-type {\n",
       "        vertical-align: middle;\n",
       "    }\n",
       "\n",
       "    .dataframe tbody tr th {\n",
       "        vertical-align: top;\n",
       "    }\n",
       "\n",
       "    .dataframe thead th {\n",
       "        text-align: right;\n",
       "    }\n",
       "</style>\n",
       "<table border=\"1\" class=\"dataframe\">\n",
       "  <thead>\n",
       "    <tr style=\"text-align: right;\">\n",
       "      <th></th>\n",
       "      <th>REGIONID</th>\n",
       "      <th>REGIONNAME</th>\n",
       "      <th>PRODUCT</th>\n",
       "      <th>YEARWEEK</th>\n",
       "      <th>QTY</th>\n",
       "    </tr>\n",
       "  </thead>\n",
       "  <tbody>\n",
       "    <tr>\n",
       "      <th>0</th>\n",
       "      <td>A01</td>\n",
       "      <td>한국</td>\n",
       "      <td>ST0001</td>\n",
       "      <td>201901</td>\n",
       "      <td>3000</td>\n",
       "    </tr>\n",
       "    <tr>\n",
       "      <th>1</th>\n",
       "      <td>A01</td>\n",
       "      <td>한국</td>\n",
       "      <td>ST0001</td>\n",
       "      <td>201902</td>\n",
       "      <td>3500</td>\n",
       "    </tr>\n",
       "    <tr>\n",
       "      <th>2</th>\n",
       "      <td>A02</td>\n",
       "      <td>미국</td>\n",
       "      <td>ST0002</td>\n",
       "      <td>201901</td>\n",
       "      <td>4000</td>\n",
       "    </tr>\n",
       "    <tr>\n",
       "      <th>3</th>\n",
       "      <td>A02</td>\n",
       "      <td>미국</td>\n",
       "      <td>ST0003</td>\n",
       "      <td>201902</td>\n",
       "      <td>7000</td>\n",
       "    </tr>\n",
       "  </tbody>\n",
       "</table>\n",
       "</div>"
      ],
      "text/plain": [
       "  REGIONID REGIONNAME PRODUCT  YEARWEEK   QTY\n",
       "0      A01         한국  ST0001    201901  3000\n",
       "1      A01         한국  ST0001    201902  3500\n",
       "2      A02         미국  ST0002    201901  4000\n",
       "3      A02         미국  ST0003    201902  7000"
      ]
     },
     "execution_count": 106,
     "metadata": {},
     "output_type": "execute_result"
    }
   ],
   "source": [
    "mergedData = pd.merge(left=joinMaster, #기준정보 \n",
    "         right=joinSellout, # 실적정보\n",
    "         how = \"inner\", # innerjoin)\n",
    "         on = joinKey)\n",
    "mergedData"
   ]
  },
  {
   "cell_type": "code",
   "execution_count": 111,
   "id": "d482f9b7-ffa2-4d8a-8ce5-39b7e5276ad8",
   "metadata": {},
   "outputs": [],
   "source": [
    "joinMaster2 = joinMaster.loc[joinMaster.REGIONID==\"A01\"]"
   ]
  },
  {
   "cell_type": "code",
   "execution_count": 112,
   "id": "b1d53747-bf6c-4910-99fa-e6e166ad85cc",
   "metadata": {},
   "outputs": [
    {
     "data": {
      "text/html": [
       "<div>\n",
       "<style scoped>\n",
       "    .dataframe tbody tr th:only-of-type {\n",
       "        vertical-align: middle;\n",
       "    }\n",
       "\n",
       "    .dataframe tbody tr th {\n",
       "        vertical-align: top;\n",
       "    }\n",
       "\n",
       "    .dataframe thead th {\n",
       "        text-align: right;\n",
       "    }\n",
       "</style>\n",
       "<table border=\"1\" class=\"dataframe\">\n",
       "  <thead>\n",
       "    <tr style=\"text-align: right;\">\n",
       "      <th></th>\n",
       "      <th>REGIONID</th>\n",
       "      <th>REGIONNAME</th>\n",
       "    </tr>\n",
       "  </thead>\n",
       "  <tbody>\n",
       "    <tr>\n",
       "      <th>0</th>\n",
       "      <td>A01</td>\n",
       "      <td>한국</td>\n",
       "    </tr>\n",
       "  </tbody>\n",
       "</table>\n",
       "</div>"
      ],
      "text/plain": [
       "  REGIONID REGIONNAME\n",
       "0      A01         한국"
      ]
     },
     "execution_count": 112,
     "metadata": {},
     "output_type": "execute_result"
    }
   ],
   "source": [
    "joinMaster2"
   ]
  },
  {
   "cell_type": "code",
   "execution_count": 120,
   "id": "0c5ca0bd-335d-400a-b969-79459acb73fe",
   "metadata": {},
   "outputs": [],
   "source": [
    "row1 = [\"A99\",\"ST0010\",\"201901\",5000]\n",
    "\n",
    "columns = joinSellout.columns\n",
    "\n",
    "chugadata = pd.DataFrame([ row1 ], columns=columns )\n",
    "\n",
    "joinSellout2 = joinSellout.append(chugadata)"
   ]
  },
  {
   "cell_type": "code",
   "execution_count": 135,
   "id": "818af0cf-5c59-40a2-b527-0ef98cfbe42b",
   "metadata": {},
   "outputs": [],
   "source": [
    "joinSellout3 = joinSellout2.rename(columns={\"REGIONID\":\"AP2ID\"})"
   ]
  },
  {
   "cell_type": "code",
   "execution_count": 138,
   "id": "ed2e6673-c3b5-4b28-9a78-00790003b56d",
   "metadata": {},
   "outputs": [],
   "source": [
    "# joinMaster"
   ]
  },
  {
   "cell_type": "code",
   "execution_count": 136,
   "id": "4eb44ac4-7f00-4af2-9515-4a08e0696c40",
   "metadata": {},
   "outputs": [
    {
     "data": {
      "text/html": [
       "<div>\n",
       "<style scoped>\n",
       "    .dataframe tbody tr th:only-of-type {\n",
       "        vertical-align: middle;\n",
       "    }\n",
       "\n",
       "    .dataframe tbody tr th {\n",
       "        vertical-align: top;\n",
       "    }\n",
       "\n",
       "    .dataframe thead th {\n",
       "        text-align: right;\n",
       "    }\n",
       "</style>\n",
       "<table border=\"1\" class=\"dataframe\">\n",
       "  <thead>\n",
       "    <tr style=\"text-align: right;\">\n",
       "      <th></th>\n",
       "      <th>AP2ID</th>\n",
       "      <th>PRODUCT</th>\n",
       "      <th>YEARWEEK</th>\n",
       "      <th>QTY</th>\n",
       "    </tr>\n",
       "  </thead>\n",
       "  <tbody>\n",
       "    <tr>\n",
       "      <th>0</th>\n",
       "      <td>A01</td>\n",
       "      <td>ST0001</td>\n",
       "      <td>201901</td>\n",
       "      <td>3000</td>\n",
       "    </tr>\n",
       "    <tr>\n",
       "      <th>1</th>\n",
       "      <td>A01</td>\n",
       "      <td>ST0001</td>\n",
       "      <td>201902</td>\n",
       "      <td>3500</td>\n",
       "    </tr>\n",
       "    <tr>\n",
       "      <th>2</th>\n",
       "      <td>A02</td>\n",
       "      <td>ST0002</td>\n",
       "      <td>201901</td>\n",
       "      <td>4000</td>\n",
       "    </tr>\n",
       "    <tr>\n",
       "      <th>3</th>\n",
       "      <td>A02</td>\n",
       "      <td>ST0003</td>\n",
       "      <td>201902</td>\n",
       "      <td>7000</td>\n",
       "    </tr>\n",
       "    <tr>\n",
       "      <th>0</th>\n",
       "      <td>A99</td>\n",
       "      <td>ST0010</td>\n",
       "      <td>201901</td>\n",
       "      <td>5000</td>\n",
       "    </tr>\n",
       "  </tbody>\n",
       "</table>\n",
       "</div>"
      ],
      "text/plain": [
       "  AP2ID PRODUCT YEARWEEK   QTY\n",
       "0   A01  ST0001   201901  3000\n",
       "1   A01  ST0001   201902  3500\n",
       "2   A02  ST0002   201901  4000\n",
       "3   A02  ST0003   201902  7000\n",
       "0   A99  ST0010   201901  5000"
      ]
     },
     "execution_count": 136,
     "metadata": {},
     "output_type": "execute_result"
    }
   ],
   "source": [
    "joinSellout3"
   ]
  },
  {
   "cell_type": "code",
   "execution_count": 141,
   "id": "e5320011-7959-4a13-ad58-ad6fde2265b2",
   "metadata": {},
   "outputs": [],
   "source": [
    "a01Data = joinSellout.loc[joinSellout.REGIONID==\"A01\"]\n",
    "a02Data = joinSellout.loc[joinSellout.REGIONID==\"A02\"]"
   ]
  },
  {
   "cell_type": "code",
   "execution_count": 144,
   "id": "7b84595b-0a25-4c56-ba8d-2a57caebc1fe",
   "metadata": {},
   "outputs": [
    {
     "data": {
      "text/html": [
       "<div>\n",
       "<style scoped>\n",
       "    .dataframe tbody tr th:only-of-type {\n",
       "        vertical-align: middle;\n",
       "    }\n",
       "\n",
       "    .dataframe tbody tr th {\n",
       "        vertical-align: top;\n",
       "    }\n",
       "\n",
       "    .dataframe thead th {\n",
       "        text-align: right;\n",
       "    }\n",
       "</style>\n",
       "<table border=\"1\" class=\"dataframe\">\n",
       "  <thead>\n",
       "    <tr style=\"text-align: right;\">\n",
       "      <th></th>\n",
       "      <th>REGIONID</th>\n",
       "      <th>PRODUCT</th>\n",
       "      <th>YEARWEEK</th>\n",
       "      <th>QTY</th>\n",
       "    </tr>\n",
       "  </thead>\n",
       "  <tbody>\n",
       "    <tr>\n",
       "      <th>0</th>\n",
       "      <td>A01</td>\n",
       "      <td>ST0001</td>\n",
       "      <td>201901</td>\n",
       "      <td>3000</td>\n",
       "    </tr>\n",
       "    <tr>\n",
       "      <th>1</th>\n",
       "      <td>A01</td>\n",
       "      <td>ST0001</td>\n",
       "      <td>201902</td>\n",
       "      <td>3500</td>\n",
       "    </tr>\n",
       "    <tr>\n",
       "      <th>2</th>\n",
       "      <td>A02</td>\n",
       "      <td>ST0002</td>\n",
       "      <td>201901</td>\n",
       "      <td>4000</td>\n",
       "    </tr>\n",
       "    <tr>\n",
       "      <th>3</th>\n",
       "      <td>A02</td>\n",
       "      <td>ST0003</td>\n",
       "      <td>201902</td>\n",
       "      <td>7000</td>\n",
       "    </tr>\n",
       "  </tbody>\n",
       "</table>\n",
       "</div>"
      ],
      "text/plain": [
       "  REGIONID PRODUCT  YEARWEEK   QTY\n",
       "0      A01  ST0001    201901  3000\n",
       "1      A01  ST0001    201902  3500\n",
       "2      A02  ST0002    201901  4000\n",
       "3      A02  ST0003    201902  7000"
      ]
     },
     "execution_count": 144,
     "metadata": {},
     "output_type": "execute_result"
    }
   ],
   "source": [
    "pd.concat([a01Data,a02Data], axis=0)"
   ]
  },
  {
   "cell_type": "code",
   "execution_count": 143,
   "id": "4dcca4be-782a-4bd9-a986-9d4f23123fc9",
   "metadata": {},
   "outputs": [
    {
     "data": {
      "text/html": [
       "<div>\n",
       "<style scoped>\n",
       "    .dataframe tbody tr th:only-of-type {\n",
       "        vertical-align: middle;\n",
       "    }\n",
       "\n",
       "    .dataframe tbody tr th {\n",
       "        vertical-align: top;\n",
       "    }\n",
       "\n",
       "    .dataframe thead th {\n",
       "        text-align: right;\n",
       "    }\n",
       "</style>\n",
       "<table border=\"1\" class=\"dataframe\">\n",
       "  <thead>\n",
       "    <tr style=\"text-align: right;\">\n",
       "      <th></th>\n",
       "      <th>REGIONID</th>\n",
       "      <th>PRODUCT</th>\n",
       "      <th>YEARWEEK</th>\n",
       "      <th>QTY</th>\n",
       "    </tr>\n",
       "  </thead>\n",
       "  <tbody>\n",
       "    <tr>\n",
       "      <th>0</th>\n",
       "      <td>A01</td>\n",
       "      <td>ST0001</td>\n",
       "      <td>201901</td>\n",
       "      <td>3000</td>\n",
       "    </tr>\n",
       "    <tr>\n",
       "      <th>1</th>\n",
       "      <td>A01</td>\n",
       "      <td>ST0001</td>\n",
       "      <td>201902</td>\n",
       "      <td>3500</td>\n",
       "    </tr>\n",
       "    <tr>\n",
       "      <th>2</th>\n",
       "      <td>A02</td>\n",
       "      <td>ST0002</td>\n",
       "      <td>201901</td>\n",
       "      <td>4000</td>\n",
       "    </tr>\n",
       "    <tr>\n",
       "      <th>3</th>\n",
       "      <td>A02</td>\n",
       "      <td>ST0003</td>\n",
       "      <td>201902</td>\n",
       "      <td>7000</td>\n",
       "    </tr>\n",
       "  </tbody>\n",
       "</table>\n",
       "</div>"
      ],
      "text/plain": [
       "  REGIONID PRODUCT  YEARWEEK   QTY\n",
       "0      A01  ST0001    201901  3000\n",
       "1      A01  ST0001    201902  3500\n",
       "2      A02  ST0002    201901  4000\n",
       "3      A02  ST0003    201902  7000"
      ]
     },
     "execution_count": 143,
     "metadata": {},
     "output_type": "execute_result"
    }
   ],
   "source": [
    "a01Data.append(a02Data)"
   ]
  },
  {
   "cell_type": "code",
   "execution_count": null,
   "id": "481886a4-cb5c-48e6-8b4e-a78887f6a9b3",
   "metadata": {},
   "outputs": [],
   "source": []
  },
  {
   "cell_type": "code",
   "execution_count": null,
   "id": "0c42c778-b726-4d62-90e4-24f8641018b9",
   "metadata": {},
   "outputs": [],
   "source": []
  },
  {
   "cell_type": "code",
   "execution_count": 139,
   "id": "d4d4c7c3-b5c1-48b6-a535-02b59f89905c",
   "metadata": {},
   "outputs": [
    {
     "data": {
      "text/html": [
       "<div>\n",
       "<style scoped>\n",
       "    .dataframe tbody tr th:only-of-type {\n",
       "        vertical-align: middle;\n",
       "    }\n",
       "\n",
       "    .dataframe tbody tr th {\n",
       "        vertical-align: top;\n",
       "    }\n",
       "\n",
       "    .dataframe thead th {\n",
       "        text-align: right;\n",
       "    }\n",
       "</style>\n",
       "<table border=\"1\" class=\"dataframe\">\n",
       "  <thead>\n",
       "    <tr style=\"text-align: right;\">\n",
       "      <th></th>\n",
       "      <th>AP2ID</th>\n",
       "      <th>PRODUCT</th>\n",
       "      <th>YEARWEEK</th>\n",
       "      <th>QTY</th>\n",
       "      <th>REGIONID</th>\n",
       "      <th>REGIONNAME</th>\n",
       "    </tr>\n",
       "  </thead>\n",
       "  <tbody>\n",
       "    <tr>\n",
       "      <th>0</th>\n",
       "      <td>A01</td>\n",
       "      <td>ST0001</td>\n",
       "      <td>201901</td>\n",
       "      <td>3000</td>\n",
       "      <td>A01</td>\n",
       "      <td>한국</td>\n",
       "    </tr>\n",
       "    <tr>\n",
       "      <th>1</th>\n",
       "      <td>A01</td>\n",
       "      <td>ST0001</td>\n",
       "      <td>201902</td>\n",
       "      <td>3500</td>\n",
       "      <td>A01</td>\n",
       "      <td>한국</td>\n",
       "    </tr>\n",
       "    <tr>\n",
       "      <th>2</th>\n",
       "      <td>A02</td>\n",
       "      <td>ST0002</td>\n",
       "      <td>201901</td>\n",
       "      <td>4000</td>\n",
       "      <td>A02</td>\n",
       "      <td>미국</td>\n",
       "    </tr>\n",
       "    <tr>\n",
       "      <th>3</th>\n",
       "      <td>A02</td>\n",
       "      <td>ST0003</td>\n",
       "      <td>201902</td>\n",
       "      <td>7000</td>\n",
       "      <td>A02</td>\n",
       "      <td>미국</td>\n",
       "    </tr>\n",
       "    <tr>\n",
       "      <th>4</th>\n",
       "      <td>A99</td>\n",
       "      <td>ST0010</td>\n",
       "      <td>201901</td>\n",
       "      <td>5000</td>\n",
       "      <td>NaN</td>\n",
       "      <td>NaN</td>\n",
       "    </tr>\n",
       "  </tbody>\n",
       "</table>\n",
       "</div>"
      ],
      "text/plain": [
       "  AP2ID PRODUCT YEARWEEK   QTY REGIONID REGIONNAME\n",
       "0   A01  ST0001   201901  3000      A01         한국\n",
       "1   A01  ST0001   201902  3500      A01         한국\n",
       "2   A02  ST0002   201901  4000      A02         미국\n",
       "3   A02  ST0003   201902  7000      A02         미국\n",
       "4   A99  ST0010   201901  5000      NaN        NaN"
      ]
     },
     "execution_count": 139,
     "metadata": {},
     "output_type": "execute_result"
    }
   ],
   "source": [
    "pd.merge(left=joinSellout3, \n",
    "         right=joinMaster, \n",
    "         how=\"left\", \n",
    "         left_on=[\"AP2ID\"],right_on=[\"REGIONID\"])"
   ]
  },
  {
   "cell_type": "code",
   "execution_count": null,
   "id": "27fd23c2-8559-4bd0-89bf-71549af6a150",
   "metadata": {},
   "outputs": [],
   "source": []
  },
  {
   "cell_type": "code",
   "execution_count": null,
   "id": "722c5796-680d-491e-99d7-68bed1bbe4ec",
   "metadata": {},
   "outputs": [],
   "source": []
  },
  {
   "cell_type": "code",
   "execution_count": 133,
   "id": "c83f6de1-57e3-4f97-b716-60669878ce11",
   "metadata": {},
   "outputs": [
    {
     "data": {
      "text/html": [
       "<div>\n",
       "<style scoped>\n",
       "    .dataframe tbody tr th:only-of-type {\n",
       "        vertical-align: middle;\n",
       "    }\n",
       "\n",
       "    .dataframe tbody tr th {\n",
       "        vertical-align: top;\n",
       "    }\n",
       "\n",
       "    .dataframe thead th {\n",
       "        text-align: right;\n",
       "    }\n",
       "</style>\n",
       "<table border=\"1\" class=\"dataframe\">\n",
       "  <thead>\n",
       "    <tr style=\"text-align: right;\">\n",
       "      <th></th>\n",
       "      <th>REGIONID</th>\n",
       "      <th>PRODUCT</th>\n",
       "      <th>YEARWEEK</th>\n",
       "      <th>QTY</th>\n",
       "      <th>REGIONNAME</th>\n",
       "    </tr>\n",
       "  </thead>\n",
       "  <tbody>\n",
       "    <tr>\n",
       "      <th>0</th>\n",
       "      <td>A01</td>\n",
       "      <td>ST0001</td>\n",
       "      <td>201901</td>\n",
       "      <td>3000.0</td>\n",
       "      <td>한국</td>\n",
       "    </tr>\n",
       "    <tr>\n",
       "      <th>1</th>\n",
       "      <td>A01</td>\n",
       "      <td>ST0001</td>\n",
       "      <td>201902</td>\n",
       "      <td>3500.0</td>\n",
       "      <td>한국</td>\n",
       "    </tr>\n",
       "    <tr>\n",
       "      <th>2</th>\n",
       "      <td>A02</td>\n",
       "      <td>ST0002</td>\n",
       "      <td>201901</td>\n",
       "      <td>4000.0</td>\n",
       "      <td>미국</td>\n",
       "    </tr>\n",
       "    <tr>\n",
       "      <th>3</th>\n",
       "      <td>A02</td>\n",
       "      <td>ST0003</td>\n",
       "      <td>201902</td>\n",
       "      <td>7000.0</td>\n",
       "      <td>미국</td>\n",
       "    </tr>\n",
       "    <tr>\n",
       "      <th>4</th>\n",
       "      <td>A99</td>\n",
       "      <td>ST0010</td>\n",
       "      <td>201901</td>\n",
       "      <td>5000.0</td>\n",
       "      <td>NaN</td>\n",
       "    </tr>\n",
       "    <tr>\n",
       "      <th>5</th>\n",
       "      <td>A03</td>\n",
       "      <td>NaN</td>\n",
       "      <td>NaN</td>\n",
       "      <td>NaN</td>\n",
       "      <td>프랑스</td>\n",
       "    </tr>\n",
       "    <tr>\n",
       "      <th>6</th>\n",
       "      <td>A04</td>\n",
       "      <td>NaN</td>\n",
       "      <td>NaN</td>\n",
       "      <td>NaN</td>\n",
       "      <td>독일</td>\n",
       "    </tr>\n",
       "  </tbody>\n",
       "</table>\n",
       "</div>"
      ],
      "text/plain": [
       "  REGIONID PRODUCT YEARWEEK     QTY REGIONNAME\n",
       "0      A01  ST0001   201901  3000.0         한국\n",
       "1      A01  ST0001   201902  3500.0         한국\n",
       "2      A02  ST0002   201901  4000.0         미국\n",
       "3      A02  ST0003   201902  7000.0         미국\n",
       "4      A99  ST0010   201901  5000.0        NaN\n",
       "5      A03     NaN      NaN     NaN        프랑스\n",
       "6      A04     NaN      NaN     NaN         독일"
      ]
     },
     "execution_count": 133,
     "metadata": {},
     "output_type": "execute_result"
    }
   ],
   "source": [
    "pd.merge(left=joinSellout2, right=joinMaster, on=joinKey, how=\"outer\")"
   ]
  },
  {
   "cell_type": "code",
   "execution_count": 117,
   "id": "c8223c19-8c6a-4379-a09f-21a000009780",
   "metadata": {},
   "outputs": [
    {
     "data": {
      "text/html": [
       "<div>\n",
       "<style scoped>\n",
       "    .dataframe tbody tr th:only-of-type {\n",
       "        vertical-align: middle;\n",
       "    }\n",
       "\n",
       "    .dataframe tbody tr th {\n",
       "        vertical-align: top;\n",
       "    }\n",
       "\n",
       "    .dataframe thead th {\n",
       "        text-align: right;\n",
       "    }\n",
       "</style>\n",
       "<table border=\"1\" class=\"dataframe\">\n",
       "  <thead>\n",
       "    <tr style=\"text-align: right;\">\n",
       "      <th></th>\n",
       "      <th>REGIONID</th>\n",
       "      <th>REGIONNAME</th>\n",
       "    </tr>\n",
       "  </thead>\n",
       "  <tbody>\n",
       "    <tr>\n",
       "      <th>0</th>\n",
       "      <td>A01</td>\n",
       "      <td>한국</td>\n",
       "    </tr>\n",
       "    <tr>\n",
       "      <th>1</th>\n",
       "      <td>A02</td>\n",
       "      <td>미국</td>\n",
       "    </tr>\n",
       "    <tr>\n",
       "      <th>2</th>\n",
       "      <td>A03</td>\n",
       "      <td>프랑스</td>\n",
       "    </tr>\n",
       "    <tr>\n",
       "      <th>3</th>\n",
       "      <td>A04</td>\n",
       "      <td>독일</td>\n",
       "    </tr>\n",
       "  </tbody>\n",
       "</table>\n",
       "</div>"
      ],
      "text/plain": [
       "  REGIONID REGIONNAME\n",
       "0      A01         한국\n",
       "1      A02         미국\n",
       "2      A03        프랑스\n",
       "3      A04         독일"
      ]
     },
     "execution_count": 117,
     "metadata": {},
     "output_type": "execute_result"
    }
   ],
   "source": [
    "joinMaster"
   ]
  },
  {
   "cell_type": "code",
   "execution_count": 116,
   "id": "2e8ba570-a12c-49a4-8cab-b4d004d55287",
   "metadata": {},
   "outputs": [
    {
     "data": {
      "text/html": [
       "<div>\n",
       "<style scoped>\n",
       "    .dataframe tbody tr th:only-of-type {\n",
       "        vertical-align: middle;\n",
       "    }\n",
       "\n",
       "    .dataframe tbody tr th {\n",
       "        vertical-align: top;\n",
       "    }\n",
       "\n",
       "    .dataframe thead th {\n",
       "        text-align: right;\n",
       "    }\n",
       "</style>\n",
       "<table border=\"1\" class=\"dataframe\">\n",
       "  <thead>\n",
       "    <tr style=\"text-align: right;\">\n",
       "      <th></th>\n",
       "      <th>REGIONID</th>\n",
       "      <th>PRODUCT</th>\n",
       "      <th>YEARWEEK</th>\n",
       "      <th>QTY</th>\n",
       "    </tr>\n",
       "  </thead>\n",
       "  <tbody>\n",
       "    <tr>\n",
       "      <th>0</th>\n",
       "      <td>A01</td>\n",
       "      <td>ST0001</td>\n",
       "      <td>201901</td>\n",
       "      <td>3000</td>\n",
       "    </tr>\n",
       "    <tr>\n",
       "      <th>1</th>\n",
       "      <td>A01</td>\n",
       "      <td>ST0001</td>\n",
       "      <td>201902</td>\n",
       "      <td>3500</td>\n",
       "    </tr>\n",
       "    <tr>\n",
       "      <th>2</th>\n",
       "      <td>A02</td>\n",
       "      <td>ST0002</td>\n",
       "      <td>201901</td>\n",
       "      <td>4000</td>\n",
       "    </tr>\n",
       "    <tr>\n",
       "      <th>3</th>\n",
       "      <td>A02</td>\n",
       "      <td>ST0003</td>\n",
       "      <td>201902</td>\n",
       "      <td>7000</td>\n",
       "    </tr>\n",
       "  </tbody>\n",
       "</table>\n",
       "</div>"
      ],
      "text/plain": [
       "  REGIONID PRODUCT  YEARWEEK   QTY\n",
       "0      A01  ST0001    201901  3000\n",
       "1      A01  ST0001    201902  3500\n",
       "2      A02  ST0002    201901  4000\n",
       "3      A02  ST0003    201902  7000"
      ]
     },
     "execution_count": 116,
     "metadata": {},
     "output_type": "execute_result"
    }
   ],
   "source": [
    "joinSellout"
   ]
  },
  {
   "cell_type": "code",
   "execution_count": 115,
   "id": "2949caf1-613a-4d1b-8f0b-b9a84834fa04",
   "metadata": {},
   "outputs": [
    {
     "data": {
      "text/html": [
       "<div>\n",
       "<style scoped>\n",
       "    .dataframe tbody tr th:only-of-type {\n",
       "        vertical-align: middle;\n",
       "    }\n",
       "\n",
       "    .dataframe tbody tr th {\n",
       "        vertical-align: top;\n",
       "    }\n",
       "\n",
       "    .dataframe thead th {\n",
       "        text-align: right;\n",
       "    }\n",
       "</style>\n",
       "<table border=\"1\" class=\"dataframe\">\n",
       "  <thead>\n",
       "    <tr style=\"text-align: right;\">\n",
       "      <th></th>\n",
       "      <th>REGIONID</th>\n",
       "      <th>PRODUCT</th>\n",
       "      <th>YEARWEEK</th>\n",
       "      <th>QTY</th>\n",
       "      <th>REGIONNAME</th>\n",
       "    </tr>\n",
       "  </thead>\n",
       "  <tbody>\n",
       "    <tr>\n",
       "      <th>0</th>\n",
       "      <td>A01</td>\n",
       "      <td>ST0001</td>\n",
       "      <td>201901</td>\n",
       "      <td>3000</td>\n",
       "      <td>한국</td>\n",
       "    </tr>\n",
       "    <tr>\n",
       "      <th>1</th>\n",
       "      <td>A01</td>\n",
       "      <td>ST0001</td>\n",
       "      <td>201902</td>\n",
       "      <td>3500</td>\n",
       "      <td>한국</td>\n",
       "    </tr>\n",
       "    <tr>\n",
       "      <th>2</th>\n",
       "      <td>A02</td>\n",
       "      <td>ST0002</td>\n",
       "      <td>201901</td>\n",
       "      <td>4000</td>\n",
       "      <td>NaN</td>\n",
       "    </tr>\n",
       "    <tr>\n",
       "      <th>3</th>\n",
       "      <td>A02</td>\n",
       "      <td>ST0003</td>\n",
       "      <td>201902</td>\n",
       "      <td>7000</td>\n",
       "      <td>NaN</td>\n",
       "    </tr>\n",
       "  </tbody>\n",
       "</table>\n",
       "</div>"
      ],
      "text/plain": [
       "  REGIONID PRODUCT  YEARWEEK   QTY REGIONNAME\n",
       "0      A01  ST0001    201901  3000         한국\n",
       "1      A01  ST0001    201902  3500         한국\n",
       "2      A02  ST0002    201901  4000        NaN\n",
       "3      A02  ST0003    201902  7000        NaN"
      ]
     },
     "execution_count": 115,
     "metadata": {},
     "output_type": "execute_result"
    }
   ],
   "source": [
    "pd.merge(left=joinSellout,\n",
    "         right=joinMaster2,\n",
    "         how=\"left\",\n",
    "         on=joinKey)"
   ]
  },
  {
   "cell_type": "code",
   "execution_count": 92,
   "id": "ab0b7ad8-6456-4262-a4a9-4b1fcf51256d",
   "metadata": {},
   "outputs": [
    {
     "data": {
      "text/html": [
       "<div>\n",
       "<style scoped>\n",
       "    .dataframe tbody tr th:only-of-type {\n",
       "        vertical-align: middle;\n",
       "    }\n",
       "\n",
       "    .dataframe tbody tr th {\n",
       "        vertical-align: top;\n",
       "    }\n",
       "\n",
       "    .dataframe thead th {\n",
       "        text-align: right;\n",
       "    }\n",
       "</style>\n",
       "<table border=\"1\" class=\"dataframe\">\n",
       "  <thead>\n",
       "    <tr style=\"text-align: right;\">\n",
       "      <th></th>\n",
       "      <th>REGIONID</th>\n",
       "      <th>PRODUCT</th>\n",
       "      <th>YEARWEEK</th>\n",
       "      <th>QTY</th>\n",
       "    </tr>\n",
       "  </thead>\n",
       "  <tbody>\n",
       "    <tr>\n",
       "      <th>0</th>\n",
       "      <td>A01</td>\n",
       "      <td>ST0001</td>\n",
       "      <td>201901</td>\n",
       "      <td>3000</td>\n",
       "    </tr>\n",
       "    <tr>\n",
       "      <th>1</th>\n",
       "      <td>A01</td>\n",
       "      <td>ST0001</td>\n",
       "      <td>201902</td>\n",
       "      <td>3500</td>\n",
       "    </tr>\n",
       "    <tr>\n",
       "      <th>2</th>\n",
       "      <td>A02</td>\n",
       "      <td>ST0002</td>\n",
       "      <td>201901</td>\n",
       "      <td>4000</td>\n",
       "    </tr>\n",
       "    <tr>\n",
       "      <th>3</th>\n",
       "      <td>A02</td>\n",
       "      <td>ST0003</td>\n",
       "      <td>201902</td>\n",
       "      <td>7000</td>\n",
       "    </tr>\n",
       "  </tbody>\n",
       "</table>\n",
       "</div>"
      ],
      "text/plain": [
       "  REGIONID PRODUCT  YEARWEEK   QTY\n",
       "0      A01  ST0001    201901  3000\n",
       "1      A01  ST0001    201902  3500\n",
       "2      A02  ST0002    201901  4000\n",
       "3      A02  ST0003    201902  7000"
      ]
     },
     "execution_count": 92,
     "metadata": {},
     "output_type": "execute_result"
    }
   ],
   "source": [
    "joinSellout"
   ]
  },
  {
   "cell_type": "code",
   "execution_count": null,
   "id": "fa386c59-4e63-46db-bb27-8ae6016a2962",
   "metadata": {},
   "outputs": [],
   "source": []
  },
  {
   "cell_type": "code",
   "execution_count": null,
   "id": "6cecc9a8-d912-43e1-a1d3-a5ce12fa4637",
   "metadata": {},
   "outputs": [],
   "source": []
  },
  {
   "cell_type": "code",
   "execution_count": null,
   "id": "1c52bd2a-0cfd-4bf3-9298-2802c605f8a0",
   "metadata": {},
   "outputs": [],
   "source": []
  },
  {
   "cell_type": "code",
   "execution_count": null,
   "id": "3ddfe78a-0fe1-4c92-9799-30945a942058",
   "metadata": {},
   "outputs": [],
   "source": []
  },
  {
   "cell_type": "code",
   "execution_count": 40,
   "id": "9c1e82ee-2065-41c2-a442-ba6ba920ac53",
   "metadata": {},
   "outputs": [
    {
     "data": {
      "text/plain": [
       "(123864, 7)"
      ]
     },
     "execution_count": 40,
     "metadata": {},
     "output_type": "execute_result"
    }
   ],
   "source": [
    "refinedData.shape"
   ]
  },
  {
   "cell_type": "code",
   "execution_count": 39,
   "id": "2b3cf292-29f3-458b-b3e2-cb4615b8a249",
   "metadata": {},
   "outputs": [
    {
     "data": {
      "text/plain": [
       "(124658, 7)"
      ]
     },
     "execution_count": 39,
     "metadata": {},
     "output_type": "execute_result"
    }
   ],
   "source": [
    "selloutData.shape"
   ]
  },
  {
   "cell_type": "code",
   "execution_count": 51,
   "id": "debc0e00-a08e-4a48-9722-8ba05fc524b6",
   "metadata": {},
   "outputs": [],
   "source": [
    "groupKey = [\"PRODUCT\"]"
   ]
  },
  {
   "cell_type": "code",
   "execution_count": 64,
   "id": "a4b889f2-f40a-4928-8a39-cc260707397e",
   "metadata": {},
   "outputs": [],
   "source": [
    "columns = [\"이름\",\"성별\",\"과목\",\"점수\"]\n",
    "\n",
    "groupDf = pd.DataFrame( [[\"김효관\",\"남\",\"수학\",50],\n",
    " [\"김어진\",\"남\",\"수학\",80],\n",
    " [\"안민정\",\"여\",\"수학\",90],\n",
    " [\"안정훈\",\"여\",\"국어\",120],\n",
    " [\"김여진\",\"여\",\"수학\",95],\n",
    " [\"이동연\",\"남\",\"국어\",80]   ] , columns =columns )"
   ]
  },
  {
   "cell_type": "code",
   "execution_count": 66,
   "id": "4cf10f35-d33a-4619-8df9-56a1dd15079f",
   "metadata": {},
   "outputs": [],
   "source": [
    "groupKey = [\"과목\"]"
   ]
  },
  {
   "cell_type": "code",
   "execution_count": 71,
   "id": "a95e259f-5426-48d8-9b21-6207af00443b",
   "metadata": {},
   "outputs": [],
   "source": [
    "testDf = pd.read_csv(\"../dataset/kopo_customerdata.csv\")"
   ]
  },
  {
   "cell_type": "code",
   "execution_count": 73,
   "id": "624d2de1-22c9-4f80-94d9-54e2a0c40dcd",
   "metadata": {},
   "outputs": [],
   "source": [
    "groupKey = [\"GENDER\"]"
   ]
  },
  {
   "cell_type": "code",
   "execution_count": 75,
   "id": "96ce17c1-9e7e-4d8c-bf28-31b6fc3e2120",
   "metadata": {},
   "outputs": [
    {
     "data": {
      "text/html": [
       "<div>\n",
       "<style scoped>\n",
       "    .dataframe tbody tr th:only-of-type {\n",
       "        vertical-align: middle;\n",
       "    }\n",
       "\n",
       "    .dataframe tbody tr th {\n",
       "        vertical-align: top;\n",
       "    }\n",
       "\n",
       "    .dataframe thead th {\n",
       "        text-align: right;\n",
       "    }\n",
       "</style>\n",
       "<table border=\"1\" class=\"dataframe\">\n",
       "  <thead>\n",
       "    <tr style=\"text-align: right;\">\n",
       "      <th></th>\n",
       "      <th>GENDER</th>\n",
       "      <th>count</th>\n",
       "    </tr>\n",
       "  </thead>\n",
       "  <tbody>\n",
       "    <tr>\n",
       "      <th>0</th>\n",
       "      <td>Female</td>\n",
       "      <td>36754</td>\n",
       "    </tr>\n",
       "    <tr>\n",
       "      <th>1</th>\n",
       "      <td>Male</td>\n",
       "      <td>263064</td>\n",
       "    </tr>\n",
       "    <tr>\n",
       "      <th>2</th>\n",
       "      <td>Not Available</td>\n",
       "      <td>182</td>\n",
       "    </tr>\n",
       "  </tbody>\n",
       "</table>\n",
       "</div>"
      ],
      "text/plain": [
       "          GENDER   count\n",
       "0         Female   36754\n",
       "1           Male  263064\n",
       "2  Not Available     182"
      ]
     },
     "execution_count": 75,
     "metadata": {},
     "output_type": "execute_result"
    }
   ],
   "source": [
    "testDf.groupby(by=groupKey)[\"TOTAL_AMOUNT\"].agg([\"count\"]).reset_index()"
   ]
  },
  {
   "cell_type": "code",
   "execution_count": null,
   "id": "a88bbd0f-8be3-4b7b-aecc-6a488629f1f1",
   "metadata": {},
   "outputs": [],
   "source": []
  },
  {
   "cell_type": "code",
   "execution_count": null,
   "id": "1503225a-791d-4ef2-9bb6-0a46cc90a3d1",
   "metadata": {},
   "outputs": [],
   "source": []
  },
  {
   "cell_type": "code",
   "execution_count": 69,
   "id": "16279ec1-59ac-4001-b63b-751391865dbf",
   "metadata": {},
   "outputs": [
    {
     "data": {
      "text/html": [
       "<div>\n",
       "<style scoped>\n",
       "    .dataframe tbody tr th:only-of-type {\n",
       "        vertical-align: middle;\n",
       "    }\n",
       "\n",
       "    .dataframe tbody tr th {\n",
       "        vertical-align: top;\n",
       "    }\n",
       "\n",
       "    .dataframe thead th {\n",
       "        text-align: right;\n",
       "    }\n",
       "</style>\n",
       "<table border=\"1\" class=\"dataframe\">\n",
       "  <thead>\n",
       "    <tr style=\"text-align: right;\">\n",
       "      <th></th>\n",
       "      <th>과목</th>\n",
       "      <th>count</th>\n",
       "    </tr>\n",
       "  </thead>\n",
       "  <tbody>\n",
       "    <tr>\n",
       "      <th>0</th>\n",
       "      <td>국어</td>\n",
       "      <td>2</td>\n",
       "    </tr>\n",
       "    <tr>\n",
       "      <th>1</th>\n",
       "      <td>수학</td>\n",
       "      <td>4</td>\n",
       "    </tr>\n",
       "  </tbody>\n",
       "</table>\n",
       "</div>"
      ],
      "text/plain": [
       "   과목  count\n",
       "0  국어      2\n",
       "1  수학      4"
      ]
     },
     "execution_count": 69,
     "metadata": {},
     "output_type": "execute_result"
    }
   ],
   "source": [
    "groupDf.groupby(by=groupKey)[\"점수\"].agg([\"count\"]).reset_index()"
   ]
  },
  {
   "cell_type": "code",
   "execution_count": null,
   "id": "dd44ed68-1c3b-48c5-92ff-f11ac4596a7b",
   "metadata": {},
   "outputs": [],
   "source": []
  },
  {
   "cell_type": "code",
   "execution_count": null,
   "id": "29226b65-de73-4e6b-969b-eb1aaafbccd7",
   "metadata": {},
   "outputs": [],
   "source": []
  },
  {
   "cell_type": "code",
   "execution_count": null,
   "id": "f737b914-bfbd-426b-9874-7a6a2519479a",
   "metadata": {},
   "outputs": [],
   "source": []
  },
  {
   "cell_type": "code",
   "execution_count": 59,
   "id": "c589675d-a991-4593-8192-b6fec82ced9e",
   "metadata": {},
   "outputs": [],
   "source": [
    "groupKey = [\"과목\"]"
   ]
  },
  {
   "cell_type": "code",
   "execution_count": 63,
   "id": "6d8650d8-f45b-45b2-821e-b77b6d91bfce",
   "metadata": {},
   "outputs": [
    {
     "data": {
      "text/html": [
       "<div>\n",
       "<style scoped>\n",
       "    .dataframe tbody tr th:only-of-type {\n",
       "        vertical-align: middle;\n",
       "    }\n",
       "\n",
       "    .dataframe tbody tr th {\n",
       "        vertical-align: top;\n",
       "    }\n",
       "\n",
       "    .dataframe thead th {\n",
       "        text-align: right;\n",
       "    }\n",
       "</style>\n",
       "<table border=\"1\" class=\"dataframe\">\n",
       "  <thead>\n",
       "    <tr style=\"text-align: right;\">\n",
       "      <th></th>\n",
       "      <th>이름</th>\n",
       "      <th>성별</th>\n",
       "      <th>과목</th>\n",
       "      <th>점수</th>\n",
       "    </tr>\n",
       "  </thead>\n",
       "  <tbody>\n",
       "    <tr>\n",
       "      <th>0</th>\n",
       "      <td>김효관</td>\n",
       "      <td>남</td>\n",
       "      <td>수학</td>\n",
       "      <td>50</td>\n",
       "    </tr>\n",
       "    <tr>\n",
       "      <th>1</th>\n",
       "      <td>김어진</td>\n",
       "      <td>남</td>\n",
       "      <td>수학</td>\n",
       "      <td>80</td>\n",
       "    </tr>\n",
       "    <tr>\n",
       "      <th>2</th>\n",
       "      <td>안민정</td>\n",
       "      <td>여</td>\n",
       "      <td>수학</td>\n",
       "      <td>90</td>\n",
       "    </tr>\n",
       "    <tr>\n",
       "      <th>3</th>\n",
       "      <td>안정훈</td>\n",
       "      <td>여</td>\n",
       "      <td>국어</td>\n",
       "      <td>120</td>\n",
       "    </tr>\n",
       "    <tr>\n",
       "      <th>4</th>\n",
       "      <td>김여진</td>\n",
       "      <td>여</td>\n",
       "      <td>수학</td>\n",
       "      <td>95</td>\n",
       "    </tr>\n",
       "    <tr>\n",
       "      <th>5</th>\n",
       "      <td>이동연</td>\n",
       "      <td>남</td>\n",
       "      <td>국어</td>\n",
       "      <td>80</td>\n",
       "    </tr>\n",
       "  </tbody>\n",
       "</table>\n",
       "</div>"
      ],
      "text/plain": [
       "    이름 성별  과목   점수\n",
       "0  김효관  남  수학   50\n",
       "1  김어진  남  수학   80\n",
       "2  안민정  여  수학   90\n",
       "3  안정훈  여  국어  120\n",
       "4  김여진  여  수학   95\n",
       "5  이동연  남  국어   80"
      ]
     },
     "execution_count": 63,
     "metadata": {},
     "output_type": "execute_result"
    }
   ],
   "source": [
    "testDf"
   ]
  },
  {
   "cell_type": "code",
   "execution_count": 62,
   "id": "f0dab27a-6e86-400b-84c6-cf776a531cad",
   "metadata": {},
   "outputs": [
    {
     "data": {
      "text/html": [
       "<div>\n",
       "<style scoped>\n",
       "    .dataframe tbody tr th:only-of-type {\n",
       "        vertical-align: middle;\n",
       "    }\n",
       "\n",
       "    .dataframe tbody tr th {\n",
       "        vertical-align: top;\n",
       "    }\n",
       "\n",
       "    .dataframe thead th {\n",
       "        text-align: right;\n",
       "    }\n",
       "</style>\n",
       "<table border=\"1\" class=\"dataframe\">\n",
       "  <thead>\n",
       "    <tr style=\"text-align: right;\">\n",
       "      <th></th>\n",
       "      <th>과목</th>\n",
       "      <th>mean</th>\n",
       "    </tr>\n",
       "  </thead>\n",
       "  <tbody>\n",
       "    <tr>\n",
       "      <th>0</th>\n",
       "      <td>국어</td>\n",
       "      <td>100.00</td>\n",
       "    </tr>\n",
       "    <tr>\n",
       "      <th>1</th>\n",
       "      <td>수학</td>\n",
       "      <td>78.75</td>\n",
       "    </tr>\n",
       "  </tbody>\n",
       "</table>\n",
       "</div>"
      ],
      "text/plain": [
       "   과목    mean\n",
       "0  국어  100.00\n",
       "1  수학   78.75"
      ]
     },
     "execution_count": 62,
     "metadata": {},
     "output_type": "execute_result"
    }
   ],
   "source": [
    "testDf.groupby(by=groupKey)[\"점수\"].agg([\"mean\"]).reset_index()"
   ]
  }
 ],
 "metadata": {
  "kernelspec": {
   "display_name": "Python 3 (ipykernel)",
   "language": "python",
   "name": "python3"
  },
  "language_info": {
   "codemirror_mode": {
    "name": "ipython",
    "version": 3
   },
   "file_extension": ".py",
   "mimetype": "text/x-python",
   "name": "python",
   "nbconvert_exporter": "python",
   "pygments_lexer": "ipython3",
   "version": "3.9.7"
  }
 },
 "nbformat": 4,
 "nbformat_minor": 5
}
