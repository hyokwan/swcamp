{
 "cells": [
  {
   "cell_type": "markdown",
   "id": "716f3d3c-3b3a-481c-8760-8adc9da4e704",
   "metadata": {},
   "source": [
    "### 라이브러리 선언"
   ]
  },
  {
   "cell_type": "code",
   "execution_count": 1,
   "id": "19f8b263-3efc-4900-8d4a-d48091f82138",
   "metadata": {},
   "outputs": [],
   "source": [
    "import pandas as pd"
   ]
  },
  {
   "cell_type": "markdown",
   "id": "eac036d0-2951-4db1-bba9-dfef4779ffaf",
   "metadata": {},
   "source": [
    "### 1. 데이터 불러오기"
   ]
  },
  {
   "cell_type": "code",
   "execution_count": 2,
   "id": "27b1ef6c-7f41-4a28-8e43-9f5ad8f33344",
   "metadata": {},
   "outputs": [],
   "source": [
    "customerData = pd.read_csv(\"../dataset/customerdata.csv\")"
   ]
  },
  {
   "cell_type": "code",
   "execution_count": 5,
   "id": "85cefe79-060d-4b20-9abf-d8987507354a",
   "metadata": {},
   "outputs": [
    {
     "data": {
      "text/html": [
       "<div>\n",
       "<style scoped>\n",
       "    .dataframe tbody tr th:only-of-type {\n",
       "        vertical-align: middle;\n",
       "    }\n",
       "\n",
       "    .dataframe tbody tr th {\n",
       "        vertical-align: top;\n",
       "    }\n",
       "\n",
       "    .dataframe thead th {\n",
       "        text-align: right;\n",
       "    }\n",
       "</style>\n",
       "<table border=\"1\" class=\"dataframe\">\n",
       "  <thead>\n",
       "    <tr style=\"text-align: right;\">\n",
       "      <th></th>\n",
       "      <th>CUSTID</th>\n",
       "      <th>AVGPRICE</th>\n",
       "      <th>EMI</th>\n",
       "      <th>DEVICECOUNT</th>\n",
       "      <th>PRODUCTAGE</th>\n",
       "      <th>CUSTTYPE</th>\n",
       "    </tr>\n",
       "  </thead>\n",
       "  <tbody>\n",
       "    <tr>\n",
       "      <th>0</th>\n",
       "      <td>A13566</td>\n",
       "      <td>4273.90000</td>\n",
       "      <td>3</td>\n",
       "      <td>6</td>\n",
       "      <td>1.679181</td>\n",
       "      <td>Big-Screen-lover</td>\n",
       "    </tr>\n",
       "    <tr>\n",
       "      <th>1</th>\n",
       "      <td>A14219</td>\n",
       "      <td>3642.44195</td>\n",
       "      <td>2</td>\n",
       "      <td>4</td>\n",
       "      <td>2.682023</td>\n",
       "      <td>Sleeping-dog</td>\n",
       "    </tr>\n",
       "  </tbody>\n",
       "</table>\n",
       "</div>"
      ],
      "text/plain": [
       "   CUSTID    AVGPRICE  EMI  DEVICECOUNT  PRODUCTAGE          CUSTTYPE\n",
       "0  A13566  4273.90000    3            6    1.679181  Big-Screen-lover\n",
       "1  A14219  3642.44195    2            4    2.682023      Sleeping-dog"
      ]
     },
     "execution_count": 5,
     "metadata": {},
     "output_type": "execute_result"
    }
   ],
   "source": [
    "customerData.head(2)"
   ]
  },
  {
   "cell_type": "markdown",
   "id": "1f7d7c3d-8068-4720-9512-2194c824cf75",
   "metadata": {},
   "source": [
    "#### 조회할래!!! ( 우리제품을 4개 이상 구매했고, 일단 2년미만 지속 사용한 고객`"
   ]
  },
  {
   "cell_type": "code",
   "execution_count": 7,
   "id": "26115d22-fa7f-4a70-9661-019d6c0df2d3",
   "metadata": {},
   "outputs": [],
   "source": [
    "countCond = 4\n",
    "ageCond = 2"
   ]
  },
  {
   "cell_type": "code",
   "execution_count": 15,
   "id": "db2064ee-3efa-4302-8ce2-263c65dcaea1",
   "metadata": {},
   "outputs": [
    {
     "name": "stderr",
     "output_type": "stream",
     "text": [
      "C:\\Users\\kopo\\anaconda3\\lib\\site-packages\\pandas\\core\\generic.py:5516: SettingWithCopyWarning: \n",
      "A value is trying to be set on a copy of a slice from a DataFrame.\n",
      "Try using .loc[row_indexer,col_indexer] = value instead\n",
      "\n",
      "See the caveats in the documentation: https://pandas.pydata.org/pandas-docs/stable/user_guide/indexing.html#returning-a-view-versus-a-copy\n",
      "  self[name] = value\n"
     ]
    }
   ],
   "source": [
    "refinedData.AVGPRICE = refinedData.AVGPRICE.astype(str)"
   ]
  },
  {
   "cell_type": "code",
   "execution_count": 20,
   "id": "e7f9546c-9ea5-468d-96a2-b5c9508f169a",
   "metadata": {},
   "outputs": [
    {
     "data": {
      "text/plain": [
       "CUSTID          object\n",
       "AVGPRICE        object\n",
       "EMI              int64\n",
       "DEVICECOUNT      int64\n",
       "PRODUCTAGE     float64\n",
       "CUSTTYPE        object\n",
       "dtype: object"
      ]
     },
     "execution_count": 20,
     "metadata": {},
     "output_type": "execute_result"
    }
   ],
   "source": [
    "refinedData.dtypes"
   ]
  },
  {
   "cell_type": "code",
   "execution_count": null,
   "id": "ca5ce228-c71a-4d38-b16a-24f61fc6f57f",
   "metadata": {},
   "outputs": [],
   "source": [
    "refinedData.AVGPRICE = refinedData.AVGPRICE.astype(float)"
   ]
  },
  {
   "cell_type": "code",
   "execution_count": 22,
   "id": "6aebb35a-81be-4a86-bbc6-b21d39ebf6dc",
   "metadata": {},
   "outputs": [],
   "source": [
    "aa = refinedData.loc[  refinedData.AVGPRICE.astype(float) > 100]"
   ]
  },
  {
   "cell_type": "code",
   "execution_count": 23,
   "id": "ac674d19-2e09-4189-af21-e47f481053f4",
   "metadata": {},
   "outputs": [],
   "source": [
    "emiTargets = [2,3,5]"
   ]
  },
  {
   "cell_type": "code",
   "execution_count": 25,
   "id": "86448d25-86ac-4398-a76d-5a09b8796776",
   "metadata": {},
   "outputs": [
    {
     "data": {
      "text/html": [
       "<div>\n",
       "<style scoped>\n",
       "    .dataframe tbody tr th:only-of-type {\n",
       "        vertical-align: middle;\n",
       "    }\n",
       "\n",
       "    .dataframe tbody tr th {\n",
       "        vertical-align: top;\n",
       "    }\n",
       "\n",
       "    .dataframe thead th {\n",
       "        text-align: right;\n",
       "    }\n",
       "</style>\n",
       "<table border=\"1\" class=\"dataframe\">\n",
       "  <thead>\n",
       "    <tr style=\"text-align: right;\">\n",
       "      <th></th>\n",
       "      <th>CUSTID</th>\n",
       "      <th>AVGPRICE</th>\n",
       "      <th>EMI</th>\n",
       "      <th>DEVICECOUNT</th>\n",
       "      <th>PRODUCTAGE</th>\n",
       "      <th>CUSTTYPE</th>\n",
       "    </tr>\n",
       "  </thead>\n",
       "  <tbody>\n",
       "    <tr>\n",
       "      <th>11</th>\n",
       "      <td>C18622</td>\n",
       "      <td>3246.0</td>\n",
       "      <td>1</td>\n",
       "      <td>5</td>\n",
       "      <td>1.891624</td>\n",
       "      <td>Big-Screen-lover</td>\n",
       "    </tr>\n",
       "    <tr>\n",
       "      <th>65</th>\n",
       "      <td>M16452</td>\n",
       "      <td>3353.53728971703</td>\n",
       "      <td>1</td>\n",
       "      <td>4</td>\n",
       "      <td>1.940357</td>\n",
       "      <td>Sleeping-dog</td>\n",
       "    </tr>\n",
       "    <tr>\n",
       "      <th>68</th>\n",
       "      <td>N14862</td>\n",
       "      <td>2390.08373567855</td>\n",
       "      <td>1</td>\n",
       "      <td>6</td>\n",
       "      <td>1.000000</td>\n",
       "      <td>Early-bird</td>\n",
       "    </tr>\n",
       "  </tbody>\n",
       "</table>\n",
       "</div>"
      ],
      "text/plain": [
       "    CUSTID          AVGPRICE  EMI  DEVICECOUNT  PRODUCTAGE          CUSTTYPE\n",
       "11  C18622            3246.0    1            5    1.891624  Big-Screen-lover\n",
       "65  M16452  3353.53728971703    1            4    1.940357      Sleeping-dog\n",
       "68  N14862  2390.08373567855    1            6    1.000000        Early-bird"
      ]
     },
     "execution_count": 25,
     "metadata": {},
     "output_type": "execute_result"
    }
   ],
   "source": [
    "refinedData.loc[ ~refinedData.EMI.isin(emiTargets) ]"
   ]
  },
  {
   "cell_type": "code",
   "execution_count": null,
   "id": "6e78b8a8-1a4c-4858-ad4e-924d11ec6929",
   "metadata": {},
   "outputs": [],
   "source": [
    "refinedData.loc[  refinedData.EMI == 2\n",
    "                  refinedData.EMI == 3\n",
    "                  refinedData.EMI == 5 ]"
   ]
  },
  {
   "cell_type": "code",
   "execution_count": 49,
   "id": "47aa1ce9-e044-473f-b086-d2d764c8cd28",
   "metadata": {},
   "outputs": [],
   "source": [
    "targetColumns = [\"CUSTID\",\"EMI\"] "
   ]
  },
  {
   "cell_type": "code",
   "execution_count": 57,
   "id": "d141ba1a-2d2e-4056-9b82-8920763d8fd9",
   "metadata": {},
   "outputs": [],
   "source": [
    "custIdColumnNo = 0\n",
    "avgPriceColumnNo = 1\n",
    "emiColumnNo = 2"
   ]
  },
  {
   "cell_type": "code",
   "execution_count": 56,
   "id": "7768b5cc-fe70-4288-917b-633fc3912838",
   "metadata": {},
   "outputs": [
    {
     "data": {
      "text/plain": [
       "Index(['CUSTID', 'AVGPRICE', 'EMI', 'DEVICECOUNT', 'PRODUCTAGE', 'CUSTTYPE'], dtype='object')"
      ]
     },
     "execution_count": 56,
     "metadata": {},
     "output_type": "execute_result"
    }
   ],
   "source": [
    "customerData.columns"
   ]
  },
  {
   "cell_type": "code",
   "execution_count": 64,
   "id": "dc5ec59f-bd8a-46c3-9831-35242baa578e",
   "metadata": {},
   "outputs": [],
   "source": [
    "emi3Data = customerData.loc[ customerData.EMI==3 ]"
   ]
  },
  {
   "cell_type": "code",
   "execution_count": 69,
   "id": "a323e7d5-8d0b-4dc7-a661-9a5b2c0462cf",
   "metadata": {},
   "outputs": [],
   "source": [
    "emi3Data.reset_index(drop=True, inplace=True)"
   ]
  },
  {
   "cell_type": "code",
   "execution_count": 75,
   "id": "6d3e14a8-c7de-4632-9c2d-02e8f8ef5233",
   "metadata": {},
   "outputs": [],
   "source": [
    "custData = emi3Data.set_index(\"CUSTID\")"
   ]
  },
  {
   "cell_type": "code",
   "execution_count": 78,
   "id": "b7d385a5-ac75-4752-93ac-dffdde31d2dc",
   "metadata": {},
   "outputs": [
    {
     "data": {
      "text/html": [
       "<div>\n",
       "<style scoped>\n",
       "    .dataframe tbody tr th:only-of-type {\n",
       "        vertical-align: middle;\n",
       "    }\n",
       "\n",
       "    .dataframe tbody tr th {\n",
       "        vertical-align: top;\n",
       "    }\n",
       "\n",
       "    .dataframe thead th {\n",
       "        text-align: right;\n",
       "    }\n",
       "</style>\n",
       "<table border=\"1\" class=\"dataframe\">\n",
       "  <thead>\n",
       "    <tr style=\"text-align: right;\">\n",
       "      <th></th>\n",
       "      <th>AVGPRICE</th>\n",
       "      <th>EMI</th>\n",
       "      <th>DEVICECOUNT</th>\n",
       "      <th>PRODUCTAGE</th>\n",
       "      <th>CUSTTYPE</th>\n",
       "    </tr>\n",
       "    <tr>\n",
       "      <th>CUSTID</th>\n",
       "      <th></th>\n",
       "      <th></th>\n",
       "      <th></th>\n",
       "      <th></th>\n",
       "      <th></th>\n",
       "    </tr>\n",
       "  </thead>\n",
       "  <tbody>\n",
       "    <tr>\n",
       "      <th>A13566</th>\n",
       "      <td>4273.900000</td>\n",
       "      <td>3</td>\n",
       "      <td>6</td>\n",
       "      <td>1.679181</td>\n",
       "      <td>Big-Screen-lover</td>\n",
       "    </tr>\n",
       "    <tr>\n",
       "      <th>F17131</th>\n",
       "      <td>3179.708359</td>\n",
       "      <td>3</td>\n",
       "      <td>6</td>\n",
       "      <td>1.100000</td>\n",
       "      <td>Early-bird</td>\n",
       "    </tr>\n",
       "    <tr>\n",
       "      <th>G16437</th>\n",
       "      <td>3787.328898</td>\n",
       "      <td>3</td>\n",
       "      <td>6</td>\n",
       "      <td>1.000000</td>\n",
       "      <td>Early-bird</td>\n",
       "    </tr>\n",
       "  </tbody>\n",
       "</table>\n",
       "</div>"
      ],
      "text/plain": [
       "           AVGPRICE  EMI  DEVICECOUNT  PRODUCTAGE          CUSTTYPE\n",
       "CUSTID                                                             \n",
       "A13566  4273.900000    3            6    1.679181  Big-Screen-lover\n",
       "F17131  3179.708359    3            6    1.100000        Early-bird\n",
       "G16437  3787.328898    3            6    1.000000        Early-bird"
      ]
     },
     "execution_count": 78,
     "metadata": {},
     "output_type": "execute_result"
    }
   ],
   "source": [
    "custData.loc[\"A13566\":\"G16437\"]"
   ]
  },
  {
   "cell_type": "code",
   "execution_count": 26,
   "id": "984bd654-c77c-4ad2-937c-f9fd223d6efb",
   "metadata": {},
   "outputs": [],
   "source": [
    "customerData = pd.read_csv(\"../dataset/customerdata.csv\")"
   ]
  },
  {
   "cell_type": "code",
   "execution_count": 32,
   "id": "38374d74-242c-4778-9a50-6ca2ea654943",
   "metadata": {},
   "outputs": [],
   "source": [
    "trainingData = customerData.loc[20:30]"
   ]
  },
  {
   "cell_type": "code",
   "execution_count": 41,
   "id": "a1636274-a31f-44e9-8931-34d29f8bdcbb",
   "metadata": {},
   "outputs": [],
   "source": [
    "trainIndex = list( trainingData.index )"
   ]
  },
  {
   "cell_type": "code",
   "execution_count": 79,
   "id": "ebfde083-baba-4741-89c6-ce7cbeb80db7",
   "metadata": {},
   "outputs": [],
   "source": [
    "kopo_customerdata = pd.read_csv(\"../dataset/kopo_customerdata.csv\")\n",
    "\n",
    "targetColumns = ['STATENAME', 'GENDER']\n",
    "\n",
    "kopo_customerdata.loc[:,targetColumns]\n",
    "\n",
    "kopo_customerdata[:,targetColumns]"
   ]
  },
  {
   "cell_type": "code",
   "execution_count": 98,
   "id": "1bc67d2a-92c7-4be2-8e1a-a2a3c51689b6",
   "metadata": {},
   "outputs": [],
   "source": [
    "customerData = pd.read_csv(\"../dataset/customerdata.csv\")"
   ]
  },
  {
   "cell_type": "markdown",
   "id": "1513aecf-a56c-4957-8a7c-257df28ce37f",
   "metadata": {},
   "source": [
    "### productage < 1로 변경하고 그외에는 기존값을 쓴다"
   ]
  },
  {
   "cell_type": "code",
   "execution_count": 102,
   "id": "88b5ce21-9d36-4859-ac2b-fda102a8b14f",
   "metadata": {},
   "outputs": [],
   "source": [
    "import numpy as np"
   ]
  },
  {
   "cell_type": "code",
   "execution_count": 104,
   "id": "3086468e-713c-4c0f-8883-293dc3e762ad",
   "metadata": {},
   "outputs": [],
   "source": [
    "customerData[\"PRODUCTAGE_NEW\"] = \\\n",
    "    np.where(customerData.PRODUCTAGE < 1, 1, customerData.PRODUCTAGE)"
   ]
  },
  {
   "cell_type": "code",
   "execution_count": 111,
   "id": "8b919cc3-64e0-4fb0-a7d3-c3fc7aa54737",
   "metadata": {},
   "outputs": [
    {
     "data": {
      "text/html": [
       "<div>\n",
       "<style scoped>\n",
       "    .dataframe tbody tr th:only-of-type {\n",
       "        vertical-align: middle;\n",
       "    }\n",
       "\n",
       "    .dataframe tbody tr th {\n",
       "        vertical-align: top;\n",
       "    }\n",
       "\n",
       "    .dataframe thead th {\n",
       "        text-align: right;\n",
       "    }\n",
       "</style>\n",
       "<table border=\"1\" class=\"dataframe\">\n",
       "  <thead>\n",
       "    <tr style=\"text-align: right;\">\n",
       "      <th></th>\n",
       "      <th>CUSTID</th>\n",
       "      <th>AVGPRICE</th>\n",
       "      <th>EMI</th>\n",
       "      <th>DEVICECOUNT</th>\n",
       "      <th>PRODUCTAGE</th>\n",
       "      <th>CUSTTYPE</th>\n",
       "      <th>PRODUCTAGE_NEW</th>\n",
       "    </tr>\n",
       "  </thead>\n",
       "  <tbody>\n",
       "  </tbody>\n",
       "</table>\n",
       "</div>"
      ],
      "text/plain": [
       "Empty DataFrame\n",
       "Columns: [CUSTID, AVGPRICE, EMI, DEVICECOUNT, PRODUCTAGE, CUSTTYPE, PRODUCTAGE_NEW]\n",
       "Index: []"
      ]
     },
     "execution_count": 111,
     "metadata": {},
     "output_type": "execute_result"
    }
   ],
   "source": [
    "customerData.loc[ (customerData.PRODUCTAGE >= 1) &\n",
    "                  (customerData.PRODUCTAGE_NEW != customerData.PRODUCTAGE) ] "
   ]
  },
  {
   "cell_type": "markdown",
   "id": "316f1e68-ca95-4bb2-aaff-aaef39ba4114",
   "metadata": {},
   "source": [
    "### np.where 활용 데이터 조작"
   ]
  },
  {
   "cell_type": "code",
   "execution_count": 113,
   "id": "1c185289-41d3-4cb3-a2ec-6c27ddb8c8d6",
   "metadata": {},
   "outputs": [],
   "source": [
    "### PRODUCTAGE 1보다 작은경우 1\n",
    "### PRODUCTAGE 1보다 크면서 2보다 작은경우 2\n",
    "### PRODUCTAGE 이외는 3"
   ]
  },
  {
   "cell_type": "code",
   "execution_count": 116,
   "id": "cedb8270-6339-4948-9942-b1d80a40af1b",
   "metadata": {},
   "outputs": [
    {
     "data": {
      "text/plain": [
       "array([2, 3, 3, 1, 3, 3, 1, 3, 3, 3, 3, 2, 3, 1, 3, 3, 3, 3, 3, 3, 3, 2,\n",
       "       2, 1, 1, 3, 2, 2, 3, 3, 1, 3, 3, 2, 3, 3, 2, 1, 1, 2, 1, 2, 3, 3,\n",
       "       1, 1, 3, 3, 1, 3, 3, 1, 1, 1, 3, 1, 3, 2, 3, 3, 2, 2, 1, 3, 2, 2,\n",
       "       3, 2, 2, 2, 3, 1, 3, 3, 2, 3, 3, 1, 1, 2, 1, 3, 1, 3, 1, 3, 3, 1,\n",
       "       3, 3, 3, 3, 3, 3, 2, 1, 2, 2, 2, 2, 3, 3, 3, 3, 2, 1, 2, 3, 3, 3,\n",
       "       3, 3, 3, 2, 3, 3, 3, 1, 3, 3, 3, 3, 3, 3, 3, 1, 1, 2, 3, 3, 2, 2,\n",
       "       1, 1, 2, 2, 3, 3, 3, 3, 3, 3, 1, 1, 3, 3, 1, 3, 2, 2])"
      ]
     },
     "execution_count": 116,
     "metadata": {},
     "output_type": "execute_result"
    }
   ],
   "source": [
    "np.where(customerData.PRODUCTAGE < 1, 1,\n",
    "         np.where(customerData.PRODUCTAGE < 2, 2, 3))"
   ]
  },
  {
   "cell_type": "markdown",
   "id": "1ef46c33-b41e-4c58-9c01-a893c14df71f",
   "metadata": {},
   "source": [
    "### 2. loc 함수를 활용해서 데이터를 조작"
   ]
  },
  {
   "cell_type": "code",
   "execution_count": 119,
   "id": "81964b72-07a7-4c82-9af0-3216e27ac8a2",
   "metadata": {},
   "outputs": [],
   "source": [
    "customerData.loc[customerData.PRODUCTAGE <= 1 ,\"HK_NEW\"] = 1\n",
    "customerData.loc[(customerData.PRODUCTAGE > 1) &\n",
    "                 (customerData.PRODUCTAGE <= 2) ,\"HK_NEW\"] = 2\n",
    "customerData.loc[(customerData.PRODUCTAGE > 2)] = 3"
   ]
  },
  {
   "cell_type": "markdown",
   "id": "46eb800c-8943-4759-9d54-773ba6567e02",
   "metadata": {},
   "source": [
    "### 3. 함수적용 해서 데이터를 조작해보자!"
   ]
  },
  {
   "cell_type": "code",
   "execution_count": 139,
   "id": "032deedd-4893-4a5d-ac4c-d3d4c522993c",
   "metadata": {},
   "outputs": [],
   "source": [
    "def valuechange(inValue):\n",
    "    #testvalue=invalue\n",
    "    #inValue = 2.5\n",
    "    outValue = 0\n",
    "\n",
    "    if inValue < 1:\n",
    "        outValue = 1\n",
    "    elif inValue < 2:\n",
    "        outValue = 2\n",
    "    else:\n",
    "        outValue = 3\n",
    "    return outValue"
   ]
  },
  {
   "cell_type": "code",
   "execution_count": 141,
   "id": "a406d31a-d845-4b91-bdf0-cf09d72b279e",
   "metadata": {},
   "outputs": [],
   "source": [
    "customerData[\"HK_NEW2\"] = \\\n",
    "    customerData.PRODUCTAGE.apply(valuechange)"
   ]
  },
  {
   "cell_type": "markdown",
   "id": "894eb495-3a88-4b41-b531-27875a7c4f71",
   "metadata": {},
   "source": [
    "### 데이터 정렬하기"
   ]
  },
  {
   "cell_type": "code",
   "execution_count": 166,
   "id": "4e2946d1-a689-486f-9075-3f2a5d8988a2",
   "metadata": {},
   "outputs": [],
   "source": [
    "customerData = pd.read_csv(\"../dataset/customerdata.csv\")"
   ]
  },
  {
   "cell_type": "code",
   "execution_count": 170,
   "id": "c4e5da56-5ba5-4b46-a8ad-0611851769a8",
   "metadata": {},
   "outputs": [],
   "source": [
    "sortKey = [\"EMI\",\"AVGPRICE\"]"
   ]
  },
  {
   "cell_type": "code",
   "execution_count": 172,
   "id": "1d216e53-d46a-4990-8b7a-df9b9cc7f898",
   "metadata": {},
   "outputs": [],
   "source": [
    "sortedData = customerData.sort_values(by=sortKey, ascending= [True,False] )"
   ]
  },
  {
   "cell_type": "code",
   "execution_count": 176,
   "id": "9a821c64-142f-4e17-b265-d22446f145e5",
   "metadata": {},
   "outputs": [],
   "source": [
    "groupKey = [\"EMI\"]"
   ]
  },
  {
   "cell_type": "code",
   "execution_count": 178,
   "id": "6000ba03-4ba0-4bec-93b9-de52187a0257",
   "metadata": {},
   "outputs": [
    {
     "data": {
      "text/html": [
       "<div>\n",
       "<style scoped>\n",
       "    .dataframe tbody tr th:only-of-type {\n",
       "        vertical-align: middle;\n",
       "    }\n",
       "\n",
       "    .dataframe tbody tr th {\n",
       "        vertical-align: top;\n",
       "    }\n",
       "\n",
       "    .dataframe thead th {\n",
       "        text-align: right;\n",
       "    }\n",
       "</style>\n",
       "<table border=\"1\" class=\"dataframe\">\n",
       "  <thead>\n",
       "    <tr style=\"text-align: right;\">\n",
       "      <th></th>\n",
       "      <th>AVGPRICE</th>\n",
       "    </tr>\n",
       "    <tr>\n",
       "      <th>EMI</th>\n",
       "      <th></th>\n",
       "    </tr>\n",
       "  </thead>\n",
       "  <tbody>\n",
       "    <tr>\n",
       "      <th>1</th>\n",
       "      <td>3119.031810</td>\n",
       "    </tr>\n",
       "    <tr>\n",
       "      <th>2</th>\n",
       "      <td>3441.429664</td>\n",
       "    </tr>\n",
       "    <tr>\n",
       "      <th>3</th>\n",
       "      <td>3559.487188</td>\n",
       "    </tr>\n",
       "  </tbody>\n",
       "</table>\n",
       "</div>"
      ],
      "text/plain": [
       "        AVGPRICE\n",
       "EMI             \n",
       "1    3119.031810\n",
       "2    3441.429664\n",
       "3    3559.487188"
      ]
     },
     "execution_count": 178,
     "metadata": {},
     "output_type": "execute_result"
    }
   ],
   "source": [
    "customerData.groupby(by=groupKey)[[\"AVGPRICE\"]].mean()"
   ]
  },
  {
   "cell_type": "code",
   "execution_count": null,
   "id": "bec10173-e36f-46f8-bce6-b68fb5015568",
   "metadata": {},
   "outputs": [],
   "source": []
  },
  {
   "cell_type": "code",
   "execution_count": null,
   "id": "7b0b6c44-ebc8-4c9d-bdaa-1df857632d2f",
   "metadata": {},
   "outputs": [],
   "source": []
  },
  {
   "cell_type": "code",
   "execution_count": 161,
   "id": "4fe3438c-d49c-473f-a3ea-b33b424576a0",
   "metadata": {},
   "outputs": [],
   "source": [
    "customerData[\"NEW222\"] = customerData.CUSTID.astype(str).str[0:3].str.lower()+\"_\"+customerData.EMI.astype(str)"
   ]
  },
  {
   "cell_type": "code",
   "execution_count": 162,
   "id": "8a63c3d8-9b02-4bd3-8eee-42b7b6f8e60f",
   "metadata": {},
   "outputs": [
    {
     "data": {
      "text/html": [
       "<div>\n",
       "<style scoped>\n",
       "    .dataframe tbody tr th:only-of-type {\n",
       "        vertical-align: middle;\n",
       "    }\n",
       "\n",
       "    .dataframe tbody tr th {\n",
       "        vertical-align: top;\n",
       "    }\n",
       "\n",
       "    .dataframe thead th {\n",
       "        text-align: right;\n",
       "    }\n",
       "</style>\n",
       "<table border=\"1\" class=\"dataframe\">\n",
       "  <thead>\n",
       "    <tr style=\"text-align: right;\">\n",
       "      <th></th>\n",
       "      <th>CUSTID</th>\n",
       "      <th>AVGPRICE</th>\n",
       "      <th>EMI</th>\n",
       "      <th>DEVICECOUNT</th>\n",
       "      <th>PRODUCTAGE</th>\n",
       "      <th>CUSTTYPE</th>\n",
       "      <th>NEW222</th>\n",
       "    </tr>\n",
       "  </thead>\n",
       "  <tbody>\n",
       "    <tr>\n",
       "      <th>0</th>\n",
       "      <td>A13566</td>\n",
       "      <td>4273.900000</td>\n",
       "      <td>3</td>\n",
       "      <td>6</td>\n",
       "      <td>1.679181</td>\n",
       "      <td>Big-Screen-lover</td>\n",
       "      <td>a13_3</td>\n",
       "    </tr>\n",
       "    <tr>\n",
       "      <th>1</th>\n",
       "      <td>A14219</td>\n",
       "      <td>3642.441950</td>\n",
       "      <td>2</td>\n",
       "      <td>4</td>\n",
       "      <td>2.682023</td>\n",
       "      <td>Sleeping-dog</td>\n",
       "      <td>a14_2</td>\n",
       "    </tr>\n",
       "    <tr>\n",
       "      <th>2</th>\n",
       "      <td>A15312</td>\n",
       "      <td>3653.884565</td>\n",
       "      <td>2</td>\n",
       "      <td>5</td>\n",
       "      <td>3.208202</td>\n",
       "      <td>Sleeping-dog</td>\n",
       "      <td>a15_2</td>\n",
       "    </tr>\n",
       "    <tr>\n",
       "      <th>3</th>\n",
       "      <td>A16605</td>\n",
       "      <td>3713.211107</td>\n",
       "      <td>2</td>\n",
       "      <td>6</td>\n",
       "      <td>0.900000</td>\n",
       "      <td>Early-bird</td>\n",
       "      <td>a16_2</td>\n",
       "    </tr>\n",
       "    <tr>\n",
       "      <th>4</th>\n",
       "      <td>B10634</td>\n",
       "      <td>3391.074215</td>\n",
       "      <td>2</td>\n",
       "      <td>4</td>\n",
       "      <td>2.453656</td>\n",
       "      <td>Sleeping-dog</td>\n",
       "      <td>b10_2</td>\n",
       "    </tr>\n",
       "    <tr>\n",
       "      <th>...</th>\n",
       "      <td>...</td>\n",
       "      <td>...</td>\n",
       "      <td>...</td>\n",
       "      <td>...</td>\n",
       "      <td>...</td>\n",
       "      <td>...</td>\n",
       "      <td>...</td>\n",
       "    </tr>\n",
       "    <tr>\n",
       "      <th>145</th>\n",
       "      <td>Z13253</td>\n",
       "      <td>3678.800000</td>\n",
       "      <td>2</td>\n",
       "      <td>5</td>\n",
       "      <td>2.463670</td>\n",
       "      <td>Big-Screen-lover</td>\n",
       "      <td>z13_2</td>\n",
       "    </tr>\n",
       "    <tr>\n",
       "      <th>146</th>\n",
       "      <td>Z13534</td>\n",
       "      <td>3662.437527</td>\n",
       "      <td>3</td>\n",
       "      <td>6</td>\n",
       "      <td>0.900000</td>\n",
       "      <td>Early-bird</td>\n",
       "      <td>z13_3</td>\n",
       "    </tr>\n",
       "    <tr>\n",
       "      <th>147</th>\n",
       "      <td>Z16428</td>\n",
       "      <td>3516.500000</td>\n",
       "      <td>2</td>\n",
       "      <td>5</td>\n",
       "      <td>2.371301</td>\n",
       "      <td>Big-Screen-lover</td>\n",
       "      <td>z16_2</td>\n",
       "    </tr>\n",
       "    <tr>\n",
       "      <th>148</th>\n",
       "      <td>Z16735</td>\n",
       "      <td>3300.100000</td>\n",
       "      <td>2</td>\n",
       "      <td>5</td>\n",
       "      <td>1.704942</td>\n",
       "      <td>Big-Screen-lover</td>\n",
       "      <td>z16_2</td>\n",
       "    </tr>\n",
       "    <tr>\n",
       "      <th>149</th>\n",
       "      <td>Z19835</td>\n",
       "      <td>3326.526183</td>\n",
       "      <td>2</td>\n",
       "      <td>6</td>\n",
       "      <td>1.200000</td>\n",
       "      <td>Early-bird</td>\n",
       "      <td>z19_2</td>\n",
       "    </tr>\n",
       "  </tbody>\n",
       "</table>\n",
       "<p>150 rows × 7 columns</p>\n",
       "</div>"
      ],
      "text/plain": [
       "     CUSTID     AVGPRICE  EMI  DEVICECOUNT  PRODUCTAGE          CUSTTYPE  \\\n",
       "0    A13566  4273.900000    3            6    1.679181  Big-Screen-lover   \n",
       "1    A14219  3642.441950    2            4    2.682023      Sleeping-dog   \n",
       "2    A15312  3653.884565    2            5    3.208202      Sleeping-dog   \n",
       "3    A16605  3713.211107    2            6    0.900000        Early-bird   \n",
       "4    B10634  3391.074215    2            4    2.453656      Sleeping-dog   \n",
       "..      ...          ...  ...          ...         ...               ...   \n",
       "145  Z13253  3678.800000    2            5    2.463670  Big-Screen-lover   \n",
       "146  Z13534  3662.437527    3            6    0.900000        Early-bird   \n",
       "147  Z16428  3516.500000    2            5    2.371301  Big-Screen-lover   \n",
       "148  Z16735  3300.100000    2            5    1.704942  Big-Screen-lover   \n",
       "149  Z19835  3326.526183    2            6    1.200000        Early-bird   \n",
       "\n",
       "    NEW222  \n",
       "0    a13_3  \n",
       "1    a14_2  \n",
       "2    a15_2  \n",
       "3    a16_2  \n",
       "4    b10_2  \n",
       "..     ...  \n",
       "145  z13_2  \n",
       "146  z13_3  \n",
       "147  z16_2  \n",
       "148  z16_2  \n",
       "149  z19_2  \n",
       "\n",
       "[150 rows x 7 columns]"
      ]
     },
     "execution_count": 162,
     "metadata": {},
     "output_type": "execute_result"
    }
   ],
   "source": [
    "customerData"
   ]
  },
  {
   "cell_type": "code",
   "execution_count": null,
   "id": "50c4d1b6-a868-4ea9-a211-e15ace5c6d41",
   "metadata": {},
   "outputs": [],
   "source": []
  },
  {
   "cell_type": "code",
   "execution_count": null,
   "id": "9983acb7-5834-417f-868d-c6c6844c1523",
   "metadata": {},
   "outputs": [],
   "source": []
  },
  {
   "cell_type": "code",
   "execution_count": null,
   "id": "f5582aeb-5100-439a-9689-a1e0cebedd8d",
   "metadata": {},
   "outputs": [],
   "source": []
  },
  {
   "cell_type": "code",
   "execution_count": 82,
   "id": "3c01b389-861b-4cd1-b8e8-78d825f9c578",
   "metadata": {},
   "outputs": [
    {
     "ename": "KeyError",
     "evalue": "\"None of [Index([('STATENAME', 'GENDER')], dtype='object')] are in the [columns]\"",
     "output_type": "error",
     "traceback": [
      "\u001b[1;31m---------------------------------------------------------------------------\u001b[0m",
      "\u001b[1;31mKeyError\u001b[0m                                  Traceback (most recent call last)",
      "\u001b[1;32m~\\AppData\\Local\\Temp/ipykernel_3260/4014120593.py\u001b[0m in \u001b[0;36m<module>\u001b[1;34m\u001b[0m\n\u001b[1;32m----> 1\u001b[1;33m \u001b[0mkopo_customerdata\u001b[0m\u001b[1;33m.\u001b[0m\u001b[0mloc\u001b[0m\u001b[1;33m[\u001b[0m\u001b[1;36m0\u001b[0m\u001b[1;33m:\u001b[0m\u001b[1;36m5\u001b[0m\u001b[1;33m,\u001b[0m\u001b[1;33m[\u001b[0m\u001b[0mtargetColumns\u001b[0m\u001b[1;33m]\u001b[0m\u001b[1;33m]\u001b[0m\u001b[1;33m\u001b[0m\u001b[1;33m\u001b[0m\u001b[0m\n\u001b[0m",
      "\u001b[1;32m~\\anaconda3\\lib\\site-packages\\pandas\\core\\indexing.py\u001b[0m in \u001b[0;36m__getitem__\u001b[1;34m(self, key)\u001b[0m\n\u001b[0;32m    923\u001b[0m                 \u001b[1;32mwith\u001b[0m \u001b[0msuppress\u001b[0m\u001b[1;33m(\u001b[0m\u001b[0mKeyError\u001b[0m\u001b[1;33m,\u001b[0m \u001b[0mIndexError\u001b[0m\u001b[1;33m)\u001b[0m\u001b[1;33m:\u001b[0m\u001b[1;33m\u001b[0m\u001b[1;33m\u001b[0m\u001b[0m\n\u001b[0;32m    924\u001b[0m                     \u001b[1;32mreturn\u001b[0m \u001b[0mself\u001b[0m\u001b[1;33m.\u001b[0m\u001b[0mobj\u001b[0m\u001b[1;33m.\u001b[0m\u001b[0m_get_value\u001b[0m\u001b[1;33m(\u001b[0m\u001b[1;33m*\u001b[0m\u001b[0mkey\u001b[0m\u001b[1;33m,\u001b[0m \u001b[0mtakeable\u001b[0m\u001b[1;33m=\u001b[0m\u001b[0mself\u001b[0m\u001b[1;33m.\u001b[0m\u001b[0m_takeable\u001b[0m\u001b[1;33m)\u001b[0m\u001b[1;33m\u001b[0m\u001b[1;33m\u001b[0m\u001b[0m\n\u001b[1;32m--> 925\u001b[1;33m             \u001b[1;32mreturn\u001b[0m \u001b[0mself\u001b[0m\u001b[1;33m.\u001b[0m\u001b[0m_getitem_tuple\u001b[0m\u001b[1;33m(\u001b[0m\u001b[0mkey\u001b[0m\u001b[1;33m)\u001b[0m\u001b[1;33m\u001b[0m\u001b[1;33m\u001b[0m\u001b[0m\n\u001b[0m\u001b[0;32m    926\u001b[0m         \u001b[1;32melse\u001b[0m\u001b[1;33m:\u001b[0m\u001b[1;33m\u001b[0m\u001b[1;33m\u001b[0m\u001b[0m\n\u001b[0;32m    927\u001b[0m             \u001b[1;31m# we by definition only have the 0th axis\u001b[0m\u001b[1;33m\u001b[0m\u001b[1;33m\u001b[0m\u001b[0m\n",
      "\u001b[1;32m~\\anaconda3\\lib\\site-packages\\pandas\\core\\indexing.py\u001b[0m in \u001b[0;36m_getitem_tuple\u001b[1;34m(self, tup)\u001b[0m\n\u001b[0;32m   1107\u001b[0m             \u001b[1;32mreturn\u001b[0m \u001b[0mself\u001b[0m\u001b[1;33m.\u001b[0m\u001b[0m_multi_take\u001b[0m\u001b[1;33m(\u001b[0m\u001b[0mtup\u001b[0m\u001b[1;33m)\u001b[0m\u001b[1;33m\u001b[0m\u001b[1;33m\u001b[0m\u001b[0m\n\u001b[0;32m   1108\u001b[0m \u001b[1;33m\u001b[0m\u001b[0m\n\u001b[1;32m-> 1109\u001b[1;33m         \u001b[1;32mreturn\u001b[0m \u001b[0mself\u001b[0m\u001b[1;33m.\u001b[0m\u001b[0m_getitem_tuple_same_dim\u001b[0m\u001b[1;33m(\u001b[0m\u001b[0mtup\u001b[0m\u001b[1;33m)\u001b[0m\u001b[1;33m\u001b[0m\u001b[1;33m\u001b[0m\u001b[0m\n\u001b[0m\u001b[0;32m   1110\u001b[0m \u001b[1;33m\u001b[0m\u001b[0m\n\u001b[0;32m   1111\u001b[0m     \u001b[1;32mdef\u001b[0m \u001b[0m_get_label\u001b[0m\u001b[1;33m(\u001b[0m\u001b[0mself\u001b[0m\u001b[1;33m,\u001b[0m \u001b[0mlabel\u001b[0m\u001b[1;33m,\u001b[0m \u001b[0maxis\u001b[0m\u001b[1;33m:\u001b[0m \u001b[0mint\u001b[0m\u001b[1;33m)\u001b[0m\u001b[1;33m:\u001b[0m\u001b[1;33m\u001b[0m\u001b[1;33m\u001b[0m\u001b[0m\n",
      "\u001b[1;32m~\\anaconda3\\lib\\site-packages\\pandas\\core\\indexing.py\u001b[0m in \u001b[0;36m_getitem_tuple_same_dim\u001b[1;34m(self, tup)\u001b[0m\n\u001b[0;32m    804\u001b[0m                 \u001b[1;32mcontinue\u001b[0m\u001b[1;33m\u001b[0m\u001b[1;33m\u001b[0m\u001b[0m\n\u001b[0;32m    805\u001b[0m \u001b[1;33m\u001b[0m\u001b[0m\n\u001b[1;32m--> 806\u001b[1;33m             \u001b[0mretval\u001b[0m \u001b[1;33m=\u001b[0m \u001b[0mgetattr\u001b[0m\u001b[1;33m(\u001b[0m\u001b[0mretval\u001b[0m\u001b[1;33m,\u001b[0m \u001b[0mself\u001b[0m\u001b[1;33m.\u001b[0m\u001b[0mname\u001b[0m\u001b[1;33m)\u001b[0m\u001b[1;33m.\u001b[0m\u001b[0m_getitem_axis\u001b[0m\u001b[1;33m(\u001b[0m\u001b[0mkey\u001b[0m\u001b[1;33m,\u001b[0m \u001b[0maxis\u001b[0m\u001b[1;33m=\u001b[0m\u001b[0mi\u001b[0m\u001b[1;33m)\u001b[0m\u001b[1;33m\u001b[0m\u001b[1;33m\u001b[0m\u001b[0m\n\u001b[0m\u001b[0;32m    807\u001b[0m             \u001b[1;31m# We should never have retval.ndim < self.ndim, as that should\u001b[0m\u001b[1;33m\u001b[0m\u001b[1;33m\u001b[0m\u001b[0m\n\u001b[0;32m    808\u001b[0m             \u001b[1;31m#  be handled by the _getitem_lowerdim call above.\u001b[0m\u001b[1;33m\u001b[0m\u001b[1;33m\u001b[0m\u001b[0m\n",
      "\u001b[1;32m~\\anaconda3\\lib\\site-packages\\pandas\\core\\indexing.py\u001b[0m in \u001b[0;36m_getitem_axis\u001b[1;34m(self, key, axis)\u001b[0m\n\u001b[0;32m   1151\u001b[0m                     \u001b[1;32mraise\u001b[0m \u001b[0mValueError\u001b[0m\u001b[1;33m(\u001b[0m\u001b[1;34m\"Cannot index with multidimensional key\"\u001b[0m\u001b[1;33m)\u001b[0m\u001b[1;33m\u001b[0m\u001b[1;33m\u001b[0m\u001b[0m\n\u001b[0;32m   1152\u001b[0m \u001b[1;33m\u001b[0m\u001b[0m\n\u001b[1;32m-> 1153\u001b[1;33m                 \u001b[1;32mreturn\u001b[0m \u001b[0mself\u001b[0m\u001b[1;33m.\u001b[0m\u001b[0m_getitem_iterable\u001b[0m\u001b[1;33m(\u001b[0m\u001b[0mkey\u001b[0m\u001b[1;33m,\u001b[0m \u001b[0maxis\u001b[0m\u001b[1;33m=\u001b[0m\u001b[0maxis\u001b[0m\u001b[1;33m)\u001b[0m\u001b[1;33m\u001b[0m\u001b[1;33m\u001b[0m\u001b[0m\n\u001b[0m\u001b[0;32m   1154\u001b[0m \u001b[1;33m\u001b[0m\u001b[0m\n\u001b[0;32m   1155\u001b[0m             \u001b[1;31m# nested tuple slicing\u001b[0m\u001b[1;33m\u001b[0m\u001b[1;33m\u001b[0m\u001b[0m\n",
      "\u001b[1;32m~\\anaconda3\\lib\\site-packages\\pandas\\core\\indexing.py\u001b[0m in \u001b[0;36m_getitem_iterable\u001b[1;34m(self, key, axis)\u001b[0m\n\u001b[0;32m   1091\u001b[0m \u001b[1;33m\u001b[0m\u001b[0m\n\u001b[0;32m   1092\u001b[0m         \u001b[1;31m# A collection of keys\u001b[0m\u001b[1;33m\u001b[0m\u001b[1;33m\u001b[0m\u001b[0m\n\u001b[1;32m-> 1093\u001b[1;33m         \u001b[0mkeyarr\u001b[0m\u001b[1;33m,\u001b[0m \u001b[0mindexer\u001b[0m \u001b[1;33m=\u001b[0m \u001b[0mself\u001b[0m\u001b[1;33m.\u001b[0m\u001b[0m_get_listlike_indexer\u001b[0m\u001b[1;33m(\u001b[0m\u001b[0mkey\u001b[0m\u001b[1;33m,\u001b[0m \u001b[0maxis\u001b[0m\u001b[1;33m)\u001b[0m\u001b[1;33m\u001b[0m\u001b[1;33m\u001b[0m\u001b[0m\n\u001b[0m\u001b[0;32m   1094\u001b[0m         return self.obj._reindex_with_indexers(\n\u001b[0;32m   1095\u001b[0m             \u001b[1;33m{\u001b[0m\u001b[0maxis\u001b[0m\u001b[1;33m:\u001b[0m \u001b[1;33m[\u001b[0m\u001b[0mkeyarr\u001b[0m\u001b[1;33m,\u001b[0m \u001b[0mindexer\u001b[0m\u001b[1;33m]\u001b[0m\u001b[1;33m}\u001b[0m\u001b[1;33m,\u001b[0m \u001b[0mcopy\u001b[0m\u001b[1;33m=\u001b[0m\u001b[1;32mTrue\u001b[0m\u001b[1;33m,\u001b[0m \u001b[0mallow_dups\u001b[0m\u001b[1;33m=\u001b[0m\u001b[1;32mTrue\u001b[0m\u001b[1;33m\u001b[0m\u001b[1;33m\u001b[0m\u001b[0m\n",
      "\u001b[1;32m~\\anaconda3\\lib\\site-packages\\pandas\\core\\indexing.py\u001b[0m in \u001b[0;36m_get_listlike_indexer\u001b[1;34m(self, key, axis)\u001b[0m\n\u001b[0;32m   1312\u001b[0m             \u001b[0mkeyarr\u001b[0m\u001b[1;33m,\u001b[0m \u001b[0mindexer\u001b[0m\u001b[1;33m,\u001b[0m \u001b[0mnew_indexer\u001b[0m \u001b[1;33m=\u001b[0m \u001b[0max\u001b[0m\u001b[1;33m.\u001b[0m\u001b[0m_reindex_non_unique\u001b[0m\u001b[1;33m(\u001b[0m\u001b[0mkeyarr\u001b[0m\u001b[1;33m)\u001b[0m\u001b[1;33m\u001b[0m\u001b[1;33m\u001b[0m\u001b[0m\n\u001b[0;32m   1313\u001b[0m \u001b[1;33m\u001b[0m\u001b[0m\n\u001b[1;32m-> 1314\u001b[1;33m         \u001b[0mself\u001b[0m\u001b[1;33m.\u001b[0m\u001b[0m_validate_read_indexer\u001b[0m\u001b[1;33m(\u001b[0m\u001b[0mkeyarr\u001b[0m\u001b[1;33m,\u001b[0m \u001b[0mindexer\u001b[0m\u001b[1;33m,\u001b[0m \u001b[0maxis\u001b[0m\u001b[1;33m)\u001b[0m\u001b[1;33m\u001b[0m\u001b[1;33m\u001b[0m\u001b[0m\n\u001b[0m\u001b[0;32m   1315\u001b[0m \u001b[1;33m\u001b[0m\u001b[0m\n\u001b[0;32m   1316\u001b[0m         if needs_i8_conversion(ax.dtype) or isinstance(\n",
      "\u001b[1;32m~\\anaconda3\\lib\\site-packages\\pandas\\core\\indexing.py\u001b[0m in \u001b[0;36m_validate_read_indexer\u001b[1;34m(self, key, indexer, axis)\u001b[0m\n\u001b[0;32m   1372\u001b[0m                 \u001b[1;32mif\u001b[0m \u001b[0muse_interval_msg\u001b[0m\u001b[1;33m:\u001b[0m\u001b[1;33m\u001b[0m\u001b[1;33m\u001b[0m\u001b[0m\n\u001b[0;32m   1373\u001b[0m                     \u001b[0mkey\u001b[0m \u001b[1;33m=\u001b[0m \u001b[0mlist\u001b[0m\u001b[1;33m(\u001b[0m\u001b[0mkey\u001b[0m\u001b[1;33m)\u001b[0m\u001b[1;33m\u001b[0m\u001b[1;33m\u001b[0m\u001b[0m\n\u001b[1;32m-> 1374\u001b[1;33m                 \u001b[1;32mraise\u001b[0m \u001b[0mKeyError\u001b[0m\u001b[1;33m(\u001b[0m\u001b[1;34mf\"None of [{key}] are in the [{axis_name}]\"\u001b[0m\u001b[1;33m)\u001b[0m\u001b[1;33m\u001b[0m\u001b[1;33m\u001b[0m\u001b[0m\n\u001b[0m\u001b[0;32m   1375\u001b[0m \u001b[1;33m\u001b[0m\u001b[0m\n\u001b[0;32m   1376\u001b[0m             \u001b[0mnot_found\u001b[0m \u001b[1;33m=\u001b[0m \u001b[0mlist\u001b[0m\u001b[1;33m(\u001b[0m\u001b[0mensure_index\u001b[0m\u001b[1;33m(\u001b[0m\u001b[0mkey\u001b[0m\u001b[1;33m)\u001b[0m\u001b[1;33m[\u001b[0m\u001b[0mmissing_mask\u001b[0m\u001b[1;33m.\u001b[0m\u001b[0mnonzero\u001b[0m\u001b[1;33m(\u001b[0m\u001b[1;33m)\u001b[0m\u001b[1;33m[\u001b[0m\u001b[1;36m0\u001b[0m\u001b[1;33m]\u001b[0m\u001b[1;33m]\u001b[0m\u001b[1;33m.\u001b[0m\u001b[0munique\u001b[0m\u001b[1;33m(\u001b[0m\u001b[1;33m)\u001b[0m\u001b[1;33m)\u001b[0m\u001b[1;33m\u001b[0m\u001b[1;33m\u001b[0m\u001b[0m\n",
      "\u001b[1;31mKeyError\u001b[0m: \"None of [Index([('STATENAME', 'GENDER')], dtype='object')] are in the [columns]\""
     ]
    }
   ],
   "source": [
    "kopo_customerdata.loc[0:5,[targetColumns]]"
   ]
  },
  {
   "cell_type": "code",
   "execution_count": null,
   "id": "a9d61dca-c7a8-4886-a469-963fde38329d",
   "metadata": {},
   "outputs": [],
   "source": []
  },
  {
   "cell_type": "code",
   "execution_count": null,
   "id": "bbdbc20e-2252-4d3c-82dd-49f1ae81849a",
   "metadata": {},
   "outputs": [],
   "source": []
  },
  {
   "cell_type": "code",
   "execution_count": 10,
   "id": "adac40f3-318f-4bb2-8bbe-24e4b010ec5f",
   "metadata": {},
   "outputs": [],
   "source": [
    "refinedData = customerData.loc[ (customerData.DEVICECOUNT >= countCond) &\n",
    "                  (customerData.PRODUCTAGE < ageCond ) ]"
   ]
  },
  {
   "cell_type": "code",
   "execution_count": 12,
   "id": "c7485706-225f-492a-bd11-85910e12e26c",
   "metadata": {},
   "outputs": [
    {
     "data": {
      "text/html": [
       "<div>\n",
       "<style scoped>\n",
       "    .dataframe tbody tr th:only-of-type {\n",
       "        vertical-align: middle;\n",
       "    }\n",
       "\n",
       "    .dataframe tbody tr th {\n",
       "        vertical-align: top;\n",
       "    }\n",
       "\n",
       "    .dataframe thead th {\n",
       "        text-align: right;\n",
       "    }\n",
       "</style>\n",
       "<table border=\"1\" class=\"dataframe\">\n",
       "  <thead>\n",
       "    <tr style=\"text-align: right;\">\n",
       "      <th></th>\n",
       "      <th>CUSTID</th>\n",
       "      <th>AVGPRICE</th>\n",
       "      <th>EMI</th>\n",
       "      <th>DEVICECOUNT</th>\n",
       "      <th>PRODUCTAGE</th>\n",
       "      <th>CUSTTYPE</th>\n",
       "    </tr>\n",
       "  </thead>\n",
       "  <tbody>\n",
       "  </tbody>\n",
       "</table>\n",
       "</div>"
      ],
      "text/plain": [
       "Empty DataFrame\n",
       "Columns: [CUSTID, AVGPRICE, EMI, DEVICECOUNT, PRODUCTAGE, CUSTTYPE]\n",
       "Index: []"
      ]
     },
     "execution_count": 12,
     "metadata": {},
     "output_type": "execute_result"
    }
   ],
   "source": [
    "refinedData.loc[ refinedData.PRODUCTAGE >= 2] "
   ]
  },
  {
   "cell_type": "code",
   "execution_count": null,
   "id": "bf1e7943-d142-4869-8bfd-8db6ce65629a",
   "metadata": {},
   "outputs": [],
   "source": []
  },
  {
   "cell_type": "code",
   "execution_count": null,
   "id": "5c466fc4-e72d-4755-a147-b7b65ba7e8a3",
   "metadata": {},
   "outputs": [],
   "source": []
  },
  {
   "cell_type": "code",
   "execution_count": null,
   "id": "2b24894e-cf3e-4c36-9615-5661969cd7bd",
   "metadata": {},
   "outputs": [],
   "source": []
  },
  {
   "cell_type": "code",
   "execution_count": null,
   "id": "8fb4fdd6-0d07-4827-9aed-6f01c15cb047",
   "metadata": {},
   "outputs": [],
   "source": []
  },
  {
   "cell_type": "code",
   "execution_count": null,
   "id": "f586a7ce-2ea8-40a0-a1a0-9107848705f6",
   "metadata": {},
   "outputs": [],
   "source": []
  },
  {
   "cell_type": "code",
   "execution_count": null,
   "id": "73a59541-4bd4-4847-bd4e-9276b009c9cf",
   "metadata": {},
   "outputs": [],
   "source": []
  },
  {
   "cell_type": "code",
   "execution_count": null,
   "id": "04a0437b-e904-4e49-8cef-ce956fe6536e",
   "metadata": {},
   "outputs": [],
   "source": []
  },
  {
   "cell_type": "code",
   "execution_count": null,
   "id": "3b86c1f9-2123-4331-9d1a-2610fbbbc046",
   "metadata": {},
   "outputs": [],
   "source": []
  },
  {
   "cell_type": "code",
   "execution_count": 3,
   "id": "e52b26fb-fd50-4f74-a546-bde7c39f9931",
   "metadata": {},
   "outputs": [
    {
     "data": {
      "text/html": [
       "<div>\n",
       "<style scoped>\n",
       "    .dataframe tbody tr th:only-of-type {\n",
       "        vertical-align: middle;\n",
       "    }\n",
       "\n",
       "    .dataframe tbody tr th {\n",
       "        vertical-align: top;\n",
       "    }\n",
       "\n",
       "    .dataframe thead th {\n",
       "        text-align: right;\n",
       "    }\n",
       "</style>\n",
       "<table border=\"1\" class=\"dataframe\">\n",
       "  <thead>\n",
       "    <tr style=\"text-align: right;\">\n",
       "      <th></th>\n",
       "      <th>CUSTID</th>\n",
       "      <th>AVGPRICE</th>\n",
       "      <th>EMI</th>\n",
       "      <th>DEVICECOUNT</th>\n",
       "      <th>PRODUCTAGE</th>\n",
       "      <th>CUSTTYPE</th>\n",
       "    </tr>\n",
       "  </thead>\n",
       "  <tbody>\n",
       "    <tr>\n",
       "      <th>0</th>\n",
       "      <td>A13566</td>\n",
       "      <td>4273.900000</td>\n",
       "      <td>3</td>\n",
       "      <td>6</td>\n",
       "      <td>1.679181</td>\n",
       "      <td>Big-Screen-lover</td>\n",
       "    </tr>\n",
       "    <tr>\n",
       "      <th>9</th>\n",
       "      <td>C15050</td>\n",
       "      <td>4020.173425</td>\n",
       "      <td>2</td>\n",
       "      <td>4</td>\n",
       "      <td>3.013440</td>\n",
       "      <td>Sleeping-dog</td>\n",
       "    </tr>\n",
       "    <tr>\n",
       "      <th>10</th>\n",
       "      <td>C18306</td>\n",
       "      <td>4005.005142</td>\n",
       "      <td>2</td>\n",
       "      <td>4</td>\n",
       "      <td>3.113618</td>\n",
       "      <td>Sleeping-dog</td>\n",
       "    </tr>\n",
       "    <tr>\n",
       "      <th>15</th>\n",
       "      <td>D15289</td>\n",
       "      <td>4165.700000</td>\n",
       "      <td>2</td>\n",
       "      <td>6</td>\n",
       "      <td>2.911016</td>\n",
       "      <td>Big-Screen-lover</td>\n",
       "    </tr>\n",
       "    <tr>\n",
       "      <th>16</th>\n",
       "      <td>D17241</td>\n",
       "      <td>4166.533130</td>\n",
       "      <td>2</td>\n",
       "      <td>4</td>\n",
       "      <td>2.577757</td>\n",
       "      <td>Sleeping-dog</td>\n",
       "    </tr>\n",
       "    <tr>\n",
       "      <th>18</th>\n",
       "      <td>E10778</td>\n",
       "      <td>4165.700000</td>\n",
       "      <td>2</td>\n",
       "      <td>6</td>\n",
       "      <td>2.122257</td>\n",
       "      <td>Big-Screen-lover</td>\n",
       "    </tr>\n",
       "    <tr>\n",
       "      <th>25</th>\n",
       "      <td>F12979</td>\n",
       "      <td>4165.700000</td>\n",
       "      <td>2</td>\n",
       "      <td>6</td>\n",
       "      <td>2.128362</td>\n",
       "      <td>Big-Screen-lover</td>\n",
       "    </tr>\n",
       "    <tr>\n",
       "      <th>38</th>\n",
       "      <td>H10188</td>\n",
       "      <td>4020.245162</td>\n",
       "      <td>2</td>\n",
       "      <td>6</td>\n",
       "      <td>0.900000</td>\n",
       "      <td>Early-bird</td>\n",
       "    </tr>\n",
       "    <tr>\n",
       "      <th>66</th>\n",
       "      <td>M17538</td>\n",
       "      <td>4111.600000</td>\n",
       "      <td>2</td>\n",
       "      <td>6</td>\n",
       "      <td>2.012517</td>\n",
       "      <td>Big-Screen-lover</td>\n",
       "    </tr>\n",
       "    <tr>\n",
       "      <th>113</th>\n",
       "      <td>T11473</td>\n",
       "      <td>4165.700000</td>\n",
       "      <td>3</td>\n",
       "      <td>6</td>\n",
       "      <td>1.780674</td>\n",
       "      <td>Big-Screen-lover</td>\n",
       "    </tr>\n",
       "    <tr>\n",
       "      <th>129</th>\n",
       "      <td>W13032</td>\n",
       "      <td>4003.400000</td>\n",
       "      <td>2</td>\n",
       "      <td>6</td>\n",
       "      <td>2.519623</td>\n",
       "      <td>Big-Screen-lover</td>\n",
       "    </tr>\n",
       "    <tr>\n",
       "      <th>130</th>\n",
       "      <td>W13404</td>\n",
       "      <td>4296.873743</td>\n",
       "      <td>3</td>\n",
       "      <td>6</td>\n",
       "      <td>1.100000</td>\n",
       "      <td>Early-bird</td>\n",
       "    </tr>\n",
       "  </tbody>\n",
       "</table>\n",
       "</div>"
      ],
      "text/plain": [
       "     CUSTID     AVGPRICE  EMI  DEVICECOUNT  PRODUCTAGE          CUSTTYPE\n",
       "0    A13566  4273.900000    3            6    1.679181  Big-Screen-lover\n",
       "9    C15050  4020.173425    2            4    3.013440      Sleeping-dog\n",
       "10   C18306  4005.005142    2            4    3.113618      Sleeping-dog\n",
       "15   D15289  4165.700000    2            6    2.911016  Big-Screen-lover\n",
       "16   D17241  4166.533130    2            4    2.577757      Sleeping-dog\n",
       "18   E10778  4165.700000    2            6    2.122257  Big-Screen-lover\n",
       "25   F12979  4165.700000    2            6    2.128362  Big-Screen-lover\n",
       "38   H10188  4020.245162    2            6    0.900000        Early-bird\n",
       "66   M17538  4111.600000    2            6    2.012517  Big-Screen-lover\n",
       "113  T11473  4165.700000    3            6    1.780674  Big-Screen-lover\n",
       "129  W13032  4003.400000    2            6    2.519623  Big-Screen-lover\n",
       "130  W13404  4296.873743    3            6    1.100000        Early-bird"
      ]
     },
     "execution_count": 3,
     "metadata": {},
     "output_type": "execute_result"
    }
   ],
   "source": [
    "customerData.loc[  customerData[\"AVGPRICE\"] > 4000  ]"
   ]
  },
  {
   "cell_type": "code",
   "execution_count": null,
   "id": "589de9dc-0895-4385-a069-221742c2f1ff",
   "metadata": {},
   "outputs": [],
   "source": []
  }
 ],
 "metadata": {
  "kernelspec": {
   "display_name": "Python 3 (ipykernel)",
   "language": "python",
   "name": "python3"
  },
  "language_info": {
   "codemirror_mode": {
    "name": "ipython",
    "version": 3
   },
   "file_extension": ".py",
   "mimetype": "text/x-python",
   "name": "python",
   "nbconvert_exporter": "python",
   "pygments_lexer": "ipython3",
   "version": "3.9.7"
  }
 },
 "nbformat": 4,
 "nbformat_minor": 5
}
