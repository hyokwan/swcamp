{
 "cells": [
  {
   "cell_type": "code",
   "execution_count": 1,
   "id": "18b28451-f070-426c-b280-6ec60bb24d2a",
   "metadata": {},
   "outputs": [
    {
     "data": {
      "text/plain": [
       "[0, 2, 4]"
      ]
     },
     "execution_count": 1,
     "metadata": {},
     "output_type": "execute_result"
    }
   ],
   "source": [
    "list( range(0,5,2) )"
   ]
  },
  {
   "cell_type": "code",
   "execution_count": 2,
   "id": "ffda3dfa-15e2-496d-aa91-067dc8e49642",
   "metadata": {},
   "outputs": [],
   "source": [
    "import datetime"
   ]
  },
  {
   "cell_type": "code",
   "execution_count": 3,
   "id": "1161a925-f537-45f2-a7b7-ad8895b8bab8",
   "metadata": {},
   "outputs": [],
   "source": [
    "currentDate = datetime.datetime.now()"
   ]
  },
  {
   "cell_type": "code",
   "execution_count": 4,
   "id": "78fcbcdc-665f-47e8-b214-a4eb1c4b05c6",
   "metadata": {},
   "outputs": [],
   "source": [
    "currentYear = currentDate.year"
   ]
  },
  {
   "cell_type": "code",
   "execution_count": 5,
   "id": "f890808e-0ffd-4ce0-8658-721b106a737c",
   "metadata": {},
   "outputs": [],
   "source": [
    "targetPeriods = 20"
   ]
  },
  {
   "cell_type": "code",
   "execution_count": 6,
   "id": "8794f00c-dd72-47d1-8e9d-d03e97085ea1",
   "metadata": {
    "scrolled": true,
    "tags": []
   },
   "outputs": [
    {
     "data": {
      "text/plain": [
       "[2023,\n",
       " 2024,\n",
       " 2025,\n",
       " 2026,\n",
       " 2027,\n",
       " 2028,\n",
       " 2029,\n",
       " 2030,\n",
       " 2031,\n",
       " 2032,\n",
       " 2033,\n",
       " 2034,\n",
       " 2035,\n",
       " 2036,\n",
       " 2037,\n",
       " 2038,\n",
       " 2039,\n",
       " 2040,\n",
       " 2041,\n",
       " 2042]"
      ]
     },
     "execution_count": 6,
     "metadata": {},
     "output_type": "execute_result"
    }
   ],
   "source": [
    "list ( range(currentYear, currentYear+targetPeriods) )"
   ]
  },
  {
   "cell_type": "markdown",
   "id": "bd1d4c82-4574-4a3e-ba78-1506c1187c90",
   "metadata": {},
   "source": [
    "### 반복문 무한루프"
   ]
  },
  {
   "cell_type": "code",
   "execution_count": 7,
   "id": "6e0c66a2-9571-477a-acf4-bcfa5307d860",
   "metadata": {},
   "outputs": [],
   "source": [
    "targetList = [\"LEDTV_001\",\"LEDTV_002\",\"LEDTV_003\"]"
   ]
  },
  {
   "cell_type": "code",
   "execution_count": 8,
   "id": "9872dd00-0e9e-4772-8c73-360a5108216c",
   "metadata": {},
   "outputs": [
    {
     "name": "stdout",
     "output_type": "stream",
     "text": [
      "LEDTV_001\n",
      "LEDTV_002\n",
      "LEDTV_003\n"
     ]
    }
   ],
   "source": [
    "print(targetList[0])\n",
    "print(targetList[1])\n",
    "print(targetList[2])"
   ]
  },
  {
   "cell_type": "code",
   "execution_count": 9,
   "id": "54a91f28-fadc-413c-b924-a1a8df2ac005",
   "metadata": {},
   "outputs": [
    {
     "name": "stdout",
     "output_type": "stream",
     "text": [
      "LEDTV_001\n",
      "LEDTV_002\n",
      "LEDTV_003\n"
     ]
    }
   ],
   "source": [
    "# for문 헤더 생성 구문을 tab으로 들여쓰기 한다\n",
    "# 반복되는 인덱스 번호를 반복변수로 변환한다\n",
    "for i in range(0, len(targetList)):\n",
    "    print(targetList[i])"
   ]
  },
  {
   "cell_type": "code",
   "execution_count": 10,
   "id": "518f9f64-d194-4a93-8160-3eee90d713d9",
   "metadata": {},
   "outputs": [],
   "source": [
    "targetList = [\"LEDTV_001\",\"LEDTV_002\",\"LEDTV_003\"]"
   ]
  },
  {
   "cell_type": "code",
   "execution_count": 11,
   "id": "6e56c1b1-6edf-4e53-97b0-a3c57a3b7431",
   "metadata": {},
   "outputs": [],
   "source": [
    "i=0"
   ]
  },
  {
   "cell_type": "code",
   "execution_count": 12,
   "id": "b8e1f060-32b0-4005-829e-8666ed2d8a1c",
   "metadata": {},
   "outputs": [
    {
     "name": "stdout",
     "output_type": "stream",
     "text": [
      "LEDTV_001\n",
      "LEDTV_002\n",
      "LEDTV_003\n"
     ]
    }
   ],
   "source": [
    "while( i < len(targetList) ):\n",
    "    print(targetList[i])\n",
    "    # 안쓰면 무한루프\n",
    "    i = i+1"
   ]
  },
  {
   "cell_type": "markdown",
   "id": "2979ee61-ab50-45e3-a4d7-cc7a6108cdf9",
   "metadata": {},
   "source": [
    "### 1-2. 조건문"
   ]
  },
  {
   "cell_type": "code",
   "execution_count": 13,
   "id": "f0ae2037-bc83-4e45-aff4-a7166503fa3d",
   "metadata": {},
   "outputs": [],
   "source": [
    "targetModel = \"UN52_001\"\n",
    "preFix = \"LEDTV_\""
   ]
  },
  {
   "cell_type": "code",
   "execution_count": 14,
   "id": "fdf9cc2b-4246-4d58-8a2d-255ada572fe8",
   "metadata": {},
   "outputs": [],
   "source": [
    "delimeter = \"_\"\n",
    "outCode = \"99999\"\n",
    "recallSerial = \"001\""
   ]
  },
  {
   "cell_type": "code",
   "execution_count": 15,
   "id": "c7078e9c-82e0-4f80-ab7e-49ecd866ac11",
   "metadata": {},
   "outputs": [],
   "source": [
    "# 접두어가 있으면 접두어를 붙인다.\n",
    "# 시리얼번호가 끝자리 001인 경우 모델코드 99999 으로 변경\n",
    "if targetModel.count(preFix) == 0:\n",
    "    targetModel = preFix + targetModel\n",
    "elif targetModel.split(delimeter)[1] == recallSerial:\n",
    "    targetModel = outCode\n",
    "else:\n",
    "    pass"
   ]
  },
  {
   "cell_type": "code",
   "execution_count": 16,
   "id": "196564b2-d10d-41c2-9f2f-5d4535f9c930",
   "metadata": {},
   "outputs": [
    {
     "data": {
      "text/plain": [
       "'LEDTV_UN52_001'"
      ]
     },
     "execution_count": 16,
     "metadata": {},
     "output_type": "execute_result"
    }
   ],
   "source": [
    "targetModel"
   ]
  },
  {
   "cell_type": "code",
   "execution_count": 17,
   "id": "c5759f97-ff97-4a31-ab9f-2f1f6aa62337",
   "metadata": {},
   "outputs": [],
   "source": [
    "# 접두어가 있으면 접두어를 붙인다.\n",
    "# 시리얼번호가 끝자리 001인 경우 모델코드 99999 으로 변경\n",
    "if targetModel.split(delimeter)[1] == recallSerial:\n",
    "    targetModel = outCode\n",
    "elif targetModel.count(preFix) == 0:\n",
    "    targetModel = preFix + targetModel\n",
    "else:\n",
    "    pass"
   ]
  },
  {
   "cell_type": "code",
   "execution_count": 18,
   "id": "53d47791-8e04-4863-a873-8988718e75bb",
   "metadata": {},
   "outputs": [
    {
     "data": {
      "text/plain": [
       "'LEDTV_UN52_001'"
      ]
     },
     "execution_count": 18,
     "metadata": {},
     "output_type": "execute_result"
    }
   ],
   "source": [
    "targetModel"
   ]
  },
  {
   "cell_type": "markdown",
   "id": "a006bbde-c198-4b5d-b708-c5eec05ae89b",
   "metadata": {},
   "source": [
    "### 문제 4개의 아이템을 조건문을 활용하여 LEDTV_가 하나만 붙도록 한다!"
   ]
  },
  {
   "cell_type": "code",
   "execution_count": 19,
   "id": "bc0f9ee9-f2d7-4782-a200-f6555f423434",
   "metadata": {},
   "outputs": [],
   "source": [
    "tvList = [\"LEDTV_LEDTV_UN40EN001\", \n",
    "          \"UN40EN002\", \n",
    "          \"LEDTV_UN40EN003\", \n",
    "          \"UN40EN004\"]"
   ]
  },
  {
   "cell_type": "code",
   "execution_count": 20,
   "id": "8faa3487-5235-4792-8099-56799e091964",
   "metadata": {},
   "outputs": [],
   "source": [
    "preFix = \"LEDTV_\""
   ]
  },
  {
   "cell_type": "code",
   "execution_count": 21,
   "id": "3955aa06-5b5c-47db-b43b-a92aacc4e20c",
   "metadata": {},
   "outputs": [],
   "source": [
    "for i in range(0, len(tvList)):\n",
    "\n",
    "    ### STEP1. PREFIX가 없으면 붙여라\n",
    "    if tvList[i].count(preFix) == 0:\n",
    "        tvList[i] = preFix + tvList[i]\n",
    "    ### STEP2. PREFIX가 1개 있으면 PASS\n",
    "    elif tvList[i].count(preFix) == 1:\n",
    "        pass\n",
    "    ### STEP3. PREFIX가 2개 이상인경우 지우고 붙인다.\n",
    "    elif tvList[i].count(preFix) >= 2:\n",
    "        tvList[i] = preFix + tvList[i].replace(preFix,\"\")\n",
    "    else:\n",
    "        pass"
   ]
  },
  {
   "cell_type": "markdown",
   "id": "a15786e9-fa13-4d2e-ac2d-bab2e894c279",
   "metadata": {},
   "source": [
    "for문 디버깅하는 방법\n",
    "1. 헤더를 주석처리한다\n",
    "2. 구문을 shift + tab으로 땡긴다.\n",
    "3. i값을 별도로 선언한다."
   ]
  },
  {
   "cell_type": "code",
   "execution_count": 22,
   "id": "74effffe-6df2-404d-bbba-2e5c7e46f722",
   "metadata": {},
   "outputs": [],
   "source": [
    "tvList = [\"LEDTV_LEDTV_UN40EN001\", \n",
    "          \"UN40EN002\", \n",
    "          \"LEDTV_UN40EN003\", \n",
    "          \"UN40EN004\"]\n",
    "preFix = \"LEDTV_\"\n",
    "for i in range(0, len(tvList)):\n",
    "\n",
    "    ### STEP1. PREFIX가 없으면 붙여라\n",
    "    if tvList[i].count(preFix) == 0:\n",
    "        tvList[i] = preFix + tvList[i]\n",
    "    ### STEP2. PREFIX가 1개 있으면 PASS\n",
    "    elif tvList[i].count(preFix) == 1:\n",
    "        pass\n",
    "    ### STEP3. PREFIX가 2개 이상인경우 지우고 붙인다.\n",
    "    elif tvList[i].count(preFix) >= 2:\n",
    "        tvList[i] = preFix + tvList[i].replace(preFix,\"\")\n",
    "    else:\n",
    "        pass"
   ]
  },
  {
   "cell_type": "markdown",
   "id": "6d9a22a6-f3bd-4995-a493-106a1cbd3b40",
   "metadata": {},
   "source": [
    "### 분석 코드"
   ]
  },
  {
   "cell_type": "markdown",
   "id": "c650a6a8-3d00-4c88-abaa-ec94a9a1d042",
   "metadata": {},
   "source": [
    "### 1. 데이터 수집"
   ]
  },
  {
   "cell_type": "code",
   "execution_count": 24,
   "id": "02d8cb58-3b3f-4df5-a399-6134e2ebc069",
   "metadata": {},
   "outputs": [
    {
     "data": {
      "text/plain": [
       "10.5552"
      ]
     },
     "execution_count": 24,
     "metadata": {},
     "output_type": "execute_result"
    }
   ],
   "source": [
    "def roundFunction(indata, decimal_point = 2, upgage=0):\n",
    "    \n",
    "    if decimal_point == 2:\n",
    "        return int(indata * 100) /100 + upgage\n",
    "    elif decimal_point == 3:\n",
    "        return int(indata * 1000) /1000 + upgage\n",
    "    elif decimal_point == 4:\n",
    "        return int(indata * 10000) /10000 + upgage\n",
    "\n",
    "roundFunction(10.555232)\n",
    "roundFunction(10.555232, 3)\n",
    "roundFunction(10.555232, 4)"
   ]
  },
  {
   "cell_type": "code",
   "execution_count": 25,
   "id": "c4e8ba5d-27bf-4e63-aed9-787c7a53accd",
   "metadata": {},
   "outputs": [],
   "source": [
    "# 함수정의: 입력값을 받아 소수점 둘째자리 내림 처리\n",
    "# 파라미터 정의: indata 수\n",
    "# 문제 입력파라미터에 따라 소수점 둘쨰, 셋째 , 넷째 가능한 함수 구현\n",
    "def roundFunction(indata, upgage=0):\n",
    "\n",
    "    # 테스트 데이터\n",
    "    # indata = 10.555232\n",
    "    ### 1. 스텝1: 데이터를 100을 곱해준다\n",
    "    step1 = indata*100\n",
    "\n",
    "    ### 2. 스탭2: 데이터를 int로 소수점 다 버림 (만약 반올림인경우 0.5더한 후 int)\n",
    "    step2 = int( step1+0.5 )\n",
    "    ### 3. 스탭3: 데이터를 100을 나누어 준다\n",
    "    step3 = step2 /100 + upgage\n",
    "\n",
    "    return step3"
   ]
  },
  {
   "cell_type": "markdown",
   "id": "eefaa072-5290-43d8-8d9f-26bf9417bb9d",
   "metadata": {},
   "source": [
    "### 리스트를 입력값으로 받아 최소 최대값을 뺀 평균을 구한다."
   ]
  },
  {
   "cell_type": "code",
   "execution_count": 26,
   "id": "25caa23d-bfb6-457d-804e-1986f08122b5",
   "metadata": {},
   "outputs": [],
   "source": [
    "def calcAverage(inlist):\n",
    "    # 테스트리스트\n",
    "    # inlist = [100,200,300,400,500,1000]\n",
    "\n",
    "    #step1: 최소/최대값 정의\n",
    "\n",
    "    minValue = min(inlist)\n",
    "    maxValue = max(inlist)\n",
    "    print(minValue, maxValue)\n",
    "\n",
    "    #step2: 최소최대값 제거\n",
    "\n",
    "    inlist.remove(minValue)\n",
    "    inlist.remove(maxValue)\n",
    "\n",
    "    #step3: 평균 산출 (전체합/전체길이)\n",
    "\n",
    "    totalSum = sum(inlist)\n",
    "    totalLength = len(inlist)\n",
    "\n",
    "    # 분모 0처리는 나누기에서 꼭 해줘야한다.\n",
    "    average = 0\n",
    "    if totalLength == 0:\n",
    "        pass\n",
    "    else:\n",
    "        average = totalSum/totalLength\n",
    "    return average"
   ]
  },
  {
   "cell_type": "code",
   "execution_count": 27,
   "id": "c478d597-a07c-403f-a8f4-2d266a60fd6b",
   "metadata": {},
   "outputs": [],
   "source": [
    "testList1 = [11,222,33,444,324324,3434344323423123,111]"
   ]
  },
  {
   "cell_type": "code",
   "execution_count": 28,
   "id": "82aebfe3-f42e-4c5c-821e-c0d640183eec",
   "metadata": {},
   "outputs": [
    {
     "name": "stdout",
     "output_type": "stream",
     "text": [
      "11 3434344323423123\n"
     ]
    }
   ],
   "source": [
    "testListAvg = calcAverage(testList1)"
   ]
  },
  {
   "cell_type": "code",
   "execution_count": 29,
   "id": "651bd354-3788-4ba7-85c2-127b12f64fa0",
   "metadata": {},
   "outputs": [
    {
     "data": {
      "text/plain": [
       "65026.8"
      ]
     },
     "execution_count": 29,
     "metadata": {},
     "output_type": "execute_result"
    }
   ],
   "source": [
    "testListAvg"
   ]
  },
  {
   "cell_type": "code",
   "execution_count": 30,
   "id": "81350613-633b-4af0-9708-7860e46d8928",
   "metadata": {},
   "outputs": [],
   "source": [
    "testData= 111.23243242394"
   ]
  },
  {
   "cell_type": "code",
   "execution_count": 31,
   "id": "2b5ca723-c217-48c4-b38c-c7d680cbeb0f",
   "metadata": {},
   "outputs": [
    {
     "data": {
      "text/plain": [
       "211.23000000000002"
      ]
     },
     "execution_count": 31,
     "metadata": {},
     "output_type": "execute_result"
    }
   ],
   "source": [
    "roundFunction(testData, 100)"
   ]
  },
  {
   "cell_type": "code",
   "execution_count": 32,
   "id": "75ef2f6e-44e9-4d94-a9cc-98d58bc99d02",
   "metadata": {},
   "outputs": [],
   "source": [
    "# 테스트 데이터\n",
    "indata = 10.555232"
   ]
  },
  {
   "cell_type": "code",
   "execution_count": 33,
   "id": "d62f1edb-06dd-4605-9bd1-ce55ae162450",
   "metadata": {},
   "outputs": [
    {
     "data": {
      "text/plain": [
       "10.55"
      ]
     },
     "execution_count": 33,
     "metadata": {},
     "output_type": "execute_result"
    }
   ],
   "source": [
    "### 1. 스텝1: 데이터를 100을 곱해준다\n",
    "step1 = indata*100\n",
    "### 2. 스탭2: 데이터를 int로 소수점 다 버림 (만약 반올림인경우 0.5더한 후 int)\n",
    "step2 = int(step1)\n",
    "### 3. 스탭3: 데이터를 100을 나누어 준다\n",
    "step3 = step2 /100\n",
    "\n",
    "step3"
   ]
  },
  {
   "cell_type": "code",
   "execution_count": 35,
   "id": "6b2ed683-b99c-4bdf-980f-2a9967951833",
   "metadata": {},
   "outputs": [],
   "source": [
    "modelRepo = [\"MODEL01\",\"MODEL02\",\"MODEL03\"]"
   ]
  },
  {
   "cell_type": "code",
   "execution_count": 36,
   "id": "41249b58-3082-4488-9e86-620ae7de9c89",
   "metadata": {},
   "outputs": [],
   "source": [
    "recallItem = \"MODEL01\""
   ]
  },
  {
   "cell_type": "code",
   "execution_count": 37,
   "id": "b7fc2182-d4ff-4b00-955e-dfb9d7d2d987",
   "metadata": {},
   "outputs": [
    {
     "name": "stdout",
     "output_type": "stream",
     "text": [
      "MODEL01\n"
     ]
    }
   ],
   "source": [
    "for i in range(0, len(modelRepo)):\n",
    "    # recall 대상아이템을 만나면 탈출\n",
    "    if modelRepo[i] == recallItem:\n",
    "        print(modelRepo[i])\n",
    "    else:\n",
    "        pass\n",
    "    # 뒷단에 엄청난 로직들이 있다!!!!! (1000줄씪!!!!)"
   ]
  },
  {
   "cell_type": "code",
   "execution_count": 38,
   "id": "d90092b1-2cca-4dc2-8850-4913606eca2f",
   "metadata": {},
   "outputs": [
    {
     "data": {
      "text/plain": [
       "'C:\\\\Users\\\\kopo\\\\stdcode\\\\codeset'"
      ]
     },
     "execution_count": 38,
     "metadata": {},
     "output_type": "execute_result"
    }
   ],
   "source": [
    "pwd"
   ]
  },
  {
   "cell_type": "code",
   "execution_count": null,
   "id": "c1e0eb11-0fea-456f-bfff-9c708a0f6d3b",
   "metadata": {},
   "outputs": [],
   "source": []
  },
  {
   "cell_type": "code",
   "execution_count": null,
   "id": "81a9de22-6a89-49ad-9134-50ca2589f732",
   "metadata": {},
   "outputs": [],
   "source": []
  },
  {
   "cell_type": "code",
   "execution_count": 39,
   "id": "5b76f9b2-438c-4b8f-ae41-92d91cc14de6",
   "metadata": {},
   "outputs": [],
   "source": [
    "# 함수정의: 입력값을 받아 소수점 둘째자리 내림 처리\n",
    "# 파라미터 정의: indata 수\n",
    "def roundFunction(indata):\n",
    "\n",
    "    # 테스트 데이터\n",
    "    # indata = 10.555232\n",
    "    ### 1. 스텝1: 데이터를 100을 곱해준다\n",
    "    step1 = indata*100\n",
    "    ### 2. 스탭2: 데이터를 int로 소수점 다 버림 (만약 반올림인경우 0.5더한 후 int)\n",
    "    step2 = int(step1)\n",
    "    ### 3. 스탭3: 데이터를 100을 나누어 준다\n",
    "    step3 = step2 /100\n",
    "    \n",
    "    return step3"
   ]
  },
  {
   "cell_type": "code",
   "execution_count": 40,
   "id": "ba58a350-736a-4bdc-af51-131ea2dc804e",
   "metadata": {},
   "outputs": [],
   "source": [
    "refinedData = 12.5555\n",
    "refinedResult = roundFunction(refinedData)"
   ]
  },
  {
   "cell_type": "code",
   "execution_count": 41,
   "id": "35db7794-df6c-4c44-adb4-c9a2af9971d4",
   "metadata": {},
   "outputs": [
    {
     "data": {
      "text/plain": [
       "12.55"
      ]
     },
     "execution_count": 41,
     "metadata": {},
     "output_type": "execute_result"
    }
   ],
   "source": [
    "refinedResult"
   ]
  },
  {
   "cell_type": "code",
   "execution_count": 42,
   "id": "f1a13986-6845-420b-b70c-68a6feb1ec68",
   "metadata": {},
   "outputs": [],
   "source": [
    "# 로직 (소수점 둘쨰자리로 반올림)"
   ]
  },
  {
   "cell_type": "markdown",
   "id": "07123a95-56a2-4f12-bcbd-21709e5da9d6",
   "metadata": {},
   "source": [
    "### 2. 데이터 전처리"
   ]
  },
  {
   "cell_type": "code",
   "execution_count": 43,
   "id": "6d6b7414-4165-45ec-bb91-65de455bde81",
   "metadata": {},
   "outputs": [
    {
     "data": {
      "text/plain": [
       "12.55"
      ]
     },
     "execution_count": 43,
     "metadata": {},
     "output_type": "execute_result"
    }
   ],
   "source": [
    "refinedData = 12.5555\n",
    "\n",
    "roundFunction(refinedData)"
   ]
  },
  {
   "cell_type": "code",
   "execution_count": 44,
   "id": "7bc1b07a-a83f-4623-9ec8-b5e6ab1176b1",
   "metadata": {},
   "outputs": [],
   "source": [
    "# 로직 (소수점 둘쨰자리로 반올림)"
   ]
  },
  {
   "cell_type": "markdown",
   "id": "6df38cb0-1bbf-46bd-a809-2cc424a87995",
   "metadata": {},
   "source": [
    "### 3. 데이터 셋 분할"
   ]
  },
  {
   "cell_type": "code",
   "execution_count": 45,
   "id": "5363af0c-82b6-4dee-bd47-76b58c0321ee",
   "metadata": {},
   "outputs": [],
   "source": [
    "trainSet = 10.555\n",
    "testSet = 20.12555555222"
   ]
  },
  {
   "cell_type": "code",
   "execution_count": 46,
   "id": "332036ec-88b8-417a-91e0-df80026b9daf",
   "metadata": {},
   "outputs": [],
   "source": [
    "testResult = roundFunction(testSet)"
   ]
  },
  {
   "cell_type": "code",
   "execution_count": 47,
   "id": "2ae5a1fd-3778-4a6c-938b-d8e4e3eac182",
   "metadata": {},
   "outputs": [],
   "source": [
    "# 로직 (소수점 둘쨰자리로 반올림)"
   ]
  },
  {
   "cell_type": "code",
   "execution_count": 48,
   "id": "eeb93064-5546-4125-8cd0-0b32310bd84d",
   "metadata": {},
   "outputs": [
    {
     "data": {
      "text/plain": [
       "'LEDTV_UN40EN001'"
      ]
     },
     "execution_count": 48,
     "metadata": {},
     "output_type": "execute_result"
    }
   ],
   "source": [
    "preFix + tvList[0].replace(preFix,\"\")"
   ]
  },
  {
   "cell_type": "code",
   "execution_count": 49,
   "id": "c85f4806-451e-4b68-827f-dc549e0a8e89",
   "metadata": {},
   "outputs": [],
   "source": [
    "### STEP1. PREFIX가 없으면 붙여라\n",
    "### STEP2. PREFIX가 있으면 PREFIX전부 지우고 붙여라!"
   ]
  },
  {
   "cell_type": "markdown",
   "id": "799bd879-4b57-47f5-aee7-73e72bac20d0",
   "metadata": {},
   "source": [
    "\n",
    "### 문제 4개의 아이템을 조건문을 활용하여 LEDTV_가 하나만 붙도록 한다!\n",
    "tvList = [\"LEDTV_LEDTV_UN40EN001\", \n",
    "          \"UN40EN002\", \n",
    "          \"LEDTV_UN40EN003\", \n",
    "          \"UN40EN004\"]"
   ]
  },
  {
   "cell_type": "code",
   "execution_count": 50,
   "id": "c3d4d12c-ef64-476f-8116-eb5fb39ebf09",
   "metadata": {},
   "outputs": [],
   "source": [
    "tvList = [\"LEDTV_LEDTV_UN40EN001\", \n",
    "          \"UN40EN002\", \n",
    "          \"LEDTV_UN40EN003\", \n",
    "          \"UN40EN004\"]"
   ]
  },
  {
   "cell_type": "code",
   "execution_count": 51,
   "id": "9bbc0b0c-40d2-48dd-99c6-3e7e218782a8",
   "metadata": {},
   "outputs": [],
   "source": [
    "preFix = \"LEDTV_\""
   ]
  },
  {
   "cell_type": "code",
   "execution_count": 52,
   "id": "a1bcbe45-492d-4065-9835-0f34bd8929d3",
   "metadata": {},
   "outputs": [],
   "source": [
    "for i in range(0, len(tvList)):\n",
    "\n",
    "    ## 아이템별로 접두어가 1개 이상있으면 지우고 접두어를 붙인다!\n",
    "    if tvList[i].count(preFix) >= 1:\n",
    "        tvList[i] = preFix + tvList[i].replace(preFix, \"\")\n",
    "\n",
    "    ## 아이템별로 접두어가 없으면 접두어를 붙인다\n",
    "    else:\n",
    "        tvList[i] = preFix + tvList[i]"
   ]
  },
  {
   "cell_type": "code",
   "execution_count": 53,
   "id": "cbd0f568-8c2e-47b3-907c-8fa6c1ba9e12",
   "metadata": {},
   "outputs": [
    {
     "data": {
      "text/plain": [
       "['LEDTV_UN40EN001', 'LEDTV_UN40EN002', 'LEDTV_UN40EN003', 'LEDTV_UN40EN004']"
      ]
     },
     "execution_count": 53,
     "metadata": {},
     "output_type": "execute_result"
    }
   ],
   "source": [
    "tvList"
   ]
  }
 ],
 "metadata": {
  "kernelspec": {
   "display_name": "Python 3 (ipykernel)",
   "language": "python",
   "name": "python3"
  },
  "language_info": {
   "codemirror_mode": {
    "name": "ipython",
    "version": 3
   },
   "file_extension": ".py",
   "mimetype": "text/x-python",
   "name": "python",
   "nbconvert_exporter": "python",
   "pygments_lexer": "ipython3",
   "version": "3.9.7"
  }
 },
 "nbformat": 4,
 "nbformat_minor": 5
}
