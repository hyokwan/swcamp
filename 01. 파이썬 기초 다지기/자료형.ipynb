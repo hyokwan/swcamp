{
 "cells": [
  {
   "cell_type": "code",
   "execution_count": 5,
   "id": "523c3816-28cd-4dbf-9898-aea2c5dc5af0",
   "metadata": {},
   "outputs": [],
   "source": [
    "### 변수: \n",
    "### 1. 이름을 잘 만들어야 한다 작명센스!!!\n",
    "### 2. 숫자가 맨앞에 올수 없다!\n",
    "### 3. 단어와 단어 사이는 _ 또는 대문자로 구별한다."
   ]
  },
  {
   "cell_type": "code",
   "execution_count": 7,
   "id": "7475b03a-7740-4f3f-890b-b28a1994dc51",
   "metadata": {},
   "outputs": [],
   "source": [
    "price = 1000\n",
    "discount = 200\n",
    "discountedPrice = price - discount"
   ]
  },
  {
   "cell_type": "markdown",
   "id": "02cb9d45-2495-402c-93b2-71233924949e",
   "metadata": {},
   "source": [
    "### 1-1. 자료형"
   ]
  },
  {
   "cell_type": "code",
   "execution_count": 8,
   "id": "7bb603d0-b70b-4012-ab66-112703b9f141",
   "metadata": {},
   "outputs": [
    {
     "data": {
      "text/plain": [
       "77"
      ]
     },
     "execution_count": 8,
     "metadata": {},
     "output_type": "execute_result"
    }
   ],
   "source": [
    "a=33\n",
    "b=44\n",
    "a+b"
   ]
  },
  {
   "cell_type": "markdown",
   "id": "20b5f36a-f0b4-45ea-91c2-f0ae9ab1a408",
   "metadata": {},
   "source": [
    "### 1-1-1. 수"
   ]
  },
  {
   "cell_type": "code",
   "execution_count": 11,
   "id": "19ae7427-e2ac-4039-b9cf-f500d0cf0874",
   "metadata": {},
   "outputs": [],
   "source": [
    "integerValue = 10\n",
    "floatValue = 20.5"
   ]
  },
  {
   "cell_type": "code",
   "execution_count": 22,
   "id": "26e2ecda-d426-418c-aa7d-21809c60533d",
   "metadata": {},
   "outputs": [
    {
     "name": "stdout",
     "output_type": "stream",
     "text": [
      "30.5\n",
      "-10.5\n",
      "205.0\n",
      "0.4878048780487805\n"
     ]
    }
   ],
   "source": [
    "plusAns = integerValue+floatValue\n",
    "minusAns = integerValue-floatValue\n",
    "multiAns = integerValue*floatValue\n",
    "dicAns = integerValue/floatValue\n",
    "print(plusAns)\n",
    "print(minusAns)\n",
    "print(multiAns)\n",
    "print(dicAns)"
   ]
  },
  {
   "cell_type": "code",
   "execution_count": 23,
   "id": "b1dcddbe-9241-46c7-a1fd-197a8cc7c6f3",
   "metadata": {},
   "outputs": [],
   "source": [
    "pattern = 4"
   ]
  },
  {
   "cell_type": "code",
   "execution_count": 27,
   "id": "9b0f32c8-3e64-4b91-a86b-fe1687f2a3c8",
   "metadata": {},
   "outputs": [],
   "source": [
    "targetWeek = 24"
   ]
  },
  {
   "cell_type": "code",
   "execution_count": 28,
   "id": "a483d130-fcd3-45e6-9084-fd0eef9ab4ea",
   "metadata": {},
   "outputs": [
    {
     "data": {
      "text/plain": [
       "0"
      ]
     },
     "execution_count": 28,
     "metadata": {},
     "output_type": "execute_result"
    }
   ],
   "source": [
    "targetWeek%pattern"
   ]
  },
  {
   "cell_type": "markdown",
   "id": "bf794641-c2cf-4505-b498-ae42369ac97f",
   "metadata": {},
   "source": [
    "현재 시간과 분을 입력값으로 받아서\n",
    "두개의 값을 더하는 연산을 수행하세요"
   ]
  },
  {
   "cell_type": "code",
   "execution_count": 30,
   "id": "2f1f3927-fd1b-4879-bc13-b0f488448d53",
   "metadata": {},
   "outputs": [
    {
     "name": "stdout",
     "output_type": "stream",
     "text": [
      "49\n"
     ]
    }
   ],
   "source": [
    "currentHour = 13\n",
    "currentMin = 36\n",
    "answer = currentHour + currentMin\n",
    "print(answer)"
   ]
  },
  {
   "cell_type": "code",
   "execution_count": 50,
   "id": "588445f5-7d58-4ccb-8cce-19c06e09488c",
   "metadata": {},
   "outputs": [
    {
     "data": {
      "text/plain": [
       "63"
      ]
     },
     "execution_count": 50,
     "metadata": {},
     "output_type": "execute_result"
    }
   ],
   "source": [
    "import datetime\n",
    "# 현재 주차정보 가져오기\n",
    "currentTime = datetime.datetime.now()\n",
    "# 현재 시간 분 정보 가져오기\n",
    "currentHour = currentTime.hour\n",
    "currentMin = currentTime.minute\n",
    "# 결과\n",
    "answer = currentHour+currentMin\n",
    "answer"
   ]
  },
  {
   "cell_type": "markdown",
   "id": "6c823cd1-4b99-43f5-bc5f-0d729eff34d5",
   "metadata": {},
   "source": [
    "### 1-1-2. 문자열"
   ]
  },
  {
   "cell_type": "code",
   "execution_count": null,
   "id": "309811f7-bd85-472e-937c-0365f7daeaa1",
   "metadata": {},
   "outputs": [],
   "source": [
    "### 내가 무슨 문자가 들어오든 내가워하는 값을 추출할수 있고\n",
    "### 내가 원하는 문자를 붙일수있고."
   ]
  },
  {
   "cell_type": "code",
   "execution_count": 61,
   "id": "79a84722-cb9c-46d2-9447-02de6b726c56",
   "metadata": {},
   "outputs": [],
   "source": [
    "currentYear = \"2023\""
   ]
  },
  {
   "cell_type": "code",
   "execution_count": 62,
   "id": "e56043a2-b304-47c0-99ed-445f461a71f1",
   "metadata": {},
   "outputs": [],
   "source": [
    "currentWeek = \"1\""
   ]
  },
  {
   "cell_type": "code",
   "execution_count": 71,
   "id": "f08ed57b-076d-4bc9-a4ed-3aa9b04aaab0",
   "metadata": {},
   "outputs": [],
   "source": [
    "targetInfo = \"202301\""
   ]
  },
  {
   "cell_type": "code",
   "execution_count": 72,
   "id": "e9bfccbf-ac0c-453f-88a4-2daf8e19bb3a",
   "metadata": {},
   "outputs": [],
   "source": [
    "yearLenStd = 4"
   ]
  },
  {
   "cell_type": "code",
   "execution_count": 81,
   "id": "774d735a-2968-419f-aac8-1a541c8b046d",
   "metadata": {},
   "outputs": [
    {
     "data": {
      "text/plain": [
       "'2023'"
      ]
     },
     "execution_count": 81,
     "metadata": {},
     "output_type": "execute_result"
    }
   ],
   "source": [
    "yearInfo = targetInfo[0:yearLenStd]\n",
    "yearInfo"
   ]
  },
  {
   "cell_type": "code",
   "execution_count": 86,
   "id": "5344336b-fd7e-4bb2-8a0c-a2e7339bf264",
   "metadata": {},
   "outputs": [],
   "source": [
    "### 문자열 세기\n",
    "modelName = \"LEDTV_LEDTV_001\""
   ]
  },
  {
   "cell_type": "code",
   "execution_count": 87,
   "id": "424f98d0-c87d-45cf-be69-0b21d1a51c34",
   "metadata": {},
   "outputs": [],
   "source": [
    "prefix = \"LEDTV\""
   ]
  },
  {
   "cell_type": "code",
   "execution_count": 88,
   "id": "99b0a58c-2437-4c3c-8b62-ff4d8b6cf8cc",
   "metadata": {},
   "outputs": [
    {
     "data": {
      "text/plain": [
       "2"
      ]
     },
     "execution_count": 88,
     "metadata": {},
     "output_type": "execute_result"
    }
   ],
   "source": [
    "modelName.count(prefix)"
   ]
  },
  {
   "cell_type": "code",
   "execution_count": 89,
   "id": "2f3af0b8-e540-4d3a-8ca2-62711fd9f795",
   "metadata": {},
   "outputs": [],
   "source": [
    "yearweek = \"2023W01\""
   ]
  },
  {
   "cell_type": "code",
   "execution_count": 90,
   "id": "5bad262a-675c-4e47-9fe1-231e03a986a7",
   "metadata": {},
   "outputs": [],
   "source": [
    "delimeter = \"W\""
   ]
  },
  {
   "cell_type": "code",
   "execution_count": 92,
   "id": "f0c882c7-5862-42f4-9d4b-94d5bd66f71c",
   "metadata": {},
   "outputs": [],
   "source": [
    "delimeterIndex = yearweek.index(delimeter)"
   ]
  },
  {
   "cell_type": "code",
   "execution_count": 94,
   "id": "e169b49e-5222-4895-91dc-d61dfd79c9d2",
   "metadata": {},
   "outputs": [
    {
     "data": {
      "text/plain": [
       "'2023'"
      ]
     },
     "execution_count": 94,
     "metadata": {},
     "output_type": "execute_result"
    }
   ],
   "source": [
    "yearInfo = yearweek[:delimeterIndex]\n",
    "yearInfo"
   ]
  },
  {
   "cell_type": "code",
   "execution_count": 100,
   "id": "50e7d5c0-aefd-4067-bee5-7a714bde5508",
   "metadata": {},
   "outputs": [],
   "source": [
    "userInputId  = \"haiteam\""
   ]
  },
  {
   "cell_type": "code",
   "execution_count": 101,
   "id": "0401143f-1109-4208-8530-475b1c93e66e",
   "metadata": {},
   "outputs": [],
   "source": [
    "comSavedId  = \"HAITEAM\""
   ]
  },
  {
   "cell_type": "code",
   "execution_count": 103,
   "id": "aaadb170-cd61-401f-8469-7320170577ba",
   "metadata": {},
   "outputs": [
    {
     "data": {
      "text/plain": [
       "False"
      ]
     },
     "execution_count": 103,
     "metadata": {},
     "output_type": "execute_result"
    }
   ],
   "source": [
    "userInputId == comSavedId"
   ]
  },
  {
   "cell_type": "code",
   "execution_count": 107,
   "id": "d1d7643f-3bba-4036-a24a-ca90fac467c3",
   "metadata": {},
   "outputs": [],
   "source": [
    "inputYearWeek = \"2017W11\""
   ]
  },
  {
   "cell_type": "code",
   "execution_count": 108,
   "id": "7bb62275-07c4-4c93-91dd-00dd859597bf",
   "metadata": {},
   "outputs": [],
   "source": [
    "orgDelimeter = \"W\"\n",
    "newDelimeter = \"_\""
   ]
  },
  {
   "cell_type": "code",
   "execution_count": 109,
   "id": "f33949f9-4b21-4045-9ee3-8723525a4418",
   "metadata": {},
   "outputs": [
    {
     "data": {
      "text/plain": [
       "'2017_11'"
      ]
     },
     "execution_count": 109,
     "metadata": {},
     "output_type": "execute_result"
    }
   ],
   "source": [
    "inputYearWeek.replace(orgDelimeter,newDelimeter)"
   ]
  },
  {
   "cell_type": "code",
   "execution_count": 110,
   "id": "dbcd1799-47e5-47c4-bdce-62feaf99b53a",
   "metadata": {},
   "outputs": [
    {
     "data": {
      "text/plain": [
       "['2017', '11']"
      ]
     },
     "execution_count": 110,
     "metadata": {},
     "output_type": "execute_result"
    }
   ],
   "source": [
    "inputYearWeek.split(orgDelimeter)"
   ]
  },
  {
   "cell_type": "markdown",
   "id": "470cfed7-1cd1-4ab9-b61c-3ae62c4cf7fe",
   "metadata": {},
   "source": [
    "### 형변환!!!!"
   ]
  },
  {
   "cell_type": "code",
   "execution_count": 127,
   "id": "88b73ed4-f77c-4f46-8720-0f2c772313c9",
   "metadata": {},
   "outputs": [],
   "source": [
    "strData = \"202311\""
   ]
  },
  {
   "cell_type": "code",
   "execution_count": 128,
   "id": "49d8732d-51d3-4341-9fe2-35e9b0ae42eb",
   "metadata": {},
   "outputs": [
    {
     "data": {
      "text/plain": [
       "str"
      ]
     },
     "execution_count": 128,
     "metadata": {},
     "output_type": "execute_result"
    }
   ],
   "source": [
    "type(strData)"
   ]
  },
  {
   "cell_type": "code",
   "execution_count": 129,
   "id": "a3e94f5c-d293-47d4-bc02-46916db20141",
   "metadata": {},
   "outputs": [],
   "source": [
    "# 202311\n",
    "intData = int(strData ) "
   ]
  },
  {
   "cell_type": "code",
   "execution_count": 135,
   "id": "cad2f656-e3ee-455d-80bb-faba9f133d7a",
   "metadata": {},
   "outputs": [],
   "source": [
    "yearInfo = int( intData/100 )\n",
    "weekInfo = intData%100"
   ]
  },
  {
   "cell_type": "markdown",
   "id": "b8e4ec29-fc1b-4d86-9836-3884883d8590",
   "metadata": {},
   "source": [
    "### 1-1-3. 리스트"
   ]
  },
  {
   "cell_type": "code",
   "execution_count": 136,
   "id": "8f18fdc8-9442-4f1b-b096-691e53bcab06",
   "metadata": {},
   "outputs": [],
   "source": [
    "emptyList = []"
   ]
  },
  {
   "cell_type": "code",
   "execution_count": 138,
   "id": "b0652d9e-072f-44d3-a4d2-55572b70f783",
   "metadata": {},
   "outputs": [],
   "source": [
    "priceList=[110,220,330,440,550]"
   ]
  },
  {
   "cell_type": "code",
   "execution_count": 142,
   "id": "c1b03039-6da4-45ff-9a5d-fede67d9b7c0",
   "metadata": {},
   "outputs": [],
   "source": [
    "priceList[0] = 999"
   ]
  },
  {
   "cell_type": "code",
   "execution_count": 144,
   "id": "8cc02208-3c77-43a2-ad5f-5b4027547c5b",
   "metadata": {},
   "outputs": [],
   "source": [
    "priceList.remove(999)"
   ]
  },
  {
   "cell_type": "code",
   "execution_count": 146,
   "id": "72575547-21df-49ac-8ac9-92c0d23e985e",
   "metadata": {},
   "outputs": [],
   "source": [
    "newPrice=9999"
   ]
  },
  {
   "cell_type": "code",
   "execution_count": 147,
   "id": "160a3e8a-a30a-46c0-94cb-e8695d749ccf",
   "metadata": {},
   "outputs": [],
   "source": [
    "priceList.append(newPrice)"
   ]
  },
  {
   "cell_type": "code",
   "execution_count": 154,
   "id": "b841a4bf-6555-4c96-81c9-0356cd78cad3",
   "metadata": {},
   "outputs": [
    {
     "data": {
      "text/plain": [
       "220"
      ]
     },
     "execution_count": 154,
     "metadata": {},
     "output_type": "execute_result"
    }
   ],
   "source": [
    "# 리스트 길이 구하기 len min max sum\n",
    "min(priceList)"
   ]
  },
  {
   "cell_type": "markdown",
   "id": "c8bdbbfe-236d-4164-afdb-69368bd9e3e6",
   "metadata": {},
   "source": [
    "[120,150,300,500,1000,100,2000] \n",
    "값에서 최소 최대 값을 뺀 평균을\n",
    "average 이름의 변수에 담으세요"
   ]
  },
  {
   "cell_type": "code",
   "execution_count": 158,
   "id": "ac89e37d-5207-49dd-84d5-7bde81e02147",
   "metadata": {},
   "outputs": [],
   "source": [
    "targetList = [120,150,300,500,1000,100,2000]"
   ]
  },
  {
   "cell_type": "code",
   "execution_count": 161,
   "id": "f4f7f1ec-5732-4de4-ae16-10eb7dce5923",
   "metadata": {},
   "outputs": [
    {
     "name": "stdout",
     "output_type": "stream",
     "text": [
      "120 1000\n",
      "316.6666666666667\n"
     ]
    }
   ],
   "source": [
    "# Step1: 최소값 최대값을 구한다\n",
    "minValue = min(targetList)\n",
    "maxValue = max(targetList)\n",
    "print(minValue, maxValue)\n",
    "\n",
    "# Step2: 리스트에서 최소값 최대값을 제거한다.\n",
    "targetList.remove(minValue)\n",
    "targetList.remove(maxValue)\n",
    "targetList\n",
    "\n",
    "# Step3: 최종 리스트에서 평균을 구한다\n",
    "# 평균: 전체합/전체길이\n",
    "listSum = sum(targetList)\n",
    "listLen = len(targetList)\n",
    "\n",
    "answer = listSum/listLen\n",
    "print(answer)"
   ]
  },
  {
   "cell_type": "code",
   "execution_count": 165,
   "id": "702e4e08-c507-47e5-bee5-99c185833ba4",
   "metadata": {},
   "outputs": [],
   "source": [
    "a=5\n",
    "b=5"
   ]
  },
  {
   "cell_type": "code",
   "execution_count": 170,
   "id": "df698db1-2542-4c3d-85e5-3fe583debf2c",
   "metadata": {},
   "outputs": [
    {
     "data": {
      "text/plain": [
       "False"
      ]
     },
     "execution_count": 170,
     "metadata": {},
     "output_type": "execute_result"
    }
   ],
   "source": [
    "a != b"
   ]
  },
  {
   "cell_type": "markdown",
   "id": "e1e5ce14-cf35-409a-ba6b-fa604da0420a",
   "metadata": {},
   "source": [
    "### 반복문"
   ]
  },
  {
   "cell_type": "code",
   "execution_count": 199,
   "id": "3550f6aa-739f-45e6-be76-2892d6689aed",
   "metadata": {},
   "outputs": [],
   "source": [
    "tvList = [\"UN42001\",\"UN52001\",\"UN55001\"]"
   ]
  },
  {
   "cell_type": "code",
   "execution_count": 200,
   "id": "1cb64400-30d9-475e-adcd-fef11a8fc56a",
   "metadata": {},
   "outputs": [],
   "source": [
    "preFix = \"LEDTV_\""
   ]
  },
  {
   "cell_type": "code",
   "execution_count": 201,
   "id": "35bcf5c2-ca73-44a6-9006-2e19e475e06d",
   "metadata": {},
   "outputs": [],
   "source": [
    "tvListLen = len(tvList)"
   ]
  },
  {
   "cell_type": "markdown",
   "id": "019c2f7c-a595-4517-9877-3276b873ed02",
   "metadata": {},
   "source": [
    "### 디버깅"
   ]
  },
  {
   "cell_type": "code",
   "execution_count": 198,
   "id": "fa7644e1-6ee6-4e48-a627-edbb904ca0fd",
   "metadata": {},
   "outputs": [],
   "source": [
    "# i를 0에서2까지 반복하겠다!\n",
    "for i in range(0, tvListLen):\n",
    "    # 반복 구문\n",
    "    tvList[i] = preFix + tvList[i]"
   ]
  },
  {
   "cell_type": "code",
   "execution_count": 189,
   "id": "c4ccd577-f875-4776-ae9e-fda2e63799c2",
   "metadata": {},
   "outputs": [
    {
     "data": {
      "text/plain": [
       "['LEDTV_UN42001', 'LEDTV_UN52001', 'LEDTV_UN55001']"
      ]
     },
     "execution_count": 189,
     "metadata": {},
     "output_type": "execute_result"
    }
   ],
   "source": [
    "tvList"
   ]
  },
  {
   "cell_type": "code",
   "execution_count": 219,
   "id": "b02a0aa2-ca0f-4a15-aead-4e12ab4b7e55",
   "metadata": {},
   "outputs": [],
   "source": [
    "tvList = [\"UN42001\",\"UN52001\",\"UN55001\"]"
   ]
  },
  {
   "cell_type": "code",
   "execution_count": 220,
   "id": "efeec0bb-3ee9-41b4-87cc-5b69f7263fd7",
   "metadata": {},
   "outputs": [],
   "source": [
    "# for i in range(0, len(tvList)):"
   ]
  },
  {
   "cell_type": "code",
   "execution_count": 227,
   "id": "91d72c70-8df1-4b32-b74b-5ef651ab2ac1",
   "metadata": {},
   "outputs": [],
   "source": [
    "i=2"
   ]
  },
  {
   "cell_type": "code",
   "execution_count": 228,
   "id": "01943ac8-3469-4258-9bfb-b78534e06354",
   "metadata": {},
   "outputs": [],
   "source": [
    "# 반복 구문\n",
    "tvList[i] = preFix + tvList[i]\n",
    "i = i + 1"
   ]
  },
  {
   "cell_type": "code",
   "execution_count": 229,
   "id": "d1deda37-3771-490b-961d-e3129972257d",
   "metadata": {},
   "outputs": [
    {
     "data": {
      "text/plain": [
       "['LEDTV_UN42001', 'LEDTV_UN52001', 'LEDTV_UN55001']"
      ]
     },
     "execution_count": 229,
     "metadata": {},
     "output_type": "execute_result"
    }
   ],
   "source": [
    "tvList"
   ]
  },
  {
   "cell_type": "markdown",
   "id": "020d3559-e4f8-4ac2-a1c7-4e8c03d1ef41",
   "metadata": {},
   "source": [
    "### 실습"
   ]
  },
  {
   "cell_type": "code",
   "execution_count": 240,
   "id": "5108b17d-3456-48e6-8d9d-f40396c7327d",
   "metadata": {},
   "outputs": [],
   "source": [
    "import pandas as pd\n",
    "\n",
    "dataUrl = \"https://raw.githubusercontent.com/hyokwan/python-lecture/master/dataset/customerdata.csv\"\n",
    "\n",
    "csData = pd.read_csv(dataUrl)\n",
    "\n",
    "customerNumber = list( csData.CUSTID )\n",
    "\n",
    "### 문제 customerNumber 앞에 접두어 SEC_를 붙인다"
   ]
  }
 ],
 "metadata": {
  "kernelspec": {
   "display_name": "Python 3 (ipykernel)",
   "language": "python",
   "name": "python3"
  },
  "language_info": {
   "codemirror_mode": {
    "name": "ipython",
    "version": 3
   },
   "file_extension": ".py",
   "mimetype": "text/x-python",
   "name": "python",
   "nbconvert_exporter": "python",
   "pygments_lexer": "ipython3",
   "version": "3.9.7"
  }
 },
 "nbformat": 4,
 "nbformat_minor": 5
}
