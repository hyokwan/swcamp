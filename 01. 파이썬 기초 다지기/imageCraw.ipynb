{
 "cells": [
  {
   "cell_type": "markdown",
   "id": "08e9fddc-11ea-49e5-b12c-7c98299152f0",
   "metadata": {},
   "source": [
    "# 키워드 기반 구글 이미지 수집"
   ]
  },
  {
   "cell_type": "code",
   "execution_count": 16,
   "id": "8ff34dc7-3e1b-49ae-b9a1-c6ea1d6f2941",
   "metadata": {},
   "outputs": [],
   "source": [
    "# pip install webdriver_manager"
   ]
  },
  {
   "cell_type": "markdown",
   "id": "6443b40f-656f-4e64-9f48-4e78ec923f62",
   "metadata": {},
   "source": [
    "### 1. 라이브러리 선언"
   ]
  },
  {
   "cell_type": "code",
   "execution_count": 17,
   "id": "1e8055e2-c359-47cc-b83c-3098a50f35e6",
   "metadata": {},
   "outputs": [],
   "source": [
    "# 브라우저 자동화 라이브러리\n",
    "from selenium import webdriver\n",
    "from selenium.webdriver.chrome.service import Service\n",
    "from selenium.webdriver.chrome.options import Options\n",
    "from webdriver_manager.chrome import ChromeDriverManager\n",
    "from selenium.webdriver.common.by import By\n",
    "from selenium.webdriver.common.keys import Keys\n",
    "\n",
    "# 날짜계산 라이브러리 (파일명 생성용)\n",
    "from datetime import datetime\n",
    "import os, time\n",
    "\n",
    "# 웹 이미지 다운로드 위한 라이브러리\n",
    "import urllib.request"
   ]
  },
  {
   "cell_type": "code",
   "execution_count": 18,
   "id": "328443a2-781a-4265-85df-a4d6ede1b08b",
   "metadata": {},
   "outputs": [],
   "source": [
    "def createFolder(directory): \n",
    "    try: \n",
    "        if not os.path.exists(directory): \n",
    "            os.makedirs(directory) \n",
    "    except OSError: \n",
    "        print ('Error: Creating directory. ' + directory)"
   ]
  },
  {
   "cell_type": "markdown",
   "id": "72dd24e9-de89-4635-9c55-68ef6101a801",
   "metadata": {},
   "source": [
    "### 2. 키워드 및 저장폴더 설정"
   ]
  },
  {
   "cell_type": "code",
   "execution_count": 19,
   "id": "fb850e40-69e2-4c72-81fc-1b111818a3ea",
   "metadata": {},
   "outputs": [
    {
     "name": "stdout",
     "output_type": "stream",
     "text": [
      "./images/20221118_1449_고궁 낮\n"
     ]
    }
   ],
   "source": [
    "search_word = \"고궁 낮\"\n",
    "\n",
    "today_time = datetime.now().strftime(\"%Y%m%d_%H%M\")\n",
    "file_path = \"./images/\"\n",
    "\n",
    "# 최종저장 폴더 생성\n",
    "finalFolder = file_path + today_time + '_' + search_word\n",
    "createFolder(finalFolder)\n",
    "print(finalFolder)"
   ]
  },
  {
   "cell_type": "markdown",
   "id": "d300fc7f-0ab1-4eaf-818f-9a92fdffde37",
   "metadata": {},
   "source": [
    "### 3. 셀레니움 활용 브라우저 기동"
   ]
  },
  {
   "cell_type": "code",
   "execution_count": 20,
   "id": "1e1f698a-0504-4a5f-940a-ffdfd15fb6c3",
   "metadata": {},
   "outputs": [],
   "source": [
    "def setChromeDriver():\n",
    "    options = Options()\n",
    "    user_agent = 'Mozilla/5.0 (Windows NT 10.0; Win64; x64) AppleWebKit/537.36 (KHTML, like Gecko) Chrome/100.0.4896.75 Safari/537.36'\n",
    "    options.add_argument('user-agent=' + user_agent)\n",
    "    # options.add_argument('--headless')  # 웹 브라우저를 시각적으로 띄우지 않는 headless chrome 옵션\n",
    "    driver = webdriver.Chrome(service=Service(executable_path=ChromeDriverManager().install()), options=options)\n",
    "    return driver\n",
    "\n",
    "driver = setChromeDriver()"
   ]
  },
  {
   "cell_type": "markdown",
   "id": "1a2818af-f7c8-4618-ae5f-27e3ae2c347b",
   "metadata": {
    "tags": []
   },
   "source": [
    "### 4. 키워드 이미지 탐색"
   ]
  },
  {
   "cell_type": "code",
   "execution_count": 21,
   "id": "bc898572-ae01-4742-9b0b-40ac6725f9c6",
   "metadata": {},
   "outputs": [],
   "source": [
    "### 브라우저 오픈 및 구글 페이지로 이동\n",
    "url = 'https://www.google.co.kr'\n",
    "driver.get(url)\n",
    "time.sleep(3)\n",
    "\n",
    "### 검색키워드 입력\n",
    "searchBar = driver.find_element(By.XPATH, '/html/body/div[1]/div[3]/form/div[1]/div[1]/div[1]/div/div[2]/input')\n",
    "searchBar.send_keys(search_word)\n",
    "searchBar.send_keys(Keys.ENTER)\n",
    "\n",
    "### 이미지 찾기 전환\n",
    "imageTabXpath = '//*[@id=\"hdtb-msb\"]/div[1]/div/div[2]/a'\n",
    "driver.find_element(By.XPATH, imageTabXpath).click()  # 텍스트 메뉴 '이미지' 링크 클릭\n",
    "time.sleep(3)"
   ]
  },
  {
   "cell_type": "markdown",
   "id": "db3cb865-5b57-46c1-b40d-e5507225dd8a",
   "metadata": {},
   "source": [
    "### 5. 페이지 스크롤링"
   ]
  },
  {
   "cell_type": "code",
   "execution_count": 22,
   "id": "5c75ac62-ec80-41a5-8c0e-29d6cac5ed41",
   "metadata": {},
   "outputs": [
    {
     "name": "stdout",
     "output_type": "stream",
     "text": [
      "page_down_cnt= 1\n",
      "page_down_cnt= 2\n",
      "page_down_cnt= 3\n"
     ]
    }
   ],
   "source": [
    "elem = driver.find_element(By.TAG_NAME, 'body')\n",
    "page_height = driver.execute_script('return document.body.scrollHeight')\n",
    "pg_down_cnt = 1\n",
    "\n",
    "while True:\n",
    "    elem.send_keys(Keys.PAGE_DOWN)\n",
    "    time.sleep(3)\n",
    "    print(\"page_down_cnt= {}\".format(pg_down_cnt))\n",
    "    try:\n",
    "        pg_down_cnt = pg_down_cnt + 1 \n",
    "        driver.find_element(By.XPATH, '//*[@id=\"islmp\"]/div/div/div/div[1]/div[2]/div[2]/input').click()  # 결과 더보기 버튼 처리\n",
    "        print('결과 더보기 버튼 클릭 처리')\n",
    "    except:\n",
    "        if pg_down_cnt > 3: \n",
    "            break\n",
    "        continue"
   ]
  },
  {
   "cell_type": "markdown",
   "id": "1f5fda49-fdea-42da-9522-0fb3cccac67d",
   "metadata": {},
   "source": [
    "### 6. 작은 이미지 링크 수집"
   ]
  },
  {
   "cell_type": "code",
   "execution_count": 23,
   "id": "782926cf-fb36-4367-9ddb-09a2b32b34f5",
   "metadata": {},
   "outputs": [],
   "source": [
    "imgs = driver.find_elements(By.CLASS_NAME, \"rg_i\")"
   ]
  },
  {
   "cell_type": "markdown",
   "id": "3f54a5f1-8e79-482d-a101-6bd54f5a92f8",
   "metadata": {},
   "source": [
    "### 7. 실제 이미지 링크 수집"
   ]
  },
  {
   "cell_type": "code",
   "execution_count": 24,
   "id": "38087b41-6315-41e7-b4da-104a2fb8bfda",
   "metadata": {},
   "outputs": [],
   "source": [
    "count = 1\n",
    "img_src = []\n",
    "\n",
    "for i in range(0, len(imgs)):\n",
    "    img = imgs[i]\n",
    "    img.click()  # 이미지 클릭 시 display 되는 url을 찾기 위해 클릭함\n",
    "    try:\n",
    "        bigImgXpath = '//*[@id=\"Sva75c\"]/div/div/div[3]/div[2]/c-wiz/div/div[1]/div[1]/div[3]/div/a/img'\n",
    "        actualImgTag = driver.find_element(By.XPATH, bigImgXpath)\n",
    "    except Exception:\n",
    "        continue\n",
    "        \n",
    "    time.sleep(1)\n",
    "    actualImgSrc = actualImgTag.get_attribute('src')\n",
    "\n",
    "    if actualImgSrc[:4] != 'http':\n",
    "        continue\n",
    "\n",
    "    print(count, actualImgSrc, '\\n')\n",
    "\n",
    "    img_src.append(actualImgSrc)     \n",
    "    count = count + 1"
   ]
  },
  {
   "cell_type": "markdown",
   "id": "19761a2f-9602-4fa5-850d-25e08227e629",
   "metadata": {
    "tags": []
   },
   "source": [
    "### 8. 이미지 파일 다운로드"
   ]
  },
  {
   "cell_type": "code",
   "execution_count": 25,
   "id": "7c2e11ad-78e6-4bb4-a026-178073c1df9a",
   "metadata": {},
   "outputs": [],
   "source": [
    "finalImgLen = len(img_src)"
   ]
  },
  {
   "cell_type": "code",
   "execution_count": 26,
   "id": "abd90ec0-e740-4fe6-b4fc-4140c8c35c32",
   "metadata": {},
   "outputs": [],
   "source": [
    "cnt=0\n",
    "\n",
    "for i in range(0, finalImgLen):\n",
    "\n",
    "    bigImage_url = img_src[i]\n",
    "    file_ext = bigImage_url.split('.')[-1]\n",
    "    if( file_ext in ['jpg', 'jpeg', 'png', 'gif', 'bmp']):\n",
    "        file_ext = \".\" + file_ext\n",
    "        pass\n",
    "    else:\n",
    "        file_ext = \".jpg\"\n",
    "    \n",
    "    try:\n",
    "        filename = search_word + str(i).zfill(3) + file_ext\n",
    "        # 파일을 디렉토리에 저장\n",
    "        urllib.request.urlretrieve(bigImage_url, finalFolder + '/' + filename)\n",
    "        cnt = cnt + 1 \n",
    "        print( \"{} 완료\".format(cnt) )\n",
    "    except Exception as e:\n",
    "        print(i, e)"
   ]
  },
  {
   "cell_type": "code",
   "execution_count": null,
   "id": "f8b2181f-de80-480d-9135-5000396e8124",
   "metadata": {},
   "outputs": [],
   "source": []
  }
 ],
 "metadata": {
  "kernelspec": {
   "display_name": "Python 3 (ipykernel)",
   "language": "python",
   "name": "python3"
  },
  "language_info": {
   "codemirror_mode": {
    "name": "ipython",
    "version": 3
   },
   "file_extension": ".py",
   "mimetype": "text/x-python",
   "name": "python",
   "nbconvert_exporter": "python",
   "pygments_lexer": "ipython3",
   "version": "3.9.7"
  }
 },
 "nbformat": 4,
 "nbformat_minor": 5
}
