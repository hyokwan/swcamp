{
 "cells": [
  {
   "cell_type": "code",
   "execution_count": 3,
   "id": "18b28451-f070-426c-b280-6ec60bb24d2a",
   "metadata": {},
   "outputs": [
    {
     "data": {
      "text/plain": [
       "[0, 2, 4]"
      ]
     },
     "execution_count": 3,
     "metadata": {},
     "output_type": "execute_result"
    }
   ],
   "source": [
    "list( range(0,5,2) )"
   ]
  },
  {
   "cell_type": "code",
   "execution_count": 4,
   "id": "ffda3dfa-15e2-496d-aa91-067dc8e49642",
   "metadata": {},
   "outputs": [],
   "source": [
    "import datetime"
   ]
  },
  {
   "cell_type": "code",
   "execution_count": 7,
   "id": "1161a925-f537-45f2-a7b7-ad8895b8bab8",
   "metadata": {},
   "outputs": [],
   "source": [
    "currentDate = datetime.datetime.now()"
   ]
  },
  {
   "cell_type": "code",
   "execution_count": 10,
   "id": "78fcbcdc-665f-47e8-b214-a4eb1c4b05c6",
   "metadata": {},
   "outputs": [],
   "source": [
    "currentYear = currentDate.year"
   ]
  },
  {
   "cell_type": "code",
   "execution_count": 11,
   "id": "f890808e-0ffd-4ce0-8658-721b106a737c",
   "metadata": {},
   "outputs": [],
   "source": [
    "targetPeriods = 20"
   ]
  },
  {
   "cell_type": "code",
   "execution_count": 13,
   "id": "8794f00c-dd72-47d1-8e9d-d03e97085ea1",
   "metadata": {
    "scrolled": true,
    "tags": []
   },
   "outputs": [
    {
     "data": {
      "text/plain": [
       "[2023,\n",
       " 2024,\n",
       " 2025,\n",
       " 2026,\n",
       " 2027,\n",
       " 2028,\n",
       " 2029,\n",
       " 2030,\n",
       " 2031,\n",
       " 2032,\n",
       " 2033,\n",
       " 2034,\n",
       " 2035,\n",
       " 2036,\n",
       " 2037,\n",
       " 2038,\n",
       " 2039,\n",
       " 2040,\n",
       " 2041,\n",
       " 2042]"
      ]
     },
     "execution_count": 13,
     "metadata": {},
     "output_type": "execute_result"
    }
   ],
   "source": [
    "list ( range(currentYear, currentYear+targetPeriods) )"
   ]
  },
  {
   "cell_type": "markdown",
   "id": "bd1d4c82-4574-4a3e-ba78-1506c1187c90",
   "metadata": {},
   "source": [
    "### 반복문 무한루프"
   ]
  },
  {
   "cell_type": "code",
   "execution_count": 14,
   "id": "6e0c66a2-9571-477a-acf4-bcfa5307d860",
   "metadata": {},
   "outputs": [],
   "source": [
    "targetList = [\"LEDTV_001\",\"LEDTV_002\",\"LEDTV_003\"]"
   ]
  },
  {
   "cell_type": "code",
   "execution_count": 15,
   "id": "9872dd00-0e9e-4772-8c73-360a5108216c",
   "metadata": {},
   "outputs": [
    {
     "name": "stdout",
     "output_type": "stream",
     "text": [
      "LEDTV_001\n",
      "LEDTV_002\n",
      "LEDTV_003\n"
     ]
    }
   ],
   "source": [
    "print(targetList[0])\n",
    "print(targetList[1])\n",
    "print(targetList[2])"
   ]
  },
  {
   "cell_type": "code",
   "execution_count": 16,
   "id": "54a91f28-fadc-413c-b924-a1a8df2ac005",
   "metadata": {},
   "outputs": [
    {
     "name": "stdout",
     "output_type": "stream",
     "text": [
      "LEDTV_001\n",
      "LEDTV_002\n",
      "LEDTV_003\n"
     ]
    }
   ],
   "source": [
    "# for문 헤더 생성 구문을 tab으로 들여쓰기 한다\n",
    "# 반복되는 인덱스 번호를 반복변수로 변환한다\n",
    "for i in range(0, len(targetList)):\n",
    "    print(targetList[i])"
   ]
  },
  {
   "cell_type": "code",
   "execution_count": 4,
   "id": "518f9f64-d194-4a93-8160-3eee90d713d9",
   "metadata": {},
   "outputs": [],
   "source": [
    "targetList = [\"LEDTV_001\",\"LEDTV_002\",\"LEDTV_003\"]"
   ]
  },
  {
   "cell_type": "code",
   "execution_count": 5,
   "id": "6e56c1b1-6edf-4e53-97b0-a3c57a3b7431",
   "metadata": {},
   "outputs": [],
   "source": [
    "i=0"
   ]
  },
  {
   "cell_type": "code",
   "execution_count": 6,
   "id": "b8e1f060-32b0-4005-829e-8666ed2d8a1c",
   "metadata": {},
   "outputs": [
    {
     "name": "stdout",
     "output_type": "stream",
     "text": [
      "LEDTV_001\n",
      "LEDTV_002\n",
      "LEDTV_003\n"
     ]
    }
   ],
   "source": [
    "while( i < len(targetList) ):\n",
    "    print(targetList[i])\n",
    "    # 안쓰면 무한루프\n",
    "    i = i+1"
   ]
  },
  {
   "cell_type": "markdown",
   "id": "2979ee61-ab50-45e3-a4d7-cc7a6108cdf9",
   "metadata": {},
   "source": [
    "### 1-2. 조건문"
   ]
  },
  {
   "cell_type": "code",
   "execution_count": 28,
   "id": "f0ae2037-bc83-4e45-aff4-a7166503fa3d",
   "metadata": {},
   "outputs": [],
   "source": [
    "targetModel = \"UN52_001\"\n",
    "preFix = \"LEDTV_\""
   ]
  },
  {
   "cell_type": "code",
   "execution_count": 29,
   "id": "fdf9cc2b-4246-4d58-8a2d-255ada572fe8",
   "metadata": {},
   "outputs": [],
   "source": [
    "delimeter = \"_\"\n",
    "outCode = \"99999\"\n",
    "recallSerial = \"001\""
   ]
  },
  {
   "cell_type": "code",
   "execution_count": 30,
   "id": "c5759f97-ff97-4a31-ab9f-2f1f6aa62337",
   "metadata": {},
   "outputs": [],
   "source": [
    "# 접두어가 있으면 접두어를 붙인다.\n",
    "# 시리얼번호가 끝자리 001인 경우 모델코드 99999 으로 변경\n",
    "if targetModel.split(delimeter)[1] == recallSerial:\n",
    "    targetModel = outCode\n",
    "elif targetModel.count(preFix) == 0:\n",
    "    targetModel = preFix + targetModel\n",
    "else:\n",
    "    pass"
   ]
  },
  {
   "cell_type": "code",
   "execution_count": 31,
   "id": "53d47791-8e04-4863-a873-8988718e75bb",
   "metadata": {},
   "outputs": [
    {
     "data": {
      "text/plain": [
       "'99999'"
      ]
     },
     "execution_count": 31,
     "metadata": {},
     "output_type": "execute_result"
    }
   ],
   "source": [
    "targetModel"
   ]
  },
  {
   "cell_type": "code",
   "execution_count": null,
   "id": "bc0f9ee9-f2d7-4782-a200-f6555f423434",
   "metadata": {},
   "outputs": [],
   "source": []
  }
 ],
 "metadata": {
  "kernelspec": {
   "display_name": "Python 3 (ipykernel)",
   "language": "python",
   "name": "python3"
  },
  "language_info": {
   "codemirror_mode": {
    "name": "ipython",
    "version": 3
   },
   "file_extension": ".py",
   "mimetype": "text/x-python",
   "name": "python",
   "nbconvert_exporter": "python",
   "pygments_lexer": "ipython3",
   "version": "3.9.7"
  }
 },
 "nbformat": 4,
 "nbformat_minor": 5
}
