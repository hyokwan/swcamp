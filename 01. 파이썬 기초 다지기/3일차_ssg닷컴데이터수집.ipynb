{
 "cells": [
  {
   "cell_type": "markdown",
   "id": "8388c241-6898-40f2-a6bf-d3e77bf64a3c",
   "metadata": {},
   "source": [
    "### 웹페이지 데이터 수집 (ssg.com)"
   ]
  },
  {
   "cell_type": "markdown",
   "id": "42745577-8bfa-433a-bf35-3fe07bac917e",
   "metadata": {},
   "source": [
    "### 라이브러리 선언"
   ]
  },
  {
   "cell_type": "code",
   "execution_count": 2,
   "id": "e9068b35-d176-4dd4-a88c-1d2c7838c764",
   "metadata": {},
   "outputs": [],
   "source": [
    "# 데이터 처리용 라이브러리\n",
    "import pandas as pd\n",
    "# 웹페이지 접속 라이브러리\n",
    "import requests\n",
    "# 웹페이지소스 이쁘게 수집하는 라이브러리\n",
    "import bs4"
   ]
  },
  {
   "cell_type": "code",
   "execution_count": 91,
   "id": "a91fc74f-c910-4cb5-b279-de299ee35194",
   "metadata": {},
   "outputs": [],
   "source": [
    "page = 1"
   ]
  },
  {
   "cell_type": "code",
   "execution_count": 92,
   "id": "64664fa7-7ec6-49cd-805d-8e8b1413926a",
   "metadata": {},
   "outputs": [],
   "source": [
    "pageList = []"
   ]
  },
  {
   "cell_type": "code",
   "execution_count": 93,
   "id": "166c26f4-d5d7-491a-b054-7059af7990f2",
   "metadata": {},
   "outputs": [],
   "source": [
    "MAXPAGE = 1000000"
   ]
  },
  {
   "cell_type": "code",
   "execution_count": null,
   "id": "ebee0c67-78b9-4b77-94ee-baadb9a603d7",
   "metadata": {},
   "outputs": [
    {
     "name": "stdout",
     "output_type": "stream",
     "text": [
      "페이지 수집완료 : 1\n",
      "페이지 수집완료 : 2\n",
      "페이지 수집완료 : 3\n",
      "페이지 수집완료 : 4\n",
      "페이지 수집완료 : 5\n",
      "페이지 수집완료 : 6\n",
      "페이지 수집완료 : 7\n",
      "페이지 수집완료 : 8\n",
      "페이지 수집완료 : 9\n",
      "페이지 수집완료 : 10\n",
      "'NoneType' object has no attribute 'findAll'\n",
      "'NoneType' object has no attribute 'findAll'\n",
      "'NoneType' object has no attribute 'findAll'\n",
      "'NoneType' object has no attribute 'findAll'\n",
      "'NoneType' object has no attribute 'findAll'\n",
      "'NoneType' object has no attribute 'findAll'\n",
      "'NoneType' object has no attribute 'findAll'\n",
      "'NoneType' object has no attribute 'findAll'\n",
      "'NoneType' object has no attribute 'findAll'\n",
      "'NoneType' object has no attribute 'findAll'\n",
      "'NoneType' object has no attribute 'findAll'\n",
      "'NoneType' object has no attribute 'findAll'\n",
      "'NoneType' object has no attribute 'findAll'\n",
      "'NoneType' object has no attribute 'findAll'\n",
      "'NoneType' object has no attribute 'findAll'\n",
      "'NoneType' object has no attribute 'findAll'\n",
      "'NoneType' object has no attribute 'findAll'\n",
      "'NoneType' object has no attribute 'findAll'\n",
      "'NoneType' object has no attribute 'findAll'\n",
      "'NoneType' object has no attribute 'findAll'\n",
      "'NoneType' object has no attribute 'findAll'\n",
      "'NoneType' object has no attribute 'findAll'\n",
      "'NoneType' object has no attribute 'findAll'\n",
      "'NoneType' object has no attribute 'findAll'\n",
      "'NoneType' object has no attribute 'findAll'\n",
      "'NoneType' object has no attribute 'findAll'\n",
      "'NoneType' object has no attribute 'findAll'\n",
      "'NoneType' object has no attribute 'findAll'\n",
      "'NoneType' object has no attribute 'findAll'\n",
      "'NoneType' object has no attribute 'findAll'\n",
      "'NoneType' object has no attribute 'findAll'\n",
      "'NoneType' object has no attribute 'findAll'\n",
      "'NoneType' object has no attribute 'findAll'\n",
      "'NoneType' object has no attribute 'findAll'\n",
      "'NoneType' object has no attribute 'findAll'\n",
      "'NoneType' object has no attribute 'findAll'\n",
      "'NoneType' object has no attribute 'findAll'\n"
     ]
    }
   ],
   "source": [
    "for page in range(1, MAXPAGE):\n",
    "\n",
    "    try:\n",
    "        ### 1. 페이지 접속\n",
    "\n",
    "        targetUrl = \"https://www.ssg.com/search.ssg?target=all&query=%EA%B3%84%EB%9E%80&page={}\".format(page)\n",
    "\n",
    "        # 추가실습 풀 경우 해당 코드로 웹사이트 접근\n",
    "        user_agent = 'Mozilla/5.0 (Windows NT 10.0; Win64; x64) AppleWebKit/537.36 (KHTML, like Gecko) Chrome/100.0.4896.75 Safari/537.36'\n",
    "        resp = requests.get(targetUrl,headers = {'User-Agent':user_agent} )\n",
    "\n",
    "        bsobj = bs4.BeautifulSoup( resp.text, \"html.parser\" )\n",
    "\n",
    "        ### 추가로직 (페이지 없음 처리)\n",
    "        endResult = bsobj.find(name=\"div\", attrs={\"class\":\"csrch_tip\"})\n",
    "        if ( endResult != None ) :\n",
    "            break\n",
    "        else:\n",
    "            pass\n",
    "\n",
    "        ### 2. 원하는 데이터 정보 범위 축소\n",
    "\n",
    "        scope=bsobj.find(name=\"div\",  attrs={\"class\":\"cunit_lst_v\"})\n",
    "\n",
    "        lis = scope.findAll(name=\"li\")\n",
    "\n",
    "        ### 3. 데이터 수집\n",
    "\n",
    "        productList = []\n",
    "        productPriceList = []\n",
    "\n",
    "        for i in range(0, len(lis)):\n",
    "\n",
    "            eachProductName = lis[i].find(name=\"img\").attrs[\"alt\"]\n",
    "            eachProductPrice = lis[i].find(name=\"em\", attrs={\"class\":\"ssg_price\"}).text\n",
    "\n",
    "            productList.append(eachProductName)\n",
    "            productPriceList.append(eachProductPrice)\n",
    "\n",
    "        finalDf = pd.DataFrame( zip(productList, productPriceList) )\n",
    "        pageList.append(finalDf)\n",
    "        print(\"페이지 수집완료 : {}\".format(page))\n",
    "    except Exception as e:\n",
    "        print(e)"
   ]
  }
 ],
 "metadata": {
  "kernelspec": {
   "display_name": "Python 3 (ipykernel)",
   "language": "python",
   "name": "python3"
  },
  "language_info": {
   "codemirror_mode": {
    "name": "ipython",
    "version": 3
   },
   "file_extension": ".py",
   "mimetype": "text/x-python",
   "name": "python",
   "nbconvert_exporter": "python",
   "pygments_lexer": "ipython3",
   "version": "3.9.7"
  }
 },
 "nbformat": 4,
 "nbformat_minor": 5
}
